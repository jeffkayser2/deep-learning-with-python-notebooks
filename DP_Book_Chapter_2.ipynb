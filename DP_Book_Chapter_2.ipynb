{
  "nbformat": 4,
  "nbformat_minor": 0,
  "metadata": {
    "colab": {
      "provenance": [],
      "authorship_tag": "ABX9TyMD1e0v84hRScg5tgkE1wPZ",
      "include_colab_link": true
    },
    "kernelspec": {
      "name": "python3",
      "display_name": "Python 3"
    },
    "language_info": {
      "name": "python"
    }
  },
  "cells": [
    {
      "cell_type": "markdown",
      "metadata": {
        "id": "view-in-github",
        "colab_type": "text"
      },
      "source": [
        "<a href=\"https://colab.research.google.com/github/jeffkayser2/deep-learning-with-python-notebooks/blob/master/DP_Book_Chapter_2.ipynb\" target=\"_parent\"><img src=\"https://colab.research.google.com/assets/colab-badge.svg\" alt=\"Open In Colab\"/></a>"
      ]
    },
    {
      "cell_type": "code",
      "execution_count": 1,
      "metadata": {
        "colab": {
          "base_uri": "https://localhost:8080/"
        },
        "id": "CzOQN67UwTXs",
        "outputId": "8eda76ce-7145-42b8-b894-59f47b44678a"
      },
      "outputs": [
        {
          "output_type": "stream",
          "name": "stdout",
          "text": [
            "Downloading data from https://storage.googleapis.com/tensorflow/tf-keras-datasets/mnist.npz\n",
            "\u001b[1m11490434/11490434\u001b[0m \u001b[32m━━━━━━━━━━━━━━━━━━━━\u001b[0m\u001b[37m\u001b[0m \u001b[1m0s\u001b[0m 0us/step\n"
          ]
        }
      ],
      "source": [
        "from tensorflow.keras.datasets import mnist\n",
        "(train_images, train_labels), (test_images, test_labels) = mnist.load_data()"
      ]
    },
    {
      "cell_type": "code",
      "source": [
        "train_images.shape"
      ],
      "metadata": {
        "colab": {
          "base_uri": "https://localhost:8080/"
        },
        "id": "HQ7T9iGPw30A",
        "outputId": "12eec89b-8673-474a-faf4-5cd2a73b507e"
      },
      "execution_count": 6,
      "outputs": [
        {
          "output_type": "execute_result",
          "data": {
            "text/plain": [
              "(60000, 28, 28)"
            ]
          },
          "metadata": {},
          "execution_count": 6
        }
      ]
    },
    {
      "cell_type": "code",
      "source": [
        "len(train_images)"
      ],
      "metadata": {
        "colab": {
          "base_uri": "https://localhost:8080/"
        },
        "id": "48uEhUmFw7BB",
        "outputId": "233c9fde-1fb3-49fa-dc7f-78bfc71da651"
      },
      "execution_count": 7,
      "outputs": [
        {
          "output_type": "execute_result",
          "data": {
            "text/plain": [
              "60000"
            ]
          },
          "metadata": {},
          "execution_count": 7
        }
      ]
    },
    {
      "cell_type": "code",
      "source": [
        "train_labels"
      ],
      "metadata": {
        "colab": {
          "base_uri": "https://localhost:8080/"
        },
        "id": "wOVTItSzxRYl",
        "outputId": "0cf92ef0-9e1f-48ac-90f9-ee1e328384d9"
      },
      "execution_count": 8,
      "outputs": [
        {
          "output_type": "execute_result",
          "data": {
            "text/plain": [
              "array([5, 0, 4, ..., 5, 6, 8], dtype=uint8)"
            ]
          },
          "metadata": {},
          "execution_count": 8
        }
      ]
    },
    {
      "cell_type": "code",
      "source": [
        "train_labels.shape"
      ],
      "metadata": {
        "colab": {
          "base_uri": "https://localhost:8080/"
        },
        "id": "tvzJsM8-xTp0",
        "outputId": "a5c8c85b-fe43-4a58-8209-af4157ae94b5"
      },
      "execution_count": 9,
      "outputs": [
        {
          "output_type": "execute_result",
          "data": {
            "text/plain": [
              "(60000,)"
            ]
          },
          "metadata": {},
          "execution_count": 9
        }
      ]
    },
    {
      "cell_type": "code",
      "source": [
        "test_images.shape"
      ],
      "metadata": {
        "colab": {
          "base_uri": "https://localhost:8080/"
        },
        "id": "S65z1hdwxYdC",
        "outputId": "251fff21-930d-4822-f925-e5df7df4d3f2"
      },
      "execution_count": 11,
      "outputs": [
        {
          "output_type": "execute_result",
          "data": {
            "text/plain": [
              "(10000, 28, 28)"
            ]
          },
          "metadata": {},
          "execution_count": 11
        }
      ]
    },
    {
      "cell_type": "code",
      "source": [
        "len(test_images)"
      ],
      "metadata": {
        "colab": {
          "base_uri": "https://localhost:8080/"
        },
        "id": "8C88wjQXxbF1",
        "outputId": "aaa83108-5ab3-4681-88ba-68acd2b3595b"
      },
      "execution_count": 12,
      "outputs": [
        {
          "output_type": "execute_result",
          "data": {
            "text/plain": [
              "10000"
            ]
          },
          "metadata": {},
          "execution_count": 12
        }
      ]
    },
    {
      "cell_type": "code",
      "source": [
        "test_labels"
      ],
      "metadata": {
        "colab": {
          "base_uri": "https://localhost:8080/"
        },
        "id": "HkTVJNlixjKH",
        "outputId": "1cd09853-ae70-4b89-a62b-9a7d0e42ba67"
      },
      "execution_count": 13,
      "outputs": [
        {
          "output_type": "execute_result",
          "data": {
            "text/plain": [
              "array([7, 2, 1, ..., 4, 5, 6], dtype=uint8)"
            ]
          },
          "metadata": {},
          "execution_count": 13
        }
      ]
    },
    {
      "cell_type": "code",
      "source": [
        "from tensorflow import keras\n",
        "from tensorflow.keras import layers\n",
        "model = keras.Sequential([\n",
        "    layers.Dense(512, activation=\"relu\"),\n",
        "    layers.Dense(10, activation=\"softmax\")\n",
        "])"
      ],
      "metadata": {
        "id": "52tNk-X2xmsL"
      },
      "execution_count": 14,
      "outputs": []
    },
    {
      "cell_type": "code",
      "source": [
        "model"
      ],
      "metadata": {
        "colab": {
          "base_uri": "https://localhost:8080/"
        },
        "id": "arwhM2jtyIsj",
        "outputId": "ff385dfe-593c-4ac9-912c-e8520f2205f5"
      },
      "execution_count": 15,
      "outputs": [
        {
          "output_type": "execute_result",
          "data": {
            "text/plain": [
              "<Sequential name=sequential, built=False>"
            ]
          },
          "metadata": {},
          "execution_count": 15
        }
      ]
    },
    {
      "cell_type": "code",
      "source": [
        "model.compile(optimizer=\"rmsprop\",\n",
        "              loss=\"sparse_categorical_crossentropy\",\n",
        "              metrics=[\"accuracy\"])\n"
      ],
      "metadata": {
        "id": "93Awc7CRyJvN"
      },
      "execution_count": 18,
      "outputs": []
    },
    {
      "cell_type": "code",
      "source": [
        "model"
      ],
      "metadata": {
        "colab": {
          "base_uri": "https://localhost:8080/"
        },
        "id": "0l6YHkucykqj",
        "outputId": "17369478-e0d3-4578-fabb-0b82f2c5c18b"
      },
      "execution_count": 19,
      "outputs": [
        {
          "output_type": "execute_result",
          "data": {
            "text/plain": [
              "<Sequential name=sequential, built=False>"
            ]
          },
          "metadata": {},
          "execution_count": 19
        }
      ]
    },
    {
      "cell_type": "code",
      "source": [
        "train_images = train_images.reshape((60000, 28 * 28))\n",
        "train_images = train_images.astype(\"float32\") / 255\n",
        "test_images = test_images.reshape((10000, 28 * 28))\n",
        "test_images = test_images.astype(\"float32\") / 255\n"
      ],
      "metadata": {
        "id": "EQ6t5D8myxZm"
      },
      "execution_count": 20,
      "outputs": []
    },
    {
      "cell_type": "code",
      "source": [
        "test_images"
      ],
      "metadata": {
        "colab": {
          "base_uri": "https://localhost:8080/"
        },
        "id": "OE3ajC53zMBy",
        "outputId": "d8eada03-738d-4126-bed3-642f065e39c1"
      },
      "execution_count": 21,
      "outputs": [
        {
          "output_type": "execute_result",
          "data": {
            "text/plain": [
              "array([[0., 0., 0., ..., 0., 0., 0.],\n",
              "       [0., 0., 0., ..., 0., 0., 0.],\n",
              "       [0., 0., 0., ..., 0., 0., 0.],\n",
              "       ...,\n",
              "       [0., 0., 0., ..., 0., 0., 0.],\n",
              "       [0., 0., 0., ..., 0., 0., 0.],\n",
              "       [0., 0., 0., ..., 0., 0., 0.]], dtype=float32)"
            ]
          },
          "metadata": {},
          "execution_count": 21
        }
      ]
    },
    {
      "cell_type": "code",
      "source": [
        "test_images.shape"
      ],
      "metadata": {
        "colab": {
          "base_uri": "https://localhost:8080/"
        },
        "id": "HsgUA6swzNvv",
        "outputId": "b220c1ef-76f4-414c-81fb-abb3add513e9"
      },
      "execution_count": 22,
      "outputs": [
        {
          "output_type": "execute_result",
          "data": {
            "text/plain": [
              "(10000, 784)"
            ]
          },
          "metadata": {},
          "execution_count": 22
        }
      ]
    },
    {
      "cell_type": "code",
      "source": [
        "train_images.shape"
      ],
      "metadata": {
        "colab": {
          "base_uri": "https://localhost:8080/"
        },
        "id": "5I47yf72zQ0n",
        "outputId": "d4362d23-ceac-430c-96a2-bc856990102a"
      },
      "execution_count": 23,
      "outputs": [
        {
          "output_type": "execute_result",
          "data": {
            "text/plain": [
              "(60000, 784)"
            ]
          },
          "metadata": {},
          "execution_count": 23
        }
      ]
    },
    {
      "cell_type": "code",
      "source": [
        "model.fit(train_images, train_labels, epochs=5, batch_size=128)\n"
      ],
      "metadata": {
        "colab": {
          "base_uri": "https://localhost:8080/"
        },
        "id": "VeCj_rKZzSz2",
        "outputId": "d54e6fdf-8975-4885-ef6a-35a88491c90a"
      },
      "execution_count": 24,
      "outputs": [
        {
          "output_type": "stream",
          "name": "stdout",
          "text": [
            "Epoch 1/5\n",
            "\u001b[1m469/469\u001b[0m \u001b[32m━━━━━━━━━━━━━━━━━━━━\u001b[0m\u001b[37m\u001b[0m \u001b[1m7s\u001b[0m 13ms/step - accuracy: 0.8724 - loss: 0.4439\n",
            "Epoch 2/5\n",
            "\u001b[1m469/469\u001b[0m \u001b[32m━━━━━━━━━━━━━━━━━━━━\u001b[0m\u001b[37m\u001b[0m \u001b[1m9s\u001b[0m 10ms/step - accuracy: 0.9664 - loss: 0.1165\n",
            "Epoch 3/5\n",
            "\u001b[1m469/469\u001b[0m \u001b[32m━━━━━━━━━━━━━━━━━━━━\u001b[0m\u001b[37m\u001b[0m \u001b[1m6s\u001b[0m 12ms/step - accuracy: 0.9787 - loss: 0.0719\n",
            "Epoch 4/5\n",
            "\u001b[1m469/469\u001b[0m \u001b[32m━━━━━━━━━━━━━━━━━━━━\u001b[0m\u001b[37m\u001b[0m \u001b[1m10s\u001b[0m 12ms/step - accuracy: 0.9859 - loss: 0.0515\n",
            "Epoch 5/5\n",
            "\u001b[1m469/469\u001b[0m \u001b[32m━━━━━━━━━━━━━━━━━━━━\u001b[0m\u001b[37m\u001b[0m \u001b[1m9s\u001b[0m 11ms/step - accuracy: 0.9889 - loss: 0.0381\n"
          ]
        },
        {
          "output_type": "execute_result",
          "data": {
            "text/plain": [
              "<keras.src.callbacks.history.History at 0x7899a16b62d0>"
            ]
          },
          "metadata": {},
          "execution_count": 24
        }
      ]
    },
    {
      "cell_type": "code",
      "source": [
        "test_digits = test_images[0:10]\n",
        "test_digits.shape"
      ],
      "metadata": {
        "colab": {
          "base_uri": "https://localhost:8080/"
        },
        "id": "NhvMpEIYzfqB",
        "outputId": "1d947410-cd8b-402c-ce6a-3b935b80d59a"
      },
      "execution_count": 25,
      "outputs": [
        {
          "output_type": "execute_result",
          "data": {
            "text/plain": [
              "(10, 784)"
            ]
          },
          "metadata": {},
          "execution_count": 25
        }
      ]
    },
    {
      "cell_type": "code",
      "source": [
        "predictions = model.predict(test_digits)\n",
        "predictions"
      ],
      "metadata": {
        "colab": {
          "base_uri": "https://localhost:8080/"
        },
        "id": "y-RmN9v3z3D3",
        "outputId": "d58c66d9-970e-490c-973a-0c6dec036873"
      },
      "execution_count": 26,
      "outputs": [
        {
          "output_type": "stream",
          "name": "stdout",
          "text": [
            "\u001b[1m1/1\u001b[0m \u001b[32m━━━━━━━━━━━━━━━━━━━━\u001b[0m\u001b[37m\u001b[0m \u001b[1m0s\u001b[0m 68ms/step\n"
          ]
        },
        {
          "output_type": "execute_result",
          "data": {
            "text/plain": [
              "array([[8.55681748e-09, 4.45248061e-09, 6.00789826e-06, 8.04824776e-06,\n",
              "        5.83788313e-12, 7.91086876e-08, 2.23415944e-13, 9.99985278e-01,\n",
              "        8.13545569e-08, 3.91656926e-07],\n",
              "       [4.15676737e-08, 2.56618023e-05, 9.99961913e-01, 1.10903193e-05,\n",
              "        7.44508215e-14, 4.01506327e-07, 2.69449476e-08, 2.89923413e-13,\n",
              "        8.60863338e-07, 4.35674818e-14],\n",
              "       [3.28784404e-06, 9.98495221e-01, 9.29563466e-05, 1.54715963e-05,\n",
              "        2.27691617e-05, 1.56582100e-05, 3.73399553e-06, 3.40249506e-04,\n",
              "        1.00807892e-03, 2.38550365e-06],\n",
              "       [9.99965608e-01, 6.92682178e-09, 2.13113763e-05, 1.51781858e-08,\n",
              "        2.94944495e-08, 8.26476764e-07, 1.00650150e-05, 1.89715752e-06,\n",
              "        8.34925240e-10, 1.92967704e-07],\n",
              "       [1.46589957e-06, 1.20461028e-08, 3.96312635e-06, 4.76650541e-09,\n",
              "        9.99558628e-01, 7.66768551e-08, 1.49684467e-06, 1.07131027e-05,\n",
              "        4.51431276e-07, 4.23189864e-04],\n",
              "       [2.37619957e-07, 9.98843610e-01, 2.21557457e-06, 1.73922172e-06,\n",
              "        7.79458423e-06, 9.44008534e-08, 2.62867701e-08, 9.61630256e-04,\n",
              "        1.81562267e-04, 1.04995729e-06],\n",
              "       [1.87798763e-10, 4.52889282e-08, 6.57217853e-08, 3.72767373e-09,\n",
              "        9.99739408e-01, 1.48286745e-06, 1.43863614e-08, 7.85722386e-06,\n",
              "        2.03241405e-04, 4.78109978e-05],\n",
              "       [6.62737420e-08, 2.16666504e-05, 1.49532470e-05, 8.75069643e-04,\n",
              "        2.68799323e-03, 7.08380639e-06, 9.70044600e-10, 8.20980495e-05,\n",
              "        1.56975075e-05, 9.96295393e-01],\n",
              "       [7.94199821e-07, 6.05899913e-07, 6.78009761e-04, 7.36372431e-06,\n",
              "        1.20676468e-05, 8.33995700e-01, 1.64535359e-01, 3.21570411e-07,\n",
              "        7.59204151e-04, 1.06302095e-05],\n",
              "       [2.58439214e-10, 4.85914173e-12, 7.01197017e-11, 1.85655594e-07,\n",
              "        3.11566342e-04, 4.37116787e-09, 5.20608253e-12, 1.83357202e-04,\n",
              "        3.48836438e-05, 9.99469936e-01]], dtype=float32)"
            ]
          },
          "metadata": {},
          "execution_count": 26
        }
      ]
    },
    {
      "cell_type": "code",
      "source": [
        "predictions[0]"
      ],
      "metadata": {
        "colab": {
          "base_uri": "https://localhost:8080/"
        },
        "id": "7L1t_7OCz9_V",
        "outputId": "2934fd39-5c0f-4da1-e71a-df5dc665bfca"
      },
      "execution_count": 27,
      "outputs": [
        {
          "output_type": "execute_result",
          "data": {
            "text/plain": [
              "array([8.5568175e-09, 4.4524806e-09, 6.0078983e-06, 8.0482478e-06,\n",
              "       5.8378831e-12, 7.9108688e-08, 2.2341594e-13, 9.9998528e-01,\n",
              "       8.1354557e-08, 3.9165693e-07], dtype=float32)"
            ]
          },
          "metadata": {},
          "execution_count": 27
        }
      ]
    },
    {
      "cell_type": "code",
      "source": [
        "predictions[0].argmax()"
      ],
      "metadata": {
        "colab": {
          "base_uri": "https://localhost:8080/"
        },
        "id": "UFLblshg0Bi8",
        "outputId": "c8cb96e0-5dfa-4f00-99fc-64fab06ac857"
      },
      "execution_count": 28,
      "outputs": [
        {
          "output_type": "execute_result",
          "data": {
            "text/plain": [
              "7"
            ]
          },
          "metadata": {},
          "execution_count": 28
        }
      ]
    },
    {
      "cell_type": "code",
      "source": [
        "predictions[0][7]"
      ],
      "metadata": {
        "colab": {
          "base_uri": "https://localhost:8080/"
        },
        "id": "WsbpSeN50H3P",
        "outputId": "d0126ff9-4805-4b3e-af6d-d4c2997d9d27"
      },
      "execution_count": 29,
      "outputs": [
        {
          "output_type": "execute_result",
          "data": {
            "text/plain": [
              "0.9999853"
            ]
          },
          "metadata": {},
          "execution_count": 29
        }
      ]
    },
    {
      "cell_type": "code",
      "source": [
        "test_labels[0]"
      ],
      "metadata": {
        "colab": {
          "base_uri": "https://localhost:8080/"
        },
        "id": "69Zj4rf00Un2",
        "outputId": "6d74048d-af7a-4015-b52f-56b66d160f1f"
      },
      "execution_count": 30,
      "outputs": [
        {
          "output_type": "execute_result",
          "data": {
            "text/plain": [
              "7"
            ]
          },
          "metadata": {},
          "execution_count": 30
        }
      ]
    },
    {
      "cell_type": "code",
      "source": [
        "test_loss, test_acc = model.evaluate(test_images, test_labels)\n",
        "test_loss"
      ],
      "metadata": {
        "colab": {
          "base_uri": "https://localhost:8080/"
        },
        "id": "OadEM1Up0X45",
        "outputId": "d058c00b-f81e-46fa-e9b2-559ae2921f9e"
      },
      "execution_count": 31,
      "outputs": [
        {
          "output_type": "stream",
          "name": "stdout",
          "text": [
            "\u001b[1m313/313\u001b[0m \u001b[32m━━━━━━━━━━━━━━━━━━━━\u001b[0m\u001b[37m\u001b[0m \u001b[1m1s\u001b[0m 3ms/step - accuracy: 0.9771 - loss: 0.0735\n"
          ]
        },
        {
          "output_type": "execute_result",
          "data": {
            "text/plain": [
              "0.06097191199660301"
            ]
          },
          "metadata": {},
          "execution_count": 31
        }
      ]
    },
    {
      "cell_type": "code",
      "source": [
        "test_acc"
      ],
      "metadata": {
        "colab": {
          "base_uri": "https://localhost:8080/"
        },
        "id": "9HBOSjP50hQQ",
        "outputId": "2b4a2c74-6ac5-4129-dc08-04dc55d44091"
      },
      "execution_count": 32,
      "outputs": [
        {
          "output_type": "execute_result",
          "data": {
            "text/plain": [
              "0.9811000227928162"
            ]
          },
          "metadata": {},
          "execution_count": 32
        }
      ]
    },
    {
      "cell_type": "code",
      "source": [
        "import numpy as np\n",
        "x = np.array(12)\n",
        "x"
      ],
      "metadata": {
        "colab": {
          "base_uri": "https://localhost:8080/"
        },
        "id": "FFWaJ5bU0kMr",
        "outputId": "7207f518-5b76-4404-a77d-f330534908c2"
      },
      "execution_count": 33,
      "outputs": [
        {
          "output_type": "execute_result",
          "data": {
            "text/plain": [
              "array(12)"
            ]
          },
          "metadata": {},
          "execution_count": 33
        }
      ]
    },
    {
      "cell_type": "code",
      "source": [
        "x.ndim"
      ],
      "metadata": {
        "colab": {
          "base_uri": "https://localhost:8080/"
        },
        "id": "A1UrDLuC0r1x",
        "outputId": "3f86c01c-7a10-48f1-b2ae-0f45c4e21f71"
      },
      "execution_count": 34,
      "outputs": [
        {
          "output_type": "execute_result",
          "data": {
            "text/plain": [
              "0"
            ]
          },
          "metadata": {},
          "execution_count": 34
        }
      ]
    },
    {
      "cell_type": "code",
      "source": [
        "from re import X\n",
        "x = np.array([12,3,6,14,7])\n",
        "x"
      ],
      "metadata": {
        "colab": {
          "base_uri": "https://localhost:8080/"
        },
        "id": "-CPA5fHY0tnE",
        "outputId": "c83dfe01-79ee-4778-8207-e5b6286db0da"
      },
      "execution_count": 36,
      "outputs": [
        {
          "output_type": "execute_result",
          "data": {
            "text/plain": [
              "array([12,  3,  6, 14,  7])"
            ]
          },
          "metadata": {},
          "execution_count": 36
        }
      ]
    },
    {
      "cell_type": "code",
      "source": [
        "x.ndim"
      ],
      "metadata": {
        "colab": {
          "base_uri": "https://localhost:8080/"
        },
        "id": "D_Qm-bsD05IE",
        "outputId": "28cb685f-8a9c-44c6-b06e-37ac906f057b"
      },
      "execution_count": 37,
      "outputs": [
        {
          "output_type": "execute_result",
          "data": {
            "text/plain": [
              "1"
            ]
          },
          "metadata": {},
          "execution_count": 37
        }
      ]
    },
    {
      "cell_type": "code",
      "source": [
        "x = np.array([[5,78,2,34,0],\n",
        "              [6,79,3,35,1],\n",
        "              [7,80,4,36,2]])\n",
        "x"
      ],
      "metadata": {
        "colab": {
          "base_uri": "https://localhost:8080/"
        },
        "id": "dJX9IE0I06XT",
        "outputId": "636c4812-df09-48c5-c1b6-4a3e0200aa6d"
      },
      "execution_count": 38,
      "outputs": [
        {
          "output_type": "execute_result",
          "data": {
            "text/plain": [
              "array([[ 5, 78,  2, 34,  0],\n",
              "       [ 6, 79,  3, 35,  1],\n",
              "       [ 7, 80,  4, 36,  2]])"
            ]
          },
          "metadata": {},
          "execution_count": 38
        }
      ]
    },
    {
      "cell_type": "code",
      "source": [
        "x.ndim"
      ],
      "metadata": {
        "colab": {
          "base_uri": "https://localhost:8080/"
        },
        "id": "NGyKnQKW1HtP",
        "outputId": "c681179e-d311-470c-f724-2c14a7e894d8"
      },
      "execution_count": 39,
      "outputs": [
        {
          "output_type": "execute_result",
          "data": {
            "text/plain": [
              "2"
            ]
          },
          "metadata": {},
          "execution_count": 39
        }
      ]
    },
    {
      "cell_type": "code",
      "source": [
        "x = np.array([\n",
        "    [[5,78,2,34,0],\n",
        "    [6,79,3,35,1],\n",
        "    [7,80,4,36,2]],\n",
        "    [[5,78,2,34,0],\n",
        "    [6,79,3,35,1],\n",
        "    [7,80,4,36,2]],\n",
        "    [[5,78,2,34,0],\n",
        "    [6,79,3,35,1],\n",
        "    [7,80,4,36,2]]\n",
        "])"
      ],
      "metadata": {
        "id": "ffd1Ib3O1N6k"
      },
      "execution_count": 40,
      "outputs": []
    },
    {
      "cell_type": "code",
      "source": [
        "x"
      ],
      "metadata": {
        "colab": {
          "base_uri": "https://localhost:8080/"
        },
        "id": "vnYvNR8z1i9H",
        "outputId": "682657ac-9388-4d65-9ed8-f7889badd26a"
      },
      "execution_count": 41,
      "outputs": [
        {
          "output_type": "execute_result",
          "data": {
            "text/plain": [
              "array([[[ 5, 78,  2, 34,  0],\n",
              "        [ 6, 79,  3, 35,  1],\n",
              "        [ 7, 80,  4, 36,  2]],\n",
              "\n",
              "       [[ 5, 78,  2, 34,  0],\n",
              "        [ 6, 79,  3, 35,  1],\n",
              "        [ 7, 80,  4, 36,  2]],\n",
              "\n",
              "       [[ 5, 78,  2, 34,  0],\n",
              "        [ 6, 79,  3, 35,  1],\n",
              "        [ 7, 80,  4, 36,  2]]])"
            ]
          },
          "metadata": {},
          "execution_count": 41
        }
      ]
    },
    {
      "cell_type": "code",
      "source": [
        "x.ndim"
      ],
      "metadata": {
        "colab": {
          "base_uri": "https://localhost:8080/"
        },
        "id": "896kBayk1ktU",
        "outputId": "22990df3-3810-4838-92aa-85379dd7d5ab"
      },
      "execution_count": 42,
      "outputs": [
        {
          "output_type": "execute_result",
          "data": {
            "text/plain": [
              "3"
            ]
          },
          "metadata": {},
          "execution_count": 42
        }
      ]
    },
    {
      "cell_type": "code",
      "source": [
        "from tensorflow.keras.datasets import mnist\n",
        "(train_images, train_labels), (test_images, test_labels) = mnist.load_data()\n"
      ],
      "metadata": {
        "id": "ul_BPFf51mWl"
      },
      "execution_count": 43,
      "outputs": []
    },
    {
      "cell_type": "code",
      "source": [
        "train_images.ndim"
      ],
      "metadata": {
        "colab": {
          "base_uri": "https://localhost:8080/"
        },
        "id": "qZ7em59C15Qp",
        "outputId": "744cf480-2ceb-4f61-b563-f7f548b09391"
      },
      "execution_count": 44,
      "outputs": [
        {
          "output_type": "execute_result",
          "data": {
            "text/plain": [
              "3"
            ]
          },
          "metadata": {},
          "execution_count": 44
        }
      ]
    },
    {
      "cell_type": "code",
      "source": [
        "train_images.shape"
      ],
      "metadata": {
        "colab": {
          "base_uri": "https://localhost:8080/"
        },
        "id": "9WmY2Rdc18Fy",
        "outputId": "6c812e8f-c983-4041-ce4c-4bcd6cee76cd"
      },
      "execution_count": 45,
      "outputs": [
        {
          "output_type": "execute_result",
          "data": {
            "text/plain": [
              "(60000, 28, 28)"
            ]
          },
          "metadata": {},
          "execution_count": 45
        }
      ]
    },
    {
      "cell_type": "code",
      "source": [
        "train_images.dtype"
      ],
      "metadata": {
        "colab": {
          "base_uri": "https://localhost:8080/"
        },
        "id": "KnziqNqO1991",
        "outputId": "04d37a98-086e-4085-8980-2d2f642f69e5"
      },
      "execution_count": 46,
      "outputs": [
        {
          "output_type": "execute_result",
          "data": {
            "text/plain": [
              "dtype('uint8')"
            ]
          },
          "metadata": {},
          "execution_count": 46
        }
      ]
    },
    {
      "cell_type": "code",
      "source": [
        "import matplotlib.pyplot as plt\n",
        "digit = train_images[4]\n",
        "plt.imshow(digit, cmap=plt.cm.binary)\n",
        "plt.show()\n"
      ],
      "metadata": {
        "colab": {
          "base_uri": "https://localhost:8080/",
          "height": 430
        },
        "id": "sn3SjScD2CJ6",
        "outputId": "9c9e710a-ecff-4c4c-ccb7-0df75cf652be"
      },
      "execution_count": 47,
      "outputs": [
        {
          "output_type": "display_data",
          "data": {
            "text/plain": [
              "<Figure size 640x480 with 1 Axes>"
            ],
            "image/png": "[encoded data removed]"
          },
          "metadata": {}
        }
      ]
    },
    {
      "cell_type": "code",
      "source": [
        "train_labels[4]"
      ],
      "metadata": {
        "colab": {
          "base_uri": "https://localhost:8080/"
        },
        "id": "4fPe3q9D2WlY",
        "outputId": "7a8256ec-1cd7-4a20-ce45-a51b914efe0d"
      },
      "execution_count": 48,
      "outputs": [
        {
          "output_type": "execute_result",
          "data": {
            "text/plain": [
              "9"
            ]
          },
          "metadata": {},
          "execution_count": 48
        }
      ]
    },
    {
      "cell_type": "code",
      "source": [
        "my_slice = train_images[10:100]\n",
        "my_slice.shape"
      ],
      "metadata": {
        "colab": {
          "base_uri": "https://localhost:8080/"
        },
        "id": "djUOM6yn2aUE",
        "outputId": "2505d280-5205-4dfc-aa99-84b8c5117c86"
      },
      "execution_count": 49,
      "outputs": [
        {
          "output_type": "execute_result",
          "data": {
            "text/plain": [
              "(90, 28, 28)"
            ]
          },
          "metadata": {},
          "execution_count": 49
        }
      ]
    },
    {
      "cell_type": "code",
      "source": [
        "my_slice = train_images[10:100, :, :]\n",
        "my_slice.shape\n"
      ],
      "metadata": {
        "colab": {
          "base_uri": "https://localhost:8080/"
        },
        "id": "NtZfVuVr20UB",
        "outputId": "fd88ed88-200b-4167-b88e-1c86d5b0b698"
      },
      "execution_count": 50,
      "outputs": [
        {
          "output_type": "execute_result",
          "data": {
            "text/plain": [
              "(90, 28, 28)"
            ]
          },
          "metadata": {},
          "execution_count": 50
        }
      ]
    },
    {
      "cell_type": "code",
      "source": [
        "my_slice = train_images[10:100, 0:28, 0:28]\n",
        "my_slice.shape"
      ],
      "metadata": {
        "colab": {
          "base_uri": "https://localhost:8080/"
        },
        "id": "WkrpFNl1MI_M",
        "outputId": "d28235b8-b87e-419d-f9f4-9185dff37f75"
      },
      "execution_count": 51,
      "outputs": [
        {
          "output_type": "execute_result",
          "data": {
            "text/plain": [
              "(90, 28, 28)"
            ]
          },
          "metadata": {},
          "execution_count": 51
        }
      ]
    },
    {
      "cell_type": "code",
      "source": [
        "my_slice = train_images[:, 14:, 14:]\n",
        "my_slice.shape"
      ],
      "metadata": {
        "colab": {
          "base_uri": "https://localhost:8080/"
        },
        "id": "bOjjdpooMOmn",
        "outputId": "368c4873-96de-46f7-e950-fb82c3492ce6"
      },
      "execution_count": 52,
      "outputs": [
        {
          "output_type": "execute_result",
          "data": {
            "text/plain": [
              "(60000, 14, 14)"
            ]
          },
          "metadata": {},
          "execution_count": 52
        }
      ]
    },
    {
      "cell_type": "code",
      "source": [
        "my_slice = train_images[:, 7:-7, 7:-7]\n",
        "my_slice.shape"
      ],
      "metadata": {
        "colab": {
          "base_uri": "https://localhost:8080/"
        },
        "id": "7OYrxaRNMSsT",
        "outputId": "c9e3e33e-6621-41b4-9e39-596f460b25bb"
      },
      "execution_count": 53,
      "outputs": [
        {
          "output_type": "execute_result",
          "data": {
            "text/plain": [
              "(60000, 14, 14)"
            ]
          },
          "metadata": {},
          "execution_count": 53
        }
      ]
    },
    {
      "cell_type": "code",
      "source": [
        "batch = train_images[:128]\n",
        "batch.shape"
      ],
      "metadata": {
        "colab": {
          "base_uri": "https://localhost:8080/"
        },
        "id": "POGhS5jKMXso",
        "outputId": "c0316429-c71b-4ff7-f017-92a6b2170493"
      },
      "execution_count": 54,
      "outputs": [
        {
          "output_type": "execute_result",
          "data": {
            "text/plain": [
              "(128, 28, 28)"
            ]
          },
          "metadata": {},
          "execution_count": 54
        }
      ]
    },
    {
      "cell_type": "code",
      "source": [
        "batch = train_images[128:256]\n",
        "batch.shape"
      ],
      "metadata": {
        "colab": {
          "base_uri": "https://localhost:8080/"
        },
        "id": "mdyLH2QeMcqt",
        "outputId": "c1228980-3b89-4708-da8d-04a83a73ecad"
      },
      "execution_count": 55,
      "outputs": [
        {
          "output_type": "execute_result",
          "data": {
            "text/plain": [
              "(128, 28, 28)"
            ]
          },
          "metadata": {},
          "execution_count": 55
        }
      ]
    },
    {
      "cell_type": "code",
      "source": [
        "n = 3\n",
        "batch = train_images[128 * n:128 * (n + 1)]\n",
        "batch.shape"
      ],
      "metadata": {
        "colab": {
          "base_uri": "https://localhost:8080/"
        },
        "id": "VKAUr--dMhCc",
        "outputId": "443a3584-33f6-491f-9742-450080de386a"
      },
      "execution_count": 56,
      "outputs": [
        {
          "output_type": "execute_result",
          "data": {
            "text/plain": [
              "(128, 28, 28)"
            ]
          },
          "metadata": {},
          "execution_count": 56
        }
      ]
    },
    {
      "cell_type": "code",
      "source": [
        "def naive_relu(x):\n",
        "  assert len(x.shape) == 2\n",
        "  x = x.copy()\n",
        "  for i in range(x.shape[0]):\n",
        "    for j in range(x.shape[1]):\n",
        "      x[i, j] = max(x[i, j], 0)\n",
        "  return x"
      ],
      "metadata": {
        "id": "PrO_81l1MkZd"
      },
      "execution_count": 58,
      "outputs": []
    },
    {
      "cell_type": "code",
      "source": [
        "def naive_add(x, y):\n",
        "  assert len(x.shape) == 2\n",
        "  assert x.shape == y.shape\n",
        "  x = x.copy()\n",
        "  for i in range(x.shape[0]):\n",
        "    for j in range(x.shape[1]):\n",
        "      x[i, j] += y[i, j]\n",
        "  return x"
      ],
      "metadata": {
        "id": "Vr4rQCKAM3DV"
      },
      "execution_count": 59,
      "outputs": []
    },
    {
      "cell_type": "code",
      "source": [
        "import time\n",
        "x = np.random.random((20, 100))\n",
        "y = np.random.random((20, 100))\n",
        "t0 = time.time()\n",
        "for _ in range(1000):\n",
        "  z = x + y\n",
        "  z = np.maximum(z, 0.)\n",
        "print(\"Took: {0:.2f} s\".format(time.time() - t0))"
      ],
      "metadata": {
        "colab": {
          "base_uri": "https://localhost:8080/"
        },
        "id": "ZDK3Qj6_NBbN",
        "outputId": "bcfbb4e1-ec27-4da5-c25c-3445012c2975"
      },
      "execution_count": 60,
      "outputs": [
        {
          "output_type": "stream",
          "name": "stdout",
          "text": [
            "Took: 0.01 s\n"
          ]
        }
      ]
    },
    {
      "cell_type": "code",
      "source": [
        "t0 = time.time()\n",
        "for _ in range(1000):\n",
        "  z = naive_add(x, y)\n",
        "  z = naive_relu(z)\n",
        "print(\"Took: {0:.2f} s\".format(time.time() - t0))"
      ],
      "metadata": {
        "colab": {
          "base_uri": "https://localhost:8080/"
        },
        "id": "DTut1WKGNG0G",
        "outputId": "93a3f3cf-e9f9-4f2f-a279-f7e853abbb7e"
      },
      "execution_count": 61,
      "outputs": [
        {
          "output_type": "stream",
          "name": "stdout",
          "text": [
            "Took: 3.63 s\n"
          ]
        }
      ]
    },
    {
      "cell_type": "code",
      "source": [
        "import numpy as np\n",
        "X = np.random.random((32,10))\n",
        "y = np.random.random((10,))"
      ],
      "metadata": {
        "id": "_OoCmX3wNLrh"
      },
      "execution_count": 62,
      "outputs": []
    },
    {
      "cell_type": "code",
      "source": [
        "X\n"
      ],
      "metadata": {
        "colab": {
          "base_uri": "https://localhost:8080/"
        },
        "id": "xtMp2fnDNlHb",
        "outputId": "8020ffb3-79fe-4698-ad6c-0a6177af8953"
      },
      "execution_count": 63,
      "outputs": [
        {
          "output_type": "execute_result",
          "data": {
            "text/plain": [
              "array([[0.02446719, 0.21421861, 0.60959885, 0.50199363, 0.65949853,\n",
              "        0.20836827, 0.25794076, 0.80802256, 0.29426079, 0.28996141],\n",
              "       [0.39955448, 0.74161077, 0.95251416, 0.55791229, 0.6553232 ,\n",
              "        0.50674901, 0.67059938, 0.383654  , 0.60284157, 0.0695693 ],\n",
              "       [0.43285743, 0.87597383, 0.93988115, 0.16657527, 0.37801132,\n",
              "        0.89563513, 0.77793192, 0.07171631, 0.79995254, 0.18437075],\n",
              "       [0.72652021, 0.90407946, 0.88938766, 0.24468596, 0.64347202,\n",
              "        0.10754721, 0.24768046, 0.64108621, 0.04724503, 0.28533602],\n",
              "       [0.36782618, 0.26688831, 0.87945038, 0.17906897, 0.46625993,\n",
              "        0.90850472, 0.44071675, 0.65235427, 0.48969371, 0.03120441],\n",
              "       [0.99009178, 0.9419025 , 0.64858821, 0.2930986 , 0.44781759,\n",
              "        0.42303559, 0.50532639, 0.19283789, 0.18148643, 0.83207808],\n",
              "       [0.39579974, 0.86672628, 0.95732767, 0.81308365, 0.85980624,\n",
              "        0.26782359, 0.36870521, 0.65474582, 0.54132243, 0.19825673],\n",
              "       [0.86455689, 0.26226178, 0.4587779 , 0.37435492, 0.80931635,\n",
              "        0.58548438, 0.2630906 , 0.75916111, 0.35917892, 0.9843819 ],\n",
              "       [0.08165295, 0.63220863, 0.25856196, 0.45188712, 0.38514054,\n",
              "        0.90197239, 0.42364128, 0.01179982, 0.83983911, 0.77411327],\n",
              "       [0.58304657, 0.52576692, 0.43536449, 0.0910897 , 0.5708766 ,\n",
              "        0.77983526, 0.6107343 , 0.51287495, 0.48881019, 0.63033472],\n",
              "       [0.59292052, 0.52976728, 0.13049896, 0.34791026, 0.69328437,\n",
              "        0.13763036, 0.99402444, 0.99470542, 0.73815512, 0.5486795 ],\n",
              "       [0.0826226 , 0.27659628, 0.60832237, 0.71083269, 0.90537455,\n",
              "        0.66310324, 0.41251574, 0.07110105, 0.40132127, 0.16549616],\n",
              "       [0.89107458, 0.6461135 , 0.32337459, 0.79244259, 0.79369636,\n",
              "        0.38809214, 0.09979884, 0.91468439, 0.63755299, 0.58630028],\n",
              "       [0.36081465, 0.02033294, 0.72663788, 0.83352613, 0.54107469,\n",
              "        0.85828006, 0.91197461, 0.0104588 , 0.92598664, 0.00319228],\n",
              "       [0.41582736, 0.40303364, 0.69881136, 0.98028566, 0.34149325,\n",
              "        0.58349224, 0.13533549, 0.89272032, 0.14563494, 0.87051757],\n",
              "       [0.27515403, 0.34676495, 0.29427144, 0.48491651, 0.75226632,\n",
              "        0.95697649, 0.78030393, 0.84270498, 0.5159393 , 0.34013499],\n",
              "       [0.76151938, 0.20564765, 0.27761799, 0.38461116, 0.04394495,\n",
              "        0.90706845, 0.70095884, 0.56867994, 0.88753669, 0.34856872],\n",
              "       [0.37745116, 0.44050556, 0.80377937, 0.87999399, 0.42959711,\n",
              "        0.37599287, 0.95396713, 0.74061604, 0.3531292 , 0.28755793],\n",
              "       [0.93578212, 0.10790511, 0.4913967 , 0.48082158, 0.43674138,\n",
              "        0.82464317, 0.61785879, 0.53988187, 0.36358962, 0.94321563],\n",
              "       [0.41987111, 0.00589739, 0.55290893, 0.74991333, 0.04422071,\n",
              "        0.09962396, 0.39101487, 0.76719449, 0.8187011 , 0.50266209],\n",
              "       [0.17182241, 0.29428305, 0.04975227, 0.04411486, 0.71449895,\n",
              "        0.98586242, 0.32813944, 0.75369316, 0.86810341, 0.3043194 ],\n",
              "       [0.87549543, 0.53645988, 0.49881112, 0.13516428, 0.19635844,\n",
              "        0.7512307 , 0.45405836, 0.2800508 , 0.1534274 , 0.27495512],\n",
              "       [0.00132445, 0.03716094, 0.32106121, 0.3123534 , 0.77199271,\n",
              "        0.56462494, 0.77001566, 0.74348253, 0.77125307, 0.49325133],\n",
              "       [0.64715398, 0.55954207, 0.52349761, 0.10307984, 0.85531879,\n",
              "        0.36758987, 0.57846466, 0.53999186, 0.42241861, 0.69346685],\n",
              "       [0.44819141, 0.23175615, 0.86390623, 0.88011838, 0.18107749,\n",
              "        0.34323678, 0.94280277, 0.60549084, 0.97072277, 0.83397227],\n",
              "       [0.87769285, 0.51449535, 0.20314849, 0.67356917, 0.65938266,\n",
              "        0.05427931, 0.98214074, 0.52491284, 0.24191214, 0.95186473],\n",
              "       [0.71737168, 0.26494597, 0.12182197, 0.7913226 , 0.1398429 ,\n",
              "        0.92523408, 0.81254008, 0.04490293, 0.61609641, 0.0966854 ],\n",
              "       [0.04073362, 0.85402074, 0.11931913, 0.07378772, 0.03180007,\n",
              "        0.14467672, 0.46339911, 0.1115741 , 0.8021944 , 0.82764165],\n",
              "       [0.70552939, 0.59651489, 0.44223005, 0.67372914, 0.58830145,\n",
              "        0.96481051, 0.48496986, 0.48883735, 0.68288077, 0.93334483],\n",
              "       [0.78351269, 0.47614537, 0.84270681, 0.7356939 , 0.63293921,\n",
              "        0.58598225, 0.83906121, 0.50381647, 0.34758023, 0.04494632],\n",
              "       [0.39811982, 0.23013764, 0.41358158, 0.64113993, 0.43960438,\n",
              "        0.48255503, 0.94973767, 0.28437922, 0.25510769, 0.18387355],\n",
              "       [0.06817505, 0.3919795 , 0.87887034, 0.98921698, 0.57307092,\n",
              "        0.34824313, 0.58105008, 0.85880903, 0.71366971, 0.52583812]])"
            ]
          },
          "metadata": {},
          "execution_count": 63
        }
      ]
    },
    {
      "cell_type": "code",
      "source": [
        "y"
      ],
      "metadata": {
        "colab": {
          "base_uri": "https://localhost:8080/"
        },
        "id": "CDHuoAWmNnUe",
        "outputId": "1833226c-b341-40f4-8242-9e77fde4dedf"
      },
      "execution_count": 64,
      "outputs": [
        {
          "output_type": "execute_result",
          "data": {
            "text/plain": [
              "array([0.76861068, 0.61248871, 0.2972775 , 0.27355907, 0.04023375,\n",
              "       0.5092325 , 0.02808714, 0.90281421, 0.75302995, 0.61959056])"
            ]
          },
          "metadata": {},
          "execution_count": 64
        }
      ]
    },
    {
      "cell_type": "code",
      "source": [
        "X.shape"
      ],
      "metadata": {
        "colab": {
          "base_uri": "https://localhost:8080/"
        },
        "id": "rUH-CoKGNqfl",
        "outputId": "854a86d5-f21b-44ef-dfc7-ecc5bcb0f9b6"
      },
      "execution_count": 65,
      "outputs": [
        {
          "output_type": "execute_result",
          "data": {
            "text/plain": [
              "(32, 10)"
            ]
          },
          "metadata": {},
          "execution_count": 65
        }
      ]
    },
    {
      "cell_type": "code",
      "source": [
        "y.shape"
      ],
      "metadata": {
        "colab": {
          "base_uri": "https://localhost:8080/"
        },
        "id": "PG_d9UptNvqw",
        "outputId": "4c2cc9fd-ed8c-49b8-81b6-04692ce8f943"
      },
      "execution_count": 66,
      "outputs": [
        {
          "output_type": "execute_result",
          "data": {
            "text/plain": [
              "(10,)"
            ]
          },
          "metadata": {},
          "execution_count": 66
        }
      ]
    },
    {
      "cell_type": "code",
      "source": [
        "y = np.expand_dims(y, axis=0)\n",
        "y"
      ],
      "metadata": {
        "colab": {
          "base_uri": "https://localhost:8080/"
        },
        "id": "cXX2xCaCNxUB",
        "outputId": "d775593b-e17f-4157-85e2-b6043a30c52e"
      },
      "execution_count": 67,
      "outputs": [
        {
          "output_type": "execute_result",
          "data": {
            "text/plain": [
              "array([[0.76861068, 0.61248871, 0.2972775 , 0.27355907, 0.04023375,\n",
              "        0.5092325 , 0.02808714, 0.90281421, 0.75302995, 0.61959056]])"
            ]
          },
          "metadata": {},
          "execution_count": 67
        }
      ]
    },
    {
      "cell_type": "code",
      "source": [
        "y.shape"
      ],
      "metadata": {
        "colab": {
          "base_uri": "https://localhost:8080/"
        },
        "id": "D1XMPn0nN9s1",
        "outputId": "ff1b952f-808e-4163-9c97-ca579cf17400"
      },
      "execution_count": 68,
      "outputs": [
        {
          "output_type": "execute_result",
          "data": {
            "text/plain": [
              "(1, 10)"
            ]
          },
          "metadata": {},
          "execution_count": 68
        }
      ]
    },
    {
      "cell_type": "code",
      "source": [
        "Y = np.concatenate([y] * 32, axis=0)\n",
        "Y"
      ],
      "metadata": {
        "colab": {
          "base_uri": "https://localhost:8080/"
        },
        "id": "02CEJI4ZOERM",
        "outputId": "b1c7e563-8ce2-4b07-a5a4-d8348362def3"
      },
      "execution_count": 69,
      "outputs": [
        {
          "output_type": "execute_result",
          "data": {
            "text/plain": [
              "array([[0.76861068, 0.61248871, 0.2972775 , 0.27355907, 0.04023375,\n",
              "        0.5092325 , 0.02808714, 0.90281421, 0.75302995, 0.61959056],\n",
              "       [0.76861068, 0.61248871, 0.2972775 , 0.27355907, 0.04023375,\n",
              "        0.5092325 , 0.02808714, 0.90281421, 0.75302995, 0.61959056],\n",
              "       [0.76861068, 0.61248871, 0.2972775 , 0.27355907, 0.04023375,\n",
              "        0.5092325 , 0.02808714, 0.90281421, 0.75302995, 0.61959056],\n",
              "       [0.76861068, 0.61248871, 0.2972775 , 0.27355907, 0.04023375,\n",
              "        0.5092325 , 0.02808714, 0.90281421, 0.75302995, 0.61959056],\n",
              "       [0.76861068, 0.61248871, 0.2972775 , 0.27355907, 0.04023375,\n",
              "        0.5092325 , 0.02808714, 0.90281421, 0.75302995, 0.61959056],\n",
              "       [0.76861068, 0.61248871, 0.2972775 , 0.27355907, 0.04023375,\n",
              "        0.5092325 , 0.02808714, 0.90281421, 0.75302995, 0.61959056],\n",
              "       [0.76861068, 0.61248871, 0.2972775 , 0.27355907, 0.04023375,\n",
              "        0.5092325 , 0.02808714, 0.90281421, 0.75302995, 0.61959056],\n",
              "       [0.76861068, 0.61248871, 0.2972775 , 0.27355907, 0.04023375,\n",
              "        0.5092325 , 0.02808714, 0.90281421, 0.75302995, 0.61959056],\n",
              "       [0.76861068, 0.61248871, 0.2972775 , 0.27355907, 0.04023375,\n",
              "        0.5092325 , 0.02808714, 0.90281421, 0.75302995, 0.61959056],\n",
              "       [0.76861068, 0.61248871, 0.2972775 , 0.27355907, 0.04023375,\n",
              "        0.5092325 , 0.02808714, 0.90281421, 0.75302995, 0.61959056],\n",
              "       [0.76861068, 0.61248871, 0.2972775 , 0.27355907, 0.04023375,\n",
              "        0.5092325 , 0.02808714, 0.90281421, 0.75302995, 0.61959056],\n",
              "       [0.76861068, 0.61248871, 0.2972775 , 0.27355907, 0.04023375,\n",
              "        0.5092325 , 0.02808714, 0.90281421, 0.75302995, 0.61959056],\n",
              "       [0.76861068, 0.61248871, 0.2972775 , 0.27355907, 0.04023375,\n",
              "        0.5092325 , 0.02808714, 0.90281421, 0.75302995, 0.61959056],\n",
              "       [0.76861068, 0.61248871, 0.2972775 , 0.27355907, 0.04023375,\n",
              "        0.5092325 , 0.02808714, 0.90281421, 0.75302995, 0.61959056],\n",
              "       [0.76861068, 0.61248871, 0.2972775 , 0.27355907, 0.04023375,\n",
              "        0.5092325 , 0.02808714, 0.90281421, 0.75302995, 0.61959056],\n",
              "       [0.76861068, 0.61248871, 0.2972775 , 0.27355907, 0.04023375,\n",
              "        0.5092325 , 0.02808714, 0.90281421, 0.75302995, 0.61959056],\n",
              "       [0.76861068, 0.61248871, 0.2972775 , 0.27355907, 0.04023375,\n",
              "        0.5092325 , 0.02808714, 0.90281421, 0.75302995, 0.61959056],\n",
              "       [0.76861068, 0.61248871, 0.2972775 , 0.27355907, 0.04023375,\n",
              "        0.5092325 , 0.02808714, 0.90281421, 0.75302995, 0.61959056],\n",
              "       [0.76861068, 0.61248871, 0.2972775 , 0.27355907, 0.04023375,\n",
              "        0.5092325 , 0.02808714, 0.90281421, 0.75302995, 0.61959056],\n",
              "       [0.76861068, 0.61248871, 0.2972775 , 0.27355907, 0.04023375,\n",
              "        0.5092325 , 0.02808714, 0.90281421, 0.75302995, 0.61959056],\n",
              "       [0.76861068, 0.61248871, 0.2972775 , 0.27355907, 0.04023375,\n",
              "        0.5092325 , 0.02808714, 0.90281421, 0.75302995, 0.61959056],\n",
              "       [0.76861068, 0.61248871, 0.2972775 , 0.27355907, 0.04023375,\n",
              "        0.5092325 , 0.02808714, 0.90281421, 0.75302995, 0.61959056],\n",
              "       [0.76861068, 0.61248871, 0.2972775 , 0.27355907, 0.04023375,\n",
              "        0.5092325 , 0.02808714, 0.90281421, 0.75302995, 0.61959056],\n",
              "       [0.76861068, 0.61248871, 0.2972775 , 0.27355907, 0.04023375,\n",
              "        0.5092325 , 0.02808714, 0.90281421, 0.75302995, 0.61959056],\n",
              "       [0.76861068, 0.61248871, 0.2972775 , 0.27355907, 0.04023375,\n",
              "        0.5092325 , 0.02808714, 0.90281421, 0.75302995, 0.61959056],\n",
              "       [0.76861068, 0.61248871, 0.2972775 , 0.27355907, 0.04023375,\n",
              "        0.5092325 , 0.02808714, 0.90281421, 0.75302995, 0.61959056],\n",
              "       [0.76861068, 0.61248871, 0.2972775 , 0.27355907, 0.04023375,\n",
              "        0.5092325 , 0.02808714, 0.90281421, 0.75302995, 0.61959056],\n",
              "       [0.76861068, 0.61248871, 0.2972775 , 0.27355907, 0.04023375,\n",
              "        0.5092325 , 0.02808714, 0.90281421, 0.75302995, 0.61959056],\n",
              "       [0.76861068, 0.61248871, 0.2972775 , 0.27355907, 0.04023375,\n",
              "        0.5092325 , 0.02808714, 0.90281421, 0.75302995, 0.61959056],\n",
              "       [0.76861068, 0.61248871, 0.2972775 , 0.27355907, 0.04023375,\n",
              "        0.5092325 , 0.02808714, 0.90281421, 0.75302995, 0.61959056],\n",
              "       [0.76861068, 0.61248871, 0.2972775 , 0.27355907, 0.04023375,\n",
              "        0.5092325 , 0.02808714, 0.90281421, 0.75302995, 0.61959056],\n",
              "       [0.76861068, 0.61248871, 0.2972775 , 0.27355907, 0.04023375,\n",
              "        0.5092325 , 0.02808714, 0.90281421, 0.75302995, 0.61959056]])"
            ]
          },
          "metadata": {},
          "execution_count": 69
        }
      ]
    },
    {
      "cell_type": "code",
      "source": [
        "def naive_add_matrix_and_vector(x, y):\n",
        "  assert x.ndim == 2\n",
        "  assert y.ndim == 1\n",
        "  assert x.shape[1] == y.shape[0]\n",
        "  x = x.copy()\n",
        "  for i in range(x.shape[0]):\n",
        "    for j in range(x.shape[1]):\n",
        "      x[i,j] += y[j]\n",
        "  return x"
      ],
      "metadata": {
        "id": "L5LxwUyxOTwP"
      },
      "execution_count": 70,
      "outputs": []
    },
    {
      "cell_type": "code",
      "source": [
        "x = np.random.random((64,3,32,10))\n",
        "y = np.random.random((32,10))\n",
        "z = np.maximum(x, y)\n",
        "z"
      ],
      "metadata": {
        "colab": {
          "base_uri": "https://localhost:8080/"
        },
        "id": "DpQ0kskPO8rc",
        "outputId": "30ad2702-b26a-4797-dbde-acf1cdae8fe4"
      },
      "execution_count": 71,
      "outputs": [
        {
          "output_type": "execute_result",
          "data": {
            "text/plain": [
              "array([[[[0.08265715, 0.21566816, 0.6461924 , ..., 0.27692124,\n",
              "          0.863191  , 0.62126629],\n",
              "         [0.37904642, 0.89498726, 0.13850018, ..., 0.96883345,\n",
              "          0.18375652, 0.41660782],\n",
              "         [0.82099527, 0.97583582, 0.86357411, ..., 0.78866115,\n",
              "          0.68671889, 0.46405865],\n",
              "         ...,\n",
              "         [0.82937071, 0.73937596, 0.46304814, ..., 0.89178996,\n",
              "          0.618852  , 0.87224842],\n",
              "         [0.22849041, 0.510346  , 0.32922072, ..., 0.92323921,\n",
              "          0.85738454, 0.45671078],\n",
              "         [0.55636318, 0.75014639, 0.82752262, ..., 0.94118508,\n",
              "          0.7762335 , 0.81530977]],\n",
              "\n",
              "        [[0.79251127, 0.97592581, 0.40307616, ..., 0.66625417,\n",
              "          0.8502479 , 0.62126629],\n",
              "         [0.37904642, 0.30360303, 0.35336201, ..., 0.80296446,\n",
              "          0.29668767, 0.7818787 ],\n",
              "         [0.6280009 , 0.97583582, 0.86357411, ..., 0.75053352,\n",
              "          0.68671889, 0.8923056 ],\n",
              "         ...,\n",
              "         [0.91318508, 0.40532171, 0.4684567 , ..., 0.89178996,\n",
              "          0.41455964, 0.3390064 ],\n",
              "         [0.91339083, 0.510346  , 0.1089765 , ..., 0.65025595,\n",
              "          0.81094475, 0.69034471],\n",
              "         [0.10658708, 0.75014639, 0.82752262, ..., 0.67572364,\n",
              "          0.8976889 , 0.39170125]],\n",
              "\n",
              "        [[0.47885749, 0.82220408, 0.40307616, ..., 0.27692124,\n",
              "          0.29739847, 0.62126629],\n",
              "         [0.37904642, 0.71656348, 0.39545689, ..., 0.80296446,\n",
              "          0.21984073, 0.9561928 ],\n",
              "         [0.6280009 , 0.97583582, 0.86357411, ..., 0.67459184,\n",
              "          0.68671889, 0.34823732],\n",
              "         ...,\n",
              "         [0.3972907 , 0.19951101, 0.46304814, ..., 0.89178996,\n",
              "          0.66673178, 0.45990865],\n",
              "         [0.40115724, 0.510346  , 0.85915095, ..., 0.80714729,\n",
              "          0.81094475, 0.80108775],\n",
              "         [0.83613797, 0.75014639, 0.82752262, ..., 0.68275372,\n",
              "          0.13008094, 0.39170125]]],\n",
              "\n",
              "\n",
              "       [[[0.08265715, 0.27964511, 0.40307616, ..., 0.82498194,\n",
              "          0.36169326, 0.76783106],\n",
              "         [0.47675205, 0.65291457, 0.14351097, ..., 0.80296446,\n",
              "          0.3794678 , 0.44514619],\n",
              "         [0.82076333, 0.97583582, 0.86357411, ..., 0.71592358,\n",
              "          0.68671889, 0.36697083],\n",
              "         ...,\n",
              "         [0.3972907 , 0.51580943, 0.91909563, ..., 0.89178996,\n",
              "          0.2275829 , 0.98203881],\n",
              "         [0.28102826, 0.510346  , 0.19192811, ..., 0.65025595,\n",
              "          0.81094475, 0.35184601],\n",
              "         [0.79194966, 0.75014639, 0.82752262, ..., 0.62000204,\n",
              "          0.82878572, 0.78306669]],\n",
              "\n",
              "        [[0.66809544, 0.22748629, 0.86507114, ..., 0.66453227,\n",
              "          0.19092152, 0.62126629],\n",
              "         [0.37904642, 0.38570294, 0.03285389, ..., 0.80296446,\n",
              "          0.18375652, 0.54271607],\n",
              "         [0.6280009 , 0.97583582, 0.86357411, ..., 0.67459184,\n",
              "          0.68671889, 0.44419111],\n",
              "         ...,\n",
              "         [0.3972907 , 0.85084765, 0.46304814, ..., 0.89178996,\n",
              "          0.68291258, 0.22769178],\n",
              "         [0.29325365, 0.510346  , 0.29057639, ..., 0.74556501,\n",
              "          0.81094475, 0.54911744],\n",
              "         [0.63379054, 0.75014639, 0.82752262, ..., 0.62000204,\n",
              "          0.09695512, 0.39170125]],\n",
              "\n",
              "        [[0.54847145, 0.1786386 , 0.75370276, ..., 0.94098114,\n",
              "          0.50823761, 0.62126629],\n",
              "         [0.37904642, 0.20909921, 0.90870951, ..., 0.80296446,\n",
              "          0.90646801, 0.41660782],\n",
              "         [0.86589836, 0.97583582, 0.86357411, ..., 0.67459184,\n",
              "          0.68671889, 0.31669129],\n",
              "         ...,\n",
              "         [0.3972907 , 0.19951101, 0.46304814, ..., 0.89178996,\n",
              "          0.4863933 , 0.59566648],\n",
              "         [0.22849041, 0.510346  , 0.19934731, ..., 0.65025595,\n",
              "          0.81094475, 0.32107626],\n",
              "         [0.93639258, 0.75014639, 0.98264518, ..., 0.62000204,\n",
              "          0.7948401 , 0.77835087]]],\n",
              "\n",
              "\n",
              "       [[[0.84582166, 0.6485756 , 0.97826547, ..., 0.27692124,\n",
              "          0.54076198, 0.62126629],\n",
              "         [0.37904642, 0.81400624, 0.12177961, ..., 0.80296446,\n",
              "          0.68973636, 0.83665207],\n",
              "         [0.6280009 , 0.97583582, 0.86357411, ..., 0.98324669,\n",
              "          0.68671889, 0.24178891],\n",
              "         ...,\n",
              "         [0.3972907 , 0.59557305, 0.49637041, ..., 0.89178996,\n",
              "          0.50060552, 0.34383618],\n",
              "         [0.43211503, 0.510346  , 0.4110077 , ..., 0.65025595,\n",
              "          0.81094475, 0.61368342],\n",
              "         [0.71724393, 0.75014639, 0.82752262, ..., 0.62000204,\n",
              "          0.99489525, 0.95005726]],\n",
              "\n",
              "        [[0.14046334, 0.58014266, 0.40307616, ..., 0.27692124,\n",
              "          0.85721599, 0.62126629],\n",
              "         [0.37904642, 0.57088511, 0.82127102, ..., 0.80296446,\n",
              "          0.34330814, 0.41660782],\n",
              "         [0.6280009 , 0.97583582, 0.86357411, ..., 0.67459184,\n",
              "          0.68671889, 0.56736824],\n",
              "         ...,\n",
              "         [0.57450564, 0.79298512, 0.95537887, ..., 0.89178996,\n",
              "          0.64025896, 0.11213638],\n",
              "         [0.29783942, 0.510346  , 0.1089765 , ..., 0.65025595,\n",
              "          0.81094475, 0.22631681],\n",
              "         [0.18632686, 0.75014639, 0.82752262, ..., 0.74492909,\n",
              "          0.61622115, 0.39170125]],\n",
              "\n",
              "        [[0.08265715, 0.02498793, 0.82784979, ..., 0.85081815,\n",
              "          0.41772734, 0.97200029],\n",
              "         [0.99496432, 0.15923513, 0.61981004, ..., 0.92499955,\n",
              "          0.91387853, 0.73959512],\n",
              "         [0.6280009 , 0.97583582, 0.86357411, ..., 0.89529853,\n",
              "          0.68671889, 0.41214934],\n",
              "         ...,\n",
              "         [0.77816248, 0.29145886, 0.58873185, ..., 0.89178996,\n",
              "          0.2275829 , 0.25971682],\n",
              "         [0.22849041, 0.77223503, 0.39929562, ..., 0.65025595,\n",
              "          0.81094475, 0.48479319],\n",
              "         [0.32256333, 0.75014639, 0.82752262, ..., 0.62000204,\n",
              "          0.80697239, 0.85535945]]],\n",
              "\n",
              "\n",
              "       ...,\n",
              "\n",
              "\n",
              "       [[[0.93457106, 0.15379804, 0.728119  , ..., 0.71495663,\n",
              "          0.70363735, 0.62126629],\n",
              "         [0.81682101, 0.81157761, 0.62492256, ..., 0.80296446,\n",
              "          0.9610658 , 0.41660782],\n",
              "         [0.6280009 , 0.97583582, 0.86357411, ..., 0.67459184,\n",
              "          0.86868057, 0.58785324],\n",
              "         ...,\n",
              "         [0.3972907 , 0.80805618, 0.91307749, ..., 0.89178996,\n",
              "          0.2275829 , 0.09964676],\n",
              "         [0.80334028, 0.510346  , 0.31058379, ..., 0.69073784,\n",
              "          0.97498071, 0.79318396],\n",
              "         [0.51944367, 0.75014639, 0.82752262, ..., 0.93484869,\n",
              "          0.74814819, 0.76559113]],\n",
              "\n",
              "        [[0.80498426, 0.24122297, 0.40307616, ..., 0.79648921,\n",
              "          0.61346934, 0.62126629],\n",
              "         [0.71970463, 0.15923513, 0.0540502 , ..., 0.96180498,\n",
              "          0.66029595, 0.8467897 ],\n",
              "         [0.6280009 , 0.97583582, 0.86357411, ..., 0.67459184,\n",
              "          0.80061649, 0.27598362],\n",
              "         ...,\n",
              "         [0.8377259 , 0.89211032, 0.46304814, ..., 0.89178996,\n",
              "          0.39307771, 0.39688288],\n",
              "         [0.22849041, 0.510346  , 0.31487973, ..., 0.65025595,\n",
              "          0.81094475, 0.3533014 ],\n",
              "         [0.10658708, 0.99554311, 0.82752262, ..., 0.62000204,\n",
              "          0.48813967, 0.78211788]],\n",
              "\n",
              "        [[0.47145761, 0.53898415, 0.75174744, ..., 0.27692124,\n",
              "          0.09584   , 0.75988778],\n",
              "         [0.37904642, 0.15923513, 0.09418322, ..., 0.80296446,\n",
              "          0.56383865, 0.94659231],\n",
              "         [0.6280009 , 0.97583582, 0.86357411, ..., 0.67459184,\n",
              "          0.68671889, 0.80699718],\n",
              "         ...,\n",
              "         [0.3972907 , 0.73070341, 0.93890013, ..., 0.89178996,\n",
              "          0.62500896, 0.81698997],\n",
              "         [0.66449561, 0.510346  , 0.12575037, ..., 0.65025595,\n",
              "          0.88621594, 0.22631681],\n",
              "         [0.49238846, 0.75014639, 0.82752262, ..., 0.62000204,\n",
              "          0.82502971, 0.92123447]]],\n",
              "\n",
              "\n",
              "       [[[0.26123631, 0.50798706, 0.56490055, ..., 0.75236067,\n",
              "          0.69211366, 0.62126629],\n",
              "         [0.50090455, 0.52127125, 0.49410093, ..., 0.80296446,\n",
              "          0.36896724, 0.81834158],\n",
              "         [0.94794457, 0.97583582, 0.86357411, ..., 0.92814554,\n",
              "          0.68671889, 0.39584575],\n",
              "         ...,\n",
              "         [0.63873118, 0.19951101, 0.51432348, ..., 0.89178996,\n",
              "          0.65001076, 0.90497899],\n",
              "         [0.30834648, 0.510346  , 0.1089765 , ..., 0.65025595,\n",
              "          0.81656271, 0.22631681],\n",
              "         [0.23661897, 0.75014639, 0.82752262, ..., 0.83395352,\n",
              "          0.76931732, 0.52971811]],\n",
              "\n",
              "        [[0.7414203 , 0.59165671, 0.40307616, ..., 0.27692124,\n",
              "          0.50620309, 0.62126629],\n",
              "         [0.66645835, 0.23461052, 0.0056596 , ..., 0.80296446,\n",
              "          0.52260743, 0.88542571],\n",
              "         [0.6280009 , 0.97583582, 0.86357411, ..., 0.67459184,\n",
              "          0.68671889, 0.18150835],\n",
              "         ...,\n",
              "         [0.4155226 , 0.19951101, 0.46304814, ..., 0.89178996,\n",
              "          0.62498544, 0.24383745],\n",
              "         [0.22849041, 0.51429223, 0.1089765 , ..., 0.65025595,\n",
              "          0.81094475, 0.59323395],\n",
              "         [0.20494838, 0.75014639, 0.82752262, ..., 0.62000204,\n",
              "          0.09695512, 0.72731191]],\n",
              "\n",
              "        [[0.12678093, 0.51044908, 0.40307616, ..., 0.35328523,\n",
              "          0.23104288, 0.91577022],\n",
              "         [0.92769385, 0.97346371, 0.56268513, ..., 0.90710958,\n",
              "          0.18375652, 0.74604178],\n",
              "         [0.70766991, 0.97583582, 0.86357411, ..., 0.67459184,\n",
              "          0.68671889, 0.45388171],\n",
              "         ...,\n",
              "         [0.3972907 , 0.74345787, 0.68193348, ..., 0.89178996,\n",
              "          0.68733346, 0.22991197],\n",
              "         [0.22849041, 0.55534499, 0.50867299, ..., 0.65025595,\n",
              "          0.81094475, 0.67825918],\n",
              "         [0.69587309, 0.75014639, 0.97814099, ..., 0.62000204,\n",
              "          0.77133218, 0.39170125]]],\n",
              "\n",
              "\n",
              "       [[[0.25692212, 0.01518605, 0.40307616, ..., 0.35761062,\n",
              "          0.09584   , 0.62126629],\n",
              "         [0.46008748, 0.29299466, 0.6585739 , ..., 0.90533427,\n",
              "          0.18375652, 0.45680432],\n",
              "         [0.6280009 , 0.97583582, 0.86357411, ..., 0.82199415,\n",
              "          0.68671889, 0.74673739],\n",
              "         ...,\n",
              "         [0.3972907 , 0.38982009, 0.46304814, ..., 0.89178996,\n",
              "          0.52463947, 0.8477447 ],\n",
              "         [0.22849041, 0.510346  , 0.71767054, ..., 0.65025595,\n",
              "          0.89174619, 0.35562533],\n",
              "         [0.52846811, 0.75014639, 0.99240051, ..., 0.77530981,\n",
              "          0.6000526 , 0.39170125]],\n",
              "\n",
              "        [[0.33293942, 0.13284374, 0.79997328, ..., 0.73572562,\n",
              "          0.7151332 , 0.62126629],\n",
              "         [0.37904642, 0.15923513, 0.7941607 , ..., 0.80296446,\n",
              "          0.39684988, 0.49833735],\n",
              "         [0.6280009 , 0.97583582, 0.86357411, ..., 0.67459184,\n",
              "          0.95606818, 0.89369399],\n",
              "         ...,\n",
              "         [0.55685874, 0.49305774, 0.72178656, ..., 0.89178996,\n",
              "          0.2275829 , 0.39728862],\n",
              "         [0.52114607, 0.510346  , 0.96941869, ..., 0.87204263,\n",
              "          0.81094475, 0.61283227],\n",
              "         [0.60772435, 0.75014639, 0.82752262, ..., 0.62000204,\n",
              "          0.30894315, 0.45668104]],\n",
              "\n",
              "        [[0.08265715, 0.61337034, 0.40307616, ..., 0.55620625,\n",
              "          0.91127914, 0.62126629],\n",
              "         [0.86011719, 0.88585762, 0.98433821, ..., 0.83330444,\n",
              "          0.38534181, 0.41660782],\n",
              "         [0.95919423, 0.97583582, 0.86357411, ..., 0.77958756,\n",
              "          0.93653277, 0.60654062],\n",
              "         ...,\n",
              "         [0.59608608, 0.32030331, 0.70527654, ..., 0.89178996,\n",
              "          0.2275829 , 0.52750217],\n",
              "         [0.22849041, 0.73192076, 0.8545708 , ..., 0.91716534,\n",
              "          0.81094475, 0.22631681],\n",
              "         [0.2475624 , 0.75014639, 0.82752262, ..., 0.62000204,\n",
              "          0.5614235 , 0.77469563]]]])"
            ]
          },
          "metadata": {},
          "execution_count": 71
        }
      ]
    },
    {
      "cell_type": "code",
      "source": [
        "z.shape"
      ],
      "metadata": {
        "colab": {
          "base_uri": "https://localhost:8080/"
        },
        "id": "0_FqAOKFPPd0",
        "outputId": "d81e37c3-2c6d-4914-9375-4a8a772ab8c1"
      },
      "execution_count": 72,
      "outputs": [
        {
          "output_type": "execute_result",
          "data": {
            "text/plain": [
              "(64, 3, 32, 10)"
            ]
          },
          "metadata": {},
          "execution_count": 72
        }
      ]
    },
    {
      "cell_type": "code",
      "source": [
        "x = np.random.random((32,))\n",
        "y = np.random.random((32,))\n",
        "z = np.dot(x,y)\n",
        "z"
      ],
      "metadata": {
        "colab": {
          "base_uri": "https://localhost:8080/"
        },
        "id": "2muzhosmPUY_",
        "outputId": "ba8d3c51-abe8-4dfb-bef0-658df1e36a9d"
      },
      "execution_count": 73,
      "outputs": [
        {
          "output_type": "execute_result",
          "data": {
            "text/plain": [
              "10.887598390998221"
            ]
          },
          "metadata": {},
          "execution_count": 73
        }
      ]
    },
    {
      "cell_type": "code",
      "source": [
        "def naive_vector_dot(x,y):\n",
        "  assert x.ndim == 1\n",
        "  assert y.ndim == 1\n",
        "  assert x.shape[0] == y.shape[0]\n",
        "  z = 0.\n",
        "  for i in range(x.shape[0]):\n",
        "    z += x[i] * y[i]\n",
        "  return z"
      ],
      "metadata": {
        "id": "Eq75vrB7Pln-"
      },
      "execution_count": 75,
      "outputs": []
    },
    {
      "cell_type": "code",
      "source": [
        "def naive_matrix_vector_dot(x, y):\n",
        "  assert x.ndim == 2\n",
        "  assert y.ndim == 1\n",
        "  assert x.shape[1] == y.shape[0]\n",
        "  z = np.zeros(x.shape[0])\n",
        "  for i in range (x.shape[0]):\n",
        "    for j in range (x.shape[1]):\n",
        "      z[i] += x[i,j] * y[j]\n",
        "  return z"
      ],
      "metadata": {
        "id": "OveHHpn0P-zi"
      },
      "execution_count": 76,
      "outputs": []
    },
    {
      "cell_type": "code",
      "source": [
        "def naive_matrix_dot(x, y):\n",
        "  assert x.ndim == 2\n",
        "  assert y.ndim == 2\n",
        "  assert x.shape[1] == y.shape[0]\n",
        "  z = np.zeros(x.shape[0], y.shape[1])\n",
        "  for i in range(x.shape[0]):\n",
        "    for j in range(y.shape[1]):\n",
        "      row_x = x[i, :]\n",
        "      column_y = y[:, j]\n",
        "      z[i, j] = naive_vector_dot(row_x, column_y)\n",
        "  return z"
      ],
      "metadata": {
        "id": "wMhUs6uCQl3t"
      },
      "execution_count": 77,
      "outputs": []
    },
    {
      "cell_type": "code",
      "source": [
        "train_images = train_images.reshape((60000, 28 * 28))\n",
        "train_images.shape"
      ],
      "metadata": {
        "colab": {
          "base_uri": "https://localhost:8080/"
        },
        "id": "guzesSELZzym",
        "outputId": "dbd09d19-6d93-4ca8-baed-f906a8457942"
      },
      "execution_count": 78,
      "outputs": [
        {
          "output_type": "execute_result",
          "data": {
            "text/plain": [
              "(60000, 784)"
            ]
          },
          "metadata": {},
          "execution_count": 78
        }
      ]
    },
    {
      "cell_type": "code",
      "source": [
        "x = np.array([[0., 1.],\n",
        "              [2.,3.],\n",
        "              [4.,5.]])\n",
        "x.shape"
      ],
      "metadata": {
        "colab": {
          "base_uri": "https://localhost:8080/"
        },
        "id": "fTxNfICpZ7gv",
        "outputId": "ca9bae87-6c51-44d9-bdfa-183cbd2f5a17"
      },
      "execution_count": 79,
      "outputs": [
        {
          "output_type": "execute_result",
          "data": {
            "text/plain": [
              "(3, 2)"
            ]
          },
          "metadata": {},
          "execution_count": 79
        }
      ]
    },
    {
      "cell_type": "code",
      "source": [
        "x = x.reshape((6, 1))"
      ],
      "metadata": {
        "id": "snVKMffuaLMX"
      },
      "execution_count": 80,
      "outputs": []
    },
    {
      "cell_type": "code",
      "source": [
        "x"
      ],
      "metadata": {
        "colab": {
          "base_uri": "https://localhost:8080/"
        },
        "id": "-ldnspNCaO2c",
        "outputId": "a11ee834-e9cb-40ed-cc75-b365185faff6"
      },
      "execution_count": 81,
      "outputs": [
        {
          "output_type": "execute_result",
          "data": {
            "text/plain": [
              "array([[0.],\n",
              "       [1.],\n",
              "       [2.],\n",
              "       [3.],\n",
              "       [4.],\n",
              "       [5.]])"
            ]
          },
          "metadata": {},
          "execution_count": 81
        }
      ]
    },
    {
      "cell_type": "code",
      "source": [
        "x = x.reshape((2,3))\n",
        "x"
      ],
      "metadata": {
        "colab": {
          "base_uri": "https://localhost:8080/"
        },
        "id": "efRaSF8UaPd1",
        "outputId": "6b543a07-ef65-4417-f5a0-4139521bba86"
      },
      "execution_count": 82,
      "outputs": [
        {
          "output_type": "execute_result",
          "data": {
            "text/plain": [
              "array([[0., 1., 2.],\n",
              "       [3., 4., 5.]])"
            ]
          },
          "metadata": {},
          "execution_count": 82
        }
      ]
    },
    {
      "cell_type": "code",
      "source": [
        "x = np.zeros((300,20))\n",
        "x = np.transpose(x)\n",
        "x.shape"
      ],
      "metadata": {
        "colab": {
          "base_uri": "https://localhost:8080/"
        },
        "id": "XN5ajcdZaVaC",
        "outputId": "5ea494a7-516d-4bf9-a2d6-5159ae3e0f6c"
      },
      "execution_count": 83,
      "outputs": [
        {
          "output_type": "execute_result",
          "data": {
            "text/plain": [
              "(20, 300)"
            ]
          },
          "metadata": {},
          "execution_count": 83
        }
      ]
    },
    {
      "cell_type": "code",
      "source": [
        "import tensorflow as tf\n",
        "x = tf.Variable(0.)\n",
        "with tf.GradientTape() as tape:\n",
        "  y = 2 * x + 3\n",
        "grad_of_y_wrt_x = tape.gradient(y, x)\n",
        "grad_of_y_wrt_x"
      ],
      "metadata": {
        "colab": {
          "base_uri": "https://localhost:8080/"
        },
        "id": "kBq037kjaczj",
        "outputId": "a0486182-9cf6-4944-c315-f4c55d936f09"
      },
      "execution_count": 84,
      "outputs": [
        {
          "output_type": "execute_result",
          "data": {
            "text/plain": [
              "<tf.Tensor: shape=(), dtype=float32, numpy=2.0>"
            ]
          },
          "metadata": {},
          "execution_count": 84
        }
      ]
    },
    {
      "cell_type": "code",
      "source": [
        "x = tf.Variable(tf.random.uniform((2,2)))\n",
        "with tf.GradientTape() as tape:\n",
        "  y = 2 * x + 3\n",
        "grad_of_y_wrt_x = tape.gradient(y,x)\n",
        "grad_of_y_wrt_x"
      ],
      "metadata": {
        "colab": {
          "base_uri": "https://localhost:8080/"
        },
        "id": "FjZ78wVYbI-c",
        "outputId": "484fe4ae-1d72-489c-824b-0246a68ceca2"
      },
      "execution_count": 85,
      "outputs": [
        {
          "output_type": "execute_result",
          "data": {
            "text/plain": [
              "<tf.Tensor: shape=(2, 2), dtype=float32, numpy=\n",
              "array([[2., 2.],\n",
              "       [2., 2.]], dtype=float32)>"
            ]
          },
          "metadata": {},
          "execution_count": 85
        }
      ]
    },
    {
      "cell_type": "code",
      "source": [
        "W = tf.Variable(tf.random.uniform((2,2)))\n",
        "b = tf.Variable(tf.zeros((2,)))\n",
        "x = tf.random.uniform((2,2))\n",
        "with tf.GradientTape() as tape:\n",
        "  y = tf.matmul(x, W) + b\n",
        "grad_of_y_wrt_W_and_b = tape.gradient(y, [W, b])\n",
        "grad_of_y_wrt_W_and_b"
      ],
      "metadata": {
        "colab": {
          "base_uri": "https://localhost:8080/"
        },
        "id": "SvCkoP8Gbs3r",
        "outputId": "9dc674d4-1882-4a36-e220-05c19558184b"
      },
      "execution_count": 86,
      "outputs": [
        {
          "output_type": "execute_result",
          "data": {
            "text/plain": [
              "[<tf.Tensor: shape=(2, 2), dtype=float32, numpy=\n",
              " array([[1.125341 , 1.125341 ],\n",
              "        [1.8431244, 1.8431244]], dtype=float32)>,\n",
              " <tf.Tensor: shape=(2,), dtype=float32, numpy=array([2., 2.], dtype=float32)>]"
            ]
          },
          "metadata": {},
          "execution_count": 86
        }
      ]
    },
    {
      "cell_type": "code",
      "source": [
        "(train_images, train_labels), (test_images, test_labels) = mnist.load_data()\n",
        "train_images = train_images.reshape((60000, 28 * 28))\n",
        "train_images = train_images.astype(\"float32\") / 255\n",
        "test_images = test_images.reshape((10000, 28 * 28))\n",
        "test_images = test_images.astype(\"float32\") / 255\n"
      ],
      "metadata": {
        "id": "TCvZuqH2cUWK"
      },
      "execution_count": 87,
      "outputs": []
    },
    {
      "cell_type": "code",
      "source": [
        "train_images.shape"
      ],
      "metadata": {
        "colab": {
          "base_uri": "https://localhost:8080/"
        },
        "id": "_zh3t6q7dEm4",
        "outputId": "77586754-fc4a-415e-ec73-0cfb3cff2919"
      },
      "execution_count": 88,
      "outputs": [
        {
          "output_type": "execute_result",
          "data": {
            "text/plain": [
              "(60000, 784)"
            ]
          },
          "metadata": {},
          "execution_count": 88
        }
      ]
    },
    {
      "cell_type": "code",
      "source": [
        "test_images.shape"
      ],
      "metadata": {
        "colab": {
          "base_uri": "https://localhost:8080/"
        },
        "id": "-dax3tLxdGmH",
        "outputId": "2a509241-d3e8-4a14-9243-cd97f182d0ac"
      },
      "execution_count": 89,
      "outputs": [
        {
          "output_type": "execute_result",
          "data": {
            "text/plain": [
              "(10000, 784)"
            ]
          },
          "metadata": {},
          "execution_count": 89
        }
      ]
    },
    {
      "cell_type": "code",
      "source": [
        "model = keras.Sequential([\n",
        "    layers.Dense(512, activation=\"relu\"),\n",
        "    layers.Dense(10, activation=\"softmax\")\n",
        "])\n"
      ],
      "metadata": {
        "id": "GCr4ld1UdJXH"
      },
      "execution_count": 90,
      "outputs": []
    },
    {
      "cell_type": "code",
      "source": [
        "model.compile(optimizer=\"rmsprop\",\n",
        "              loss=\"sparse_categorical_crossentropy\",\n",
        "              metrics=[\"accuracy\"])"
      ],
      "metadata": {
        "id": "tuCFbYAQdVjM"
      },
      "execution_count": 91,
      "outputs": []
    },
    {
      "cell_type": "code",
      "source": [
        "model.fit(train_images, train_labels, epochs=5, batch_size=128)\n"
      ],
      "metadata": {
        "colab": {
          "base_uri": "https://localhost:8080/"
        },
        "id": "ismBgqE2diqv",
        "outputId": "b6184b90-f4c6-41e4-c743-b8c758dbe883"
      },
      "execution_count": 92,
      "outputs": [
        {
          "output_type": "stream",
          "name": "stdout",
          "text": [
            "Epoch 1/5\n",
            "\u001b[1m469/469\u001b[0m \u001b[32m━━━━━━━━━━━━━━━━━━━━\u001b[0m\u001b[37m\u001b[0m \u001b[1m5s\u001b[0m 10ms/step - accuracy: 0.8723 - loss: 0.4454\n",
            "Epoch 2/5\n",
            "\u001b[1m469/469\u001b[0m \u001b[32m━━━━━━━━━━━━━━━━━━━━\u001b[0m\u001b[37m\u001b[0m \u001b[1m5s\u001b[0m 10ms/step - accuracy: 0.9654 - loss: 0.1164\n",
            "Epoch 3/5\n",
            "\u001b[1m469/469\u001b[0m \u001b[32m━━━━━━━━━━━━━━━━━━━━\u001b[0m\u001b[37m\u001b[0m \u001b[1m8s\u001b[0m 16ms/step - accuracy: 0.9787 - loss: 0.0736\n",
            "Epoch 4/5\n",
            "\u001b[1m469/469\u001b[0m \u001b[32m━━━━━━━━━━━━━━━━━━━━\u001b[0m\u001b[37m\u001b[0m \u001b[1m6s\u001b[0m 12ms/step - accuracy: 0.9841 - loss: 0.0531\n",
            "Epoch 5/5\n",
            "\u001b[1m469/469\u001b[0m \u001b[32m━━━━━━━━━━━━━━━━━━━━\u001b[0m\u001b[37m\u001b[0m \u001b[1m9s\u001b[0m 10ms/step - accuracy: 0.9887 - loss: 0.0369\n"
          ]
        },
        {
          "output_type": "execute_result",
          "data": {
            "text/plain": [
              "<keras.src.callbacks.history.History at 0x7899980ac6d0>"
            ]
          },
          "metadata": {},
          "execution_count": 92
        }
      ]
    },
    {
      "cell_type": "code",
      "source": [
        "import tensorflow as tf\n",
        "\n",
        "class NaiveDense:\n",
        "  def __init__(self, input_size, output_size, activation):\n",
        "    self.activation = activation\n",
        "\n",
        "    w_shape = (input_size, output_size)\n",
        "    w_initial_value = tf.random.uniform(w_shape, minval=0, maxval=1e-1)\n",
        "    self.W = tf.Variable(w_initial_value)\n",
        "\n",
        "    b_shape = (output_size, )\n",
        "    b_initial_value = tf.zeros(b_shape)\n",
        "    self.b = tf.Variable(b_initial_value)\n",
        "\n",
        "  def __call__(self, inputs):\n",
        "    return self.activation(tf.matmul(inputs, self.W) + self.b)\n",
        "\n",
        "  @property\n",
        "  def weights(self):\n",
        "    return [self.W, self.b]\n"
      ],
      "metadata": {
        "id": "HiTxYD96dqCe"
      },
      "execution_count": 93,
      "outputs": []
    },
    {
      "cell_type": "code",
      "source": [
        "class NaiveSequential:\n",
        "  def __init__(self, layers):\n",
        "    self.layers = layers\n",
        "\n",
        "  def __call__(self, inputs):\n",
        "    x = inputs\n",
        "    for layer in self.layers:\n",
        "      x = layer(x)\n",
        "    return x\n",
        "\n",
        "  @property\n",
        "  def weights(self):\n",
        "    weights = []\n",
        "    for layer in self.layers:\n",
        "      weights += layer.weights\n",
        "    return weights\n",
        ""
      ],
      "metadata": {
        "id": "iNWhMAB4fGy5"
      },
      "execution_count": 94,
      "outputs": []
    },
    {
      "cell_type": "code",
      "source": [
        "model = NaiveSequential([\n",
        "    NaiveDense(input_size=28 * 28, output_size=512, activation=tf.nn.relu),\n",
        "    NaiveDense(input_size=512, output_size=10, activation=tf.nn.softmax)\n",
        "])\n",
        "assert len(model.weights) == 4"
      ],
      "metadata": {
        "id": "dz0VEmKVf4IM"
      },
      "execution_count": 95,
      "outputs": []
    },
    {
      "cell_type": "code",
      "source": [
        "import math\n",
        "\n",
        "class BatchGenerator:\n",
        "  def __init__(self, images, labels, batch_size=128):\n",
        "    assert len(images) == len(labels)\n",
        "    self.index = 0\n",
        "    self.images = images\n",
        "    self.labels = labels\n",
        "    self.batch_size = batch_size\n",
        "    self.num_batches = math.ceil(len(images) / batch_size)\n",
        "\n",
        "  def next(self):\n",
        "    images = self.images[self.index: self.index + self.batch_size]\n",
        "    labels = self.labels[self.index: self.index + self.batch_size]\n",
        "    self.index += self.batch_size\n",
        "    return images, labels\n",
        "\n",
        ""
      ],
      "metadata": {
        "id": "XngugfeGgWHW"
      },
      "execution_count": 96,
      "outputs": []
    },
    {
      "cell_type": "code",
      "source": [
        "def one_training_step(model, images_batch, labels_batch):\n",
        "  with tf.GradientTape() as tape:\n",
        "    predictions = model(images_batch)\n",
        "    per_sample_losses = tf.keras.losses.sparse_categorical_crossentropy(\n",
        "        labels_batch, predictions)\n",
        "    average_loss = tf.reduce_mean(per_sample_losses)\n",
        "  gradients = tape.gradient(average_loss, model.weights)\n",
        "  update_weights(gradients, model.weights)\n",
        "  return average_loss\n"
      ],
      "metadata": {
        "id": "6bsjYcbmhYJB"
      },
      "execution_count": 97,
      "outputs": []
    },
    {
      "cell_type": "code",
      "source": [
        "learning_rate = 1e-3\n",
        "\n",
        "def update_weights(gradients, weights):\n",
        "  for g, w in zip(gradients, weights):\n",
        "    w.assign_sub(g * learning_rate)\n"
      ],
      "metadata": {
        "id": "qrtaRWYUiLqZ"
      },
      "execution_count": 98,
      "outputs": []
    },
    {
      "cell_type": "code",
      "source": [
        "def fit(model, images, labels, epochs, batch_size=128):\n",
        "  for epoch_counter in range(epochs):\n",
        "    print(f\"Epoch {epoch_counter}\")\n",
        "    batch_generator = BatchGenerator(images, labels)\n",
        "    for batch_counter in range(batch_generator.num_batches):\n",
        "      images_batch, labels_batch = batch_generator.next()\n",
        "      loss = one_training_step(model, images_batch, labels_batch)\n",
        "      if batch_counter % 100 == 0:\n",
        "        print(f\"loss at batch {batch_counter}: {loss:.2f}\")\n",
        "\n",
        "from tensorflow.keras.datasets import mnist\n",
        "(train_images, train_labels), (test_images, test_labels) = mnist.load_data()\n",
        "\n",
        "train_images = train_images.reshape((60000, 28 * 28))\n",
        "train_images = train_images.astype(\"float32\") / 255\n",
        "test_images = test_images.reshape((10000, 28 * 28))\n",
        "test_images = test_images.astype(\"float32\") / 255\n",
        "\n",
        "fit(model, train_images, train_labels, epochs=10, batch_size=128)\n"
      ],
      "metadata": {
        "colab": {
          "base_uri": "https://localhost:8080/"
        },
        "id": "yCzxFYzpikO3",
        "outputId": "9b548a9c-b6fa-4470-f303-6334ddb218e3"
      },
      "execution_count": 100,
      "outputs": [
        {
          "output_type": "stream",
          "name": "stdout",
          "text": [
            "Epoch 0\n",
            "loss at batch 0: 7.30\n",
            "loss at batch 100: 2.22\n",
            "loss at batch 200: 2.20\n",
            "loss at batch 300: 2.09\n",
            "loss at batch 400: 2.22\n",
            "Epoch 1\n",
            "loss at batch 0: 1.89\n",
            "loss at batch 100: 1.87\n",
            "loss at batch 200: 1.83\n",
            "loss at batch 300: 1.72\n",
            "loss at batch 400: 1.85\n",
            "Epoch 2\n",
            "loss at batch 0: 1.57\n",
            "loss at batch 100: 1.57\n",
            "loss at batch 200: 1.52\n",
            "loss at batch 300: 1.43\n",
            "loss at batch 400: 1.53\n",
            "Epoch 3\n",
            "loss at batch 0: 1.31\n",
            "loss at batch 100: 1.33\n",
            "loss at batch 200: 1.26\n",
            "loss at batch 300: 1.21\n",
            "loss at batch 400: 1.29\n",
            "Epoch 4\n",
            "loss at batch 0: 1.12\n",
            "loss at batch 100: 1.15\n",
            "loss at batch 200: 1.06\n",
            "loss at batch 300: 1.05\n",
            "loss at batch 400: 1.12\n",
            "Epoch 5\n",
            "loss at batch 0: 0.97\n",
            "loss at batch 100: 1.01\n",
            "loss at batch 200: 0.91\n",
            "loss at batch 300: 0.93\n",
            "loss at batch 400: 1.00\n",
            "Epoch 6\n",
            "loss at batch 0: 0.86\n",
            "loss at batch 100: 0.90\n",
            "loss at batch 200: 0.81\n",
            "loss at batch 300: 0.84\n",
            "loss at batch 400: 0.91\n",
            "Epoch 7\n",
            "loss at batch 0: 0.78\n",
            "loss at batch 100: 0.82\n",
            "loss at batch 200: 0.73\n",
            "loss at batch 300: 0.77\n",
            "loss at batch 400: 0.84\n",
            "Epoch 8\n",
            "loss at batch 0: 0.71\n",
            "loss at batch 100: 0.75\n",
            "loss at batch 200: 0.66\n",
            "loss at batch 300: 0.71\n",
            "loss at batch 400: 0.79\n",
            "Epoch 9\n",
            "loss at batch 0: 0.66\n",
            "loss at batch 100: 0.69\n",
            "loss at batch 200: 0.61\n",
            "loss at batch 300: 0.67\n",
            "loss at batch 400: 0.75\n"
          ]
        }
      ]
    },
    {
      "cell_type": "code",
      "source": [
        "predictions = model(test_images)\n",
        "predictions = predictions.numpy()\n",
        "predicted_labels = np.argmax(predictions, axis=1)\n",
        "matches = predicted_labels == test_labels\n",
        "print(f\"accuracy: {matches.mean():.2f}\")\n"
      ],
      "metadata": {
        "colab": {
          "base_uri": "https://localhost:8080/"
        },
        "id": "BgXOgeYakPDK",
        "outputId": "8ad95eb7-2a3b-4631-a47e-1cb6c2f25913"
      },
      "execution_count": 101,
      "outputs": [
        {
          "output_type": "stream",
          "name": "stdout",
          "text": [
            "accuracy: 0.82\n"
          ]
        }
      ]
    },
    {
      "cell_type": "code",
      "source": [],
      "metadata": {
        "id": "KQ1Fb-GXlpHp"
      },
      "execution_count": null,
      "outputs": []
    }
  ]
}