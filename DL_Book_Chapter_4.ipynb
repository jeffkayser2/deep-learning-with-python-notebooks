{
  "nbformat": 4,
  "nbformat_minor": 0,
  "metadata": {
    "colab": {
      "provenance": [],
      "authorship_tag": "ABX9TyPTeWuf1e0d7iwbmdaWJ98I",
      "include_colab_link": true
    },
    "kernelspec": {
      "name": "python3",
      "display_name": "Python 3"
    },
    "language_info": {
      "name": "python"
    }
  },
  "cells": [
    {
      "cell_type": "markdown",
      "metadata": {
        "id": "view-in-github",
        "colab_type": "text"
      },
      "source": [
        "<a href=\"https://colab.research.google.com/github/jeffkayser2/deep-learning-with-python-notebooks/blob/master/DL_Book_Chapter_4.ipynb\" target=\"_parent\"><img src=\"https://colab.research.google.com/assets/colab-badge.svg\" alt=\"Open In Colab\"/></a>"
      ]
    },
    {
      "cell_type": "code",
      "execution_count": 1,
      "metadata": {
        "colab": {
          "base_uri": "https://localhost:8080/"
        },
        "id": "LDQf1jqSx90_",
        "outputId": "32f14398-f144-4800-bdf7-d2be0f470311"
      },
      "outputs": [
        {
          "output_type": "stream",
          "name": "stdout",
          "text": [
            "Downloading data from https://storage.googleapis.com/tensorflow/tf-keras-datasets/imdb.npz\n",
            "\u001b[1m17464789/17464789\u001b[0m \u001b[32m━━━━━━━━━━━━━━━━━━━━\u001b[0m\u001b[37m\u001b[0m \u001b[1m0s\u001b[0m 0us/step\n"
          ]
        }
      ],
      "source": [
        "from tensorflow.keras.datasets import imdb\n",
        "(train_data, train_labels), (test_data, test_labels) = imdb.load_data(num_words=10000)\n"
      ]
    },
    {
      "cell_type": "code",
      "source": [
        "train_data.shape"
      ],
      "metadata": {
        "colab": {
          "base_uri": "https://localhost:8080/"
        },
        "id": "1pkCbnoLyO-a",
        "outputId": "1fbd3c89-d275-44d6-8e90-d9e3de527212"
      },
      "execution_count": 2,
      "outputs": [
        {
          "output_type": "execute_result",
          "data": {
            "text/plain": [
              "(25000,)"
            ]
          },
          "metadata": {},
          "execution_count": 2
        }
      ]
    },
    {
      "cell_type": "code",
      "source": [
        "test_data.shape"
      ],
      "metadata": {
        "colab": {
          "base_uri": "https://localhost:8080/"
        },
        "id": "ZZkas0qwyZEv",
        "outputId": "6cc19208-9780-4740-c6a8-c07612bf2458"
      },
      "execution_count": 3,
      "outputs": [
        {
          "output_type": "execute_result",
          "data": {
            "text/plain": [
              "(25000,)"
            ]
          },
          "metadata": {},
          "execution_count": 3
        }
      ]
    },
    {
      "cell_type": "code",
      "source": [
        "train_data[0]"
      ],
      "metadata": {
        "colab": {
          "base_uri": "https://localhost:8080/"
        },
        "id": "gz_VHn75ybYf",
        "outputId": "d93c12fb-57c9-4015-8fec-49156064c53f"
      },
      "execution_count": 4,
      "outputs": [
        {
          "output_type": "execute_result",
          "data": {
            "text/plain": [
              "[1,\n",
              " 14,\n",
              " 22,\n",
              " 16,\n",
              " 43,\n",
              " 530,\n",
              " 973,\n",
              " 1622,\n",
              " 1385,\n",
              " 65,\n",
              " 458,\n",
              " 4468,\n",
              " 66,\n",
              " 3941,\n",
              " 4,\n",
              " 173,\n",
              " 36,\n",
              " 256,\n",
              " 5,\n",
              " 25,\n",
              " 100,\n",
              " 43,\n",
              " 838,\n",
              " 112,\n",
              " 50,\n",
              " 670,\n",
              " 2,\n",
              " 9,\n",
              " 35,\n",
              " 480,\n",
              " 284,\n",
              " 5,\n",
              " 150,\n",
              " 4,\n",
              " 172,\n",
              " 112,\n",
              " 167,\n",
              " 2,\n",
              " 336,\n",
              " 385,\n",
              " 39,\n",
              " 4,\n",
              " 172,\n",
              " 4536,\n",
              " 1111,\n",
              " 17,\n",
              " 546,\n",
              " 38,\n",
              " 13,\n",
              " 447,\n",
              " 4,\n",
              " 192,\n",
              " 50,\n",
              " 16,\n",
              " 6,\n",
              " 147,\n",
              " 2025,\n",
              " 19,\n",
              " 14,\n",
              " 22,\n",
              " 4,\n",
              " 1920,\n",
              " 4613,\n",
              " 469,\n",
              " 4,\n",
              " 22,\n",
              " 71,\n",
              " 87,\n",
              " 12,\n",
              " 16,\n",
              " 43,\n",
              " 530,\n",
              " 38,\n",
              " 76,\n",
              " 15,\n",
              " 13,\n",
              " 1247,\n",
              " 4,\n",
              " 22,\n",
              " 17,\n",
              " 515,\n",
              " 17,\n",
              " 12,\n",
              " 16,\n",
              " 626,\n",
              " 18,\n",
              " 2,\n",
              " 5,\n",
              " 62,\n",
              " 386,\n",
              " 12,\n",
              " 8,\n",
              " 316,\n",
              " 8,\n",
              " 106,\n",
              " 5,\n",
              " 4,\n",
              " 2223,\n",
              " 5244,\n",
              " 16,\n",
              " 480,\n",
              " 66,\n",
              " 3785,\n",
              " 33,\n",
              " 4,\n",
              " 130,\n",
              " 12,\n",
              " 16,\n",
              " 38,\n",
              " 619,\n",
              " 5,\n",
              " 25,\n",
              " 124,\n",
              " 51,\n",
              " 36,\n",
              " 135,\n",
              " 48,\n",
              " 25,\n",
              " 1415,\n",
              " 33,\n",
              " 6,\n",
              " 22,\n",
              " 12,\n",
              " 215,\n",
              " 28,\n",
              " 77,\n",
              " 52,\n",
              " 5,\n",
              " 14,\n",
              " 407,\n",
              " 16,\n",
              " 82,\n",
              " 2,\n",
              " 8,\n",
              " 4,\n",
              " 107,\n",
              " 117,\n",
              " 5952,\n",
              " 15,\n",
              " 256,\n",
              " 4,\n",
              " 2,\n",
              " 7,\n",
              " 3766,\n",
              " 5,\n",
              " 723,\n",
              " 36,\n",
              " 71,\n",
              " 43,\n",
              " 530,\n",
              " 476,\n",
              " 26,\n",
              " 400,\n",
              " 317,\n",
              " 46,\n",
              " 7,\n",
              " 4,\n",
              " 2,\n",
              " 1029,\n",
              " 13,\n",
              " 104,\n",
              " 88,\n",
              " 4,\n",
              " 381,\n",
              " 15,\n",
              " 297,\n",
              " 98,\n",
              " 32,\n",
              " 2071,\n",
              " 56,\n",
              " 26,\n",
              " 141,\n",
              " 6,\n",
              " 194,\n",
              " 7486,\n",
              " 18,\n",
              " 4,\n",
              " 226,\n",
              " 22,\n",
              " 21,\n",
              " 134,\n",
              " 476,\n",
              " 26,\n",
              " 480,\n",
              " 5,\n",
              " 144,\n",
              " 30,\n",
              " 5535,\n",
              " 18,\n",
              " 51,\n",
              " 36,\n",
              " 28,\n",
              " 224,\n",
              " 92,\n",
              " 25,\n",
              " 104,\n",
              " 4,\n",
              " 226,\n",
              " 65,\n",
              " 16,\n",
              " 38,\n",
              " 1334,\n",
              " 88,\n",
              " 12,\n",
              " 16,\n",
              " 283,\n",
              " 5,\n",
              " 16,\n",
              " 4472,\n",
              " 113,\n",
              " 103,\n",
              " 32,\n",
              " 15,\n",
              " 16,\n",
              " 5345,\n",
              " 19,\n",
              " 178,\n",
              " 32]"
            ]
          },
          "metadata": {},
          "execution_count": 4
        }
      ]
    },
    {
      "cell_type": "code",
      "source": [
        "train_labels[0]"
      ],
      "metadata": {
        "colab": {
          "base_uri": "https://localhost:8080/"
        },
        "id": "7Po9ZWaFyplR",
        "outputId": "99878259-6b52-4dbd-e634-709d2a042023"
      },
      "execution_count": 5,
      "outputs": [
        {
          "output_type": "execute_result",
          "data": {
            "text/plain": [
              "1"
            ]
          },
          "metadata": {},
          "execution_count": 5
        }
      ]
    },
    {
      "cell_type": "code",
      "source": [
        "max([max(sequence) for sequence in train_data])"
      ],
      "metadata": {
        "colab": {
          "base_uri": "https://localhost:8080/"
        },
        "id": "VZdFXiB7yuus",
        "outputId": "59dd9265-4c06-4f05-dcad-f6a500570b0f"
      },
      "execution_count": 6,
      "outputs": [
        {
          "output_type": "execute_result",
          "data": {
            "text/plain": [
              "9999"
            ]
          },
          "metadata": {},
          "execution_count": 6
        }
      ]
    },
    {
      "cell_type": "code",
      "source": [
        "word_index = imdb.get_word_index()\n",
        "reverse_word_index = dict(\n",
        "    [(value, key) for (key, value) in word_index.items()])\n",
        "decoded_review = \" \".join(\n",
        "    [reverse_word_index.get(i - 3, \"?\") for i in train_data[0]])\n"
      ],
      "metadata": {
        "colab": {
          "base_uri": "https://localhost:8080/"
        },
        "id": "IanJq5tWy4Ak",
        "outputId": "ba920ad2-ac3c-4857-e6c0-2357fb4e4052"
      },
      "execution_count": 7,
      "outputs": [
        {
          "output_type": "stream",
          "name": "stdout",
          "text": [
            "Downloading data from https://storage.googleapis.com/tensorflow/tf-keras-datasets/imdb_word_index.json\n",
            "\u001b[1m1641221/1641221\u001b[0m \u001b[32m━━━━━━━━━━━━━━━━━━━━\u001b[0m\u001b[37m\u001b[0m \u001b[1m0s\u001b[0m 0us/step\n"
          ]
        }
      ]
    },
    {
      "cell_type": "code",
      "source": [
        "decoded_review"
      ],
      "metadata": {
        "colab": {
          "base_uri": "https://localhost:8080/",
          "height": 105
        },
        "id": "usBG-zaWzjqE",
        "outputId": "2f0fd844-2fc0-462b-f377-6698dc9ac279"
      },
      "execution_count": 8,
      "outputs": [
        {
          "output_type": "execute_result",
          "data": {
            "text/plain": [
              "\"? this film was just brilliant casting location scenery story direction everyone's really suited the part they played and you could just imagine being there robert ? is an amazing actor and now the same being director ? father came from the same scottish island as myself so i loved the fact there was a real connection with this film the witty remarks throughout the film were great it was just brilliant so much that i bought the film as soon as it was released for ? and would recommend it to everyone to watch and the fly fishing was amazing really cried at the end it was so sad and you know what they say if you cry at a film it must have been good and this definitely was also ? to the two little boy's that played the ? of norman and paul they were just brilliant children are often left out of the ? list i think because the stars that play them all grown up are such a big profile for the whole film but these children are amazing and should be praised for what they have done don't you think the whole story was so lovely because it was true and was someone's life after all that was shared with us all\""
            ],
            "application/vnd.google.colaboratory.intrinsic+json": {
              "type": "string"
            }
          },
          "metadata": {},
          "execution_count": 8
        }
      ]
    },
    {
      "cell_type": "code",
      "source": [
        "import numpy as np\n",
        "def vectorize_sequences(sequences, dimension=10000):\n",
        "  results = np.zeros((len(sequences), dimension))\n",
        "  for i, sequence in enumerate(sequences):\n",
        "    for j in sequence:\n",
        "      results[i, j] = 1.\n",
        "  return results\n",
        "\n",
        "x_train = vectorize_sequences(train_data)\n",
        "x_test = vectorize_sequences(test_data)\n"
      ],
      "metadata": {
        "id": "6rC4wX_izl7Z"
      },
      "execution_count": 16,
      "outputs": []
    },
    {
      "cell_type": "code",
      "source": [
        "x_train.shape"
      ],
      "metadata": {
        "colab": {
          "base_uri": "https://localhost:8080/"
        },
        "id": "Rjl8PgtT0sR1",
        "outputId": "b1fec28c-826d-4fcd-cd87-201522bbaf9b"
      },
      "execution_count": 10,
      "outputs": [
        {
          "output_type": "execute_result",
          "data": {
            "text/plain": [
              "(25000, 10000)"
            ]
          },
          "metadata": {},
          "execution_count": 10
        }
      ]
    },
    {
      "cell_type": "code",
      "source": [
        "x_test.shape"
      ],
      "metadata": {
        "colab": {
          "base_uri": "https://localhost:8080/"
        },
        "id": "DRg2Y-qY0vZD",
        "outputId": "7270c0c9-2aaa-4798-8f59-f67a95e21da1"
      },
      "execution_count": 11,
      "outputs": [
        {
          "output_type": "execute_result",
          "data": {
            "text/plain": [
              "(25000, 10000)"
            ]
          },
          "metadata": {},
          "execution_count": 11
        }
      ]
    },
    {
      "cell_type": "code",
      "source": [
        "y_train = np.asarray(train_labels).astype(\"float32\")\n",
        "y_test = np.asarray(test_labels).astype(\"float32\")\n"
      ],
      "metadata": {
        "id": "fBxnqE_Z0xw3"
      },
      "execution_count": 12,
      "outputs": []
    },
    {
      "cell_type": "code",
      "source": [
        "y_train"
      ],
      "metadata": {
        "colab": {
          "base_uri": "https://localhost:8080/"
        },
        "id": "escuiIBn1FJA",
        "outputId": "5294643a-8583-455e-d2a5-15c11dadc13f"
      },
      "execution_count": 13,
      "outputs": [
        {
          "output_type": "execute_result",
          "data": {
            "text/plain": [
              "array([1., 0., 0., ..., 0., 1., 0.], dtype=float32)"
            ]
          },
          "metadata": {},
          "execution_count": 13
        }
      ]
    },
    {
      "cell_type": "code",
      "source": [
        "y_test"
      ],
      "metadata": {
        "colab": {
          "base_uri": "https://localhost:8080/"
        },
        "id": "AzVw_qYT1Gjp",
        "outputId": "0c61041c-d06b-4dd9-8f12-6809ee66066a"
      },
      "execution_count": 14,
      "outputs": [
        {
          "output_type": "execute_result",
          "data": {
            "text/plain": [
              "array([0., 1., 1., ..., 0., 0., 0.], dtype=float32)"
            ]
          },
          "metadata": {},
          "execution_count": 14
        }
      ]
    },
    {
      "cell_type": "code",
      "source": [
        "from tensorflow import keras\n",
        "from tensorflow.keras import layers\n",
        "\n",
        "model = keras.Sequential([\n",
        "    layers.Dense(16, activation=\"relu\"),\n",
        "    layers.Dense(16, activation=\"relu\"),\n",
        "    layers.Dense(1, activation=\"sigmoid\")\n",
        "])\n"
      ],
      "metadata": {
        "id": "p1sDnnSI1H-H"
      },
      "execution_count": 15,
      "outputs": []
    },
    {
      "cell_type": "code",
      "source": [
        "model.compile(optimizer=\"rmsprop\",\n",
        "              loss=\"binary_crossentropy\",\n",
        "              metrics=[\"accuracy\"])\n"
      ],
      "metadata": {
        "id": "S6WftA-i13j6"
      },
      "execution_count": 16,
      "outputs": []
    },
    {
      "cell_type": "code",
      "source": [
        "x_val = x_train[:10000]\n",
        "partial_x_train = x_train[10000:]\n",
        "y_val = y_train[:10000]\n",
        "partial_y_train = y_train[10000:]\n"
      ],
      "metadata": {
        "id": "7EBeJ2cS2sXq"
      },
      "execution_count": 17,
      "outputs": []
    },
    {
      "cell_type": "code",
      "source": [
        "history =  model.fit(partial_x_train,\n",
        "                     partial_y_train,\n",
        "                     epochs=20,\n",
        "                     batch_size=512,\n",
        "                     validation_data=(x_val, y_val))\n"
      ],
      "metadata": {
        "colab": {
          "base_uri": "https://localhost:8080/"
        },
        "id": "l90_fCtJ3DwD",
        "outputId": "c21cecef-fdad-4d67-c043-2a0c07c65653"
      },
      "execution_count": 19,
      "outputs": [
        {
          "output_type": "stream",
          "name": "stdout",
          "text": [
            "Epoch 1/20\n",
            "\u001b[1m30/30\u001b[0m \u001b[32m━━━━━━━━━━━━━━━━━━━━\u001b[0m\u001b[37m\u001b[0m \u001b[1m4s\u001b[0m 91ms/step - accuracy: 0.6837 - loss: 0.5987 - val_accuracy: 0.8598 - val_loss: 0.3910\n",
            "Epoch 2/20\n",
            "\u001b[1m30/30\u001b[0m \u001b[32m━━━━━━━━━━━━━━━━━━━━\u001b[0m\u001b[37m\u001b[0m \u001b[1m3s\u001b[0m 38ms/step - accuracy: 0.8955 - loss: 0.3305 - val_accuracy: 0.8849 - val_loss: 0.3089\n",
            "Epoch 3/20\n",
            "\u001b[1m30/30\u001b[0m \u001b[32m━━━━━━━━━━━━━━━━━━━━\u001b[0m\u001b[37m\u001b[0m \u001b[1m1s\u001b[0m 37ms/step - accuracy: 0.9222 - loss: 0.2412 - val_accuracy: 0.8886 - val_loss: 0.2863\n",
            "Epoch 4/20\n",
            "\u001b[1m30/30\u001b[0m \u001b[32m━━━━━━━━━━━━━━━━━━━━\u001b[0m\u001b[37m\u001b[0m \u001b[1m1s\u001b[0m 37ms/step - accuracy: 0.9347 - loss: 0.1982 - val_accuracy: 0.8841 - val_loss: 0.2852\n",
            "Epoch 5/20\n",
            "\u001b[1m30/30\u001b[0m \u001b[32m━━━━━━━━━━━━━━━━━━━━\u001b[0m\u001b[37m\u001b[0m \u001b[1m1s\u001b[0m 36ms/step - accuracy: 0.9498 - loss: 0.1625 - val_accuracy: 0.8862 - val_loss: 0.2798\n",
            "Epoch 6/20\n",
            "\u001b[1m30/30\u001b[0m \u001b[32m━━━━━━━━━━━━━━━━━━━━\u001b[0m\u001b[37m\u001b[0m \u001b[1m1s\u001b[0m 37ms/step - accuracy: 0.9621 - loss: 0.1274 - val_accuracy: 0.8871 - val_loss: 0.2813\n",
            "Epoch 7/20\n",
            "\u001b[1m30/30\u001b[0m \u001b[32m━━━━━━━━━━━━━━━━━━━━\u001b[0m\u001b[37m\u001b[0m \u001b[1m1s\u001b[0m 37ms/step - accuracy: 0.9677 - loss: 0.1134 - val_accuracy: 0.8856 - val_loss: 0.2930\n",
            "Epoch 8/20\n",
            "\u001b[1m30/30\u001b[0m \u001b[32m━━━━━━━━━━━━━━━━━━━━\u001b[0m\u001b[37m\u001b[0m \u001b[1m1s\u001b[0m 35ms/step - accuracy: 0.9756 - loss: 0.0939 - val_accuracy: 0.8805 - val_loss: 0.3115\n",
            "Epoch 9/20\n",
            "\u001b[1m30/30\u001b[0m \u001b[32m━━━━━━━━━━━━━━━━━━━━\u001b[0m\u001b[37m\u001b[0m \u001b[1m2s\u001b[0m 52ms/step - accuracy: 0.9796 - loss: 0.0788 - val_accuracy: 0.8725 - val_loss: 0.3513\n",
            "Epoch 10/20\n",
            "\u001b[1m30/30\u001b[0m \u001b[32m━━━━━━━━━━━━━━━━━━━━\u001b[0m\u001b[37m\u001b[0m \u001b[1m2s\u001b[0m 62ms/step - accuracy: 0.9844 - loss: 0.0683 - val_accuracy: 0.8685 - val_loss: 0.3935\n",
            "Epoch 11/20\n",
            "\u001b[1m30/30\u001b[0m \u001b[32m━━━━━━━━━━━━━━━━━━━━\u001b[0m\u001b[37m\u001b[0m \u001b[1m1s\u001b[0m 40ms/step - accuracy: 0.9817 - loss: 0.0660 - val_accuracy: 0.8798 - val_loss: 0.3623\n",
            "Epoch 12/20\n",
            "\u001b[1m30/30\u001b[0m \u001b[32m━━━━━━━━━━━━━━━━━━━━\u001b[0m\u001b[37m\u001b[0m \u001b[1m1s\u001b[0m 36ms/step - accuracy: 0.9904 - loss: 0.0492 - val_accuracy: 0.8784 - val_loss: 0.3768\n",
            "Epoch 13/20\n",
            "\u001b[1m30/30\u001b[0m \u001b[32m━━━━━━━━━━━━━━━━━━━━\u001b[0m\u001b[37m\u001b[0m \u001b[1m1s\u001b[0m 35ms/step - accuracy: 0.9911 - loss: 0.0434 - val_accuracy: 0.8714 - val_loss: 0.4070\n",
            "Epoch 14/20\n",
            "\u001b[1m30/30\u001b[0m \u001b[32m━━━━━━━━━━━━━━━━━━━━\u001b[0m\u001b[37m\u001b[0m \u001b[1m1s\u001b[0m 37ms/step - accuracy: 0.9950 - loss: 0.0337 - val_accuracy: 0.8757 - val_loss: 0.4222\n",
            "Epoch 15/20\n",
            "\u001b[1m30/30\u001b[0m \u001b[32m━━━━━━━━━━━━━━━━━━━━\u001b[0m\u001b[37m\u001b[0m \u001b[1m2s\u001b[0m 48ms/step - accuracy: 0.9948 - loss: 0.0287 - val_accuracy: 0.8733 - val_loss: 0.4454\n",
            "Epoch 16/20\n",
            "\u001b[1m30/30\u001b[0m \u001b[32m━━━━━━━━━━━━━━━━━━━━\u001b[0m\u001b[37m\u001b[0m \u001b[1m3s\u001b[0m 98ms/step - accuracy: 0.9959 - loss: 0.0260 - val_accuracy: 0.8715 - val_loss: 0.4660\n",
            "Epoch 17/20\n",
            "\u001b[1m30/30\u001b[0m \u001b[32m━━━━━━━━━━━━━━━━━━━━\u001b[0m\u001b[37m\u001b[0m \u001b[1m4s\u001b[0m 72ms/step - accuracy: 0.9977 - loss: 0.0194 - val_accuracy: 0.8691 - val_loss: 0.4924\n",
            "Epoch 18/20\n",
            "\u001b[1m30/30\u001b[0m \u001b[32m━━━━━━━━━━━━━━━━━━━━\u001b[0m\u001b[37m\u001b[0m \u001b[1m2s\u001b[0m 50ms/step - accuracy: 0.9990 - loss: 0.0158 - val_accuracy: 0.8672 - val_loss: 0.5140\n",
            "Epoch 19/20\n",
            "\u001b[1m30/30\u001b[0m \u001b[32m━━━━━━━━━━━━━━━━━━━━\u001b[0m\u001b[37m\u001b[0m \u001b[1m2s\u001b[0m 48ms/step - accuracy: 0.9998 - loss: 0.0122 - val_accuracy: 0.8610 - val_loss: 0.6151\n",
            "Epoch 20/20\n",
            "\u001b[1m30/30\u001b[0m \u001b[32m━━━━━━━━━━━━━━━━━━━━\u001b[0m\u001b[37m\u001b[0m \u001b[1m2s\u001b[0m 38ms/step - accuracy: 0.9966 - loss: 0.0220 - val_accuracy: 0.8665 - val_loss: 0.5582\n"
          ]
        }
      ]
    },
    {
      "cell_type": "code",
      "source": [
        "history_dict = history.history"
      ],
      "metadata": {
        "id": "hBSRJZXt3XmM"
      },
      "execution_count": 20,
      "outputs": []
    },
    {
      "cell_type": "code",
      "source": [
        "history_dict.keys()"
      ],
      "metadata": {
        "colab": {
          "base_uri": "https://localhost:8080/"
        },
        "id": "Zm_T9dz_3pQo",
        "outputId": "b2e19630-902d-4d07-9b8d-82e46d41eb82"
      },
      "execution_count": 21,
      "outputs": [
        {
          "output_type": "execute_result",
          "data": {
            "text/plain": [
              "dict_keys(['accuracy', 'loss', 'val_accuracy', 'val_loss'])"
            ]
          },
          "metadata": {},
          "execution_count": 21
        }
      ]
    },
    {
      "cell_type": "code",
      "source": [
        "import matplotlib.pyplot as plt\n",
        "plt.clf()\n",
        "history_dict = history.history\n",
        "loss_values = history_dict[\"loss\"]\n",
        "val_loss_values = history_dict[\"val_loss\"]\n",
        "epochs = range(1, len(loss_values) + 1)\n",
        "plt.plot(epochs, loss_values, \"bo\", label=\"Training loss\")\n",
        "plt.plot(epochs, val_loss_values, \"b\", label=\"Validation loss\")\n",
        "plt.title(\"Training and validation loss\")\n",
        "plt.xlabel(\"Epochs\")\n",
        "plt.ylabel(\"Loss\")\n",
        "plt.legend()\n",
        "plt.show()\n"
      ],
      "metadata": {
        "colab": {
          "base_uri": "https://localhost:8080/",
          "height": 472
        },
        "id": "eHn97pTz3sJm",
        "outputId": "e90dc956-38fc-4477-dd42-6baf86cbc1f1"
      },
      "execution_count": 24,
      "outputs": [
        {
          "output_type": "display_data",
          "data": {
            "text/plain": [
              "<Figure size 640x480 with 1 Axes>"
            ],
            "image/png": "[encoded data removed]"
          },
          "metadata": {}
        }
      ]
    },
    {
      "cell_type": "code",
      "source": [
        "plt.clf()\n",
        "acc = history_dict[\"accuracy\"]\n",
        "val_acc = history_dict[\"val_accuracy\"]\n",
        "plt.plot(epochs, acc, \"bo\", label=\"Training acc\")\n",
        "plt.plot(epochs, val_acc, \"b\", label=\"Validation acc\")\n",
        "plt.title(\"Training and validation accuracy\")\n",
        "plt.xlabel(\"Epochs\")\n",
        "plt.ylabel(\"Accuracy\")\n",
        "plt.legend()\n",
        "plt.show()\n"
      ],
      "metadata": {
        "colab": {
          "base_uri": "https://localhost:8080/",
          "height": 472
        },
        "id": "7nS3dZgP48L3",
        "outputId": "4ae8ba17-be0a-499e-901c-67d1c6f9b0b9"
      },
      "execution_count": 25,
      "outputs": [
        {
          "output_type": "display_data",
          "data": {
            "text/plain": [
              "<Figure size 640x480 with 1 Axes>"
            ],
            "image/png": "[encoded data removed]"
          },
          "metadata": {}
        }
      ]
    },
    {
      "cell_type": "code",
      "source": [
        "model = keras.Sequential([\n",
        "    layers.Dense(16, activation=\"relu\"),\n",
        "    layers.Dense(16, activation=\"relu\"),\n",
        "    layers.Dense(1, activation=\"sigmoid\")\n",
        "])\n"
      ],
      "metadata": {
        "id": "L7a342ai5qTZ"
      },
      "execution_count": 26,
      "outputs": []
    },
    {
      "cell_type": "code",
      "source": [
        " model.compile(optimizer=\"rmsprop\",\n",
        "               loss=\"binary_crossentropy\",\n",
        "               metrics=[\"accuracy\"])"
      ],
      "metadata": {
        "id": "h8wyjmlc6jGh"
      },
      "execution_count": 27,
      "outputs": []
    },
    {
      "cell_type": "code",
      "source": [
        "model.fit(x_train, y_train, epochs=4, batch_size=512)"
      ],
      "metadata": {
        "colab": {
          "base_uri": "https://localhost:8080/"
        },
        "id": "peo7y9u86t7D",
        "outputId": "caf6946d-cb6d-4662-9a6c-5a23a4c62c39"
      },
      "execution_count": 28,
      "outputs": [
        {
          "output_type": "stream",
          "name": "stdout",
          "text": [
            "Epoch 1/4\n",
            "\u001b[1m49/49\u001b[0m \u001b[32m━━━━━━━━━━━━━━━━━━━━\u001b[0m\u001b[37m\u001b[0m \u001b[1m4s\u001b[0m 45ms/step - accuracy: 0.7135 - loss: 0.5654\n",
            "Epoch 2/4\n",
            "\u001b[1m49/49\u001b[0m \u001b[32m━━━━━━━━━━━━━━━━━━━━\u001b[0m\u001b[37m\u001b[0m \u001b[1m2s\u001b[0m 27ms/step - accuracy: 0.9023 - loss: 0.2836\n",
            "Epoch 3/4\n",
            "\u001b[1m49/49\u001b[0m \u001b[32m━━━━━━━━━━━━━━━━━━━━\u001b[0m\u001b[37m\u001b[0m \u001b[1m1s\u001b[0m 29ms/step - accuracy: 0.9265 - loss: 0.2086\n",
            "Epoch 4/4\n",
            "\u001b[1m49/49\u001b[0m \u001b[32m━━━━━━━━━━━━━━━━━━━━\u001b[0m\u001b[37m\u001b[0m \u001b[1m2s\u001b[0m 26ms/step - accuracy: 0.9406 - loss: 0.1737\n"
          ]
        },
        {
          "output_type": "execute_result",
          "data": {
            "text/plain": [
              "<keras.src.callbacks.history.History at 0x7e4cb3857b50>"
            ]
          },
          "metadata": {},
          "execution_count": 28
        }
      ]
    },
    {
      "cell_type": "code",
      "source": [
        "results = model.evaluate(x_test, y_test)\n"
      ],
      "metadata": {
        "colab": {
          "base_uri": "https://localhost:8080/"
        },
        "id": "aIFgoL7L60Py",
        "outputId": "77e29e88-67d4-45b9-e351-2f8dbedea2df"
      },
      "execution_count": 29,
      "outputs": [
        {
          "output_type": "stream",
          "name": "stdout",
          "text": [
            "\u001b[1m782/782\u001b[0m \u001b[32m━━━━━━━━━━━━━━━━━━━━\u001b[0m\u001b[37m\u001b[0m \u001b[1m2s\u001b[0m 3ms/step - accuracy: 0.8803 - loss: 0.2974\n"
          ]
        }
      ]
    },
    {
      "cell_type": "code",
      "source": [
        "results"
      ],
      "metadata": {
        "colab": {
          "base_uri": "https://localhost:8080/"
        },
        "id": "5souKFdy68al",
        "outputId": "af37a90a-8fff-4ef6-845f-fabbd6e96507"
      },
      "execution_count": 30,
      "outputs": [
        {
          "output_type": "execute_result",
          "data": {
            "text/plain": [
              "[0.29809412360191345, 0.8809199929237366]"
            ]
          },
          "metadata": {},
          "execution_count": 30
        }
      ]
    },
    {
      "cell_type": "code",
      "source": [
        "model.predict(x_test)"
      ],
      "metadata": {
        "colab": {
          "base_uri": "https://localhost:8080/"
        },
        "id": "FfQLFE976-m4",
        "outputId": "a9b71020-942d-4ef7-b275-8b325aa97feb"
      },
      "execution_count": 31,
      "outputs": [
        {
          "output_type": "stream",
          "name": "stdout",
          "text": [
            "\u001b[1m782/782\u001b[0m \u001b[32m━━━━━━━━━━━━━━━━━━━━\u001b[0m\u001b[37m\u001b[0m \u001b[1m2s\u001b[0m 3ms/step\n"
          ]
        },
        {
          "output_type": "execute_result",
          "data": {
            "text/plain": [
              "array([[0.18675935],\n",
              "       [0.99982685],\n",
              "       [0.78976977],\n",
              "       ...,\n",
              "       [0.06787213],\n",
              "       [0.06953619],\n",
              "       [0.38567787]], dtype=float32)"
            ]
          },
          "metadata": {},
          "execution_count": 31
        }
      ]
    },
    {
      "cell_type": "code",
      "source": [
        "from tensorflow.keras.datasets import reuters\n",
        "(train_data, train_labels), (test_data, test_labels) = reuters.load_data(num_words=10000)"
      ],
      "metadata": {
        "colab": {
          "base_uri": "https://localhost:8080/"
        },
        "id": "JetKfhO27KMp",
        "outputId": "b8205559-d78b-4b6a-b974-69721145f74a"
      },
      "execution_count": 8,
      "outputs": [
        {
          "output_type": "stream",
          "name": "stdout",
          "text": [
            "Downloading data from https://storage.googleapis.com/tensorflow/tf-keras-datasets/reuters.npz\n",
            "\u001b[1m2110848/2110848\u001b[0m \u001b[32m━━━━━━━━━━━━━━━━━━━━\u001b[0m\u001b[37m\u001b[0m \u001b[1m0s\u001b[0m 0us/step\n"
          ]
        }
      ]
    },
    {
      "cell_type": "code",
      "source": [
        "len(train_data)"
      ],
      "metadata": {
        "colab": {
          "base_uri": "https://localhost:8080/"
        },
        "id": "CGYppGHL857G",
        "outputId": "c288a045-c394-4baf-d114-2c2d3445aed7"
      },
      "execution_count": 9,
      "outputs": [
        {
          "output_type": "execute_result",
          "data": {
            "text/plain": [
              "8982"
            ]
          },
          "metadata": {},
          "execution_count": 9
        }
      ]
    },
    {
      "cell_type": "code",
      "source": [
        "len(test_data)"
      ],
      "metadata": {
        "colab": {
          "base_uri": "https://localhost:8080/"
        },
        "id": "S9dp94Nn8-gZ",
        "outputId": "923fb0bf-3a68-42ce-edb7-9a9f33441f36"
      },
      "execution_count": 10,
      "outputs": [
        {
          "output_type": "execute_result",
          "data": {
            "text/plain": [
              "2246"
            ]
          },
          "metadata": {},
          "execution_count": 10
        }
      ]
    },
    {
      "cell_type": "code",
      "source": [
        "train_data[10]"
      ],
      "metadata": {
        "colab": {
          "base_uri": "https://localhost:8080/"
        },
        "id": "Bixto8D89AcW",
        "outputId": "d7c06a78-8092-4aea-b89e-2cc6aea72607"
      },
      "execution_count": 11,
      "outputs": [
        {
          "output_type": "execute_result",
          "data": {
            "text/plain": [
              "[1,\n",
              " 245,\n",
              " 273,\n",
              " 207,\n",
              " 156,\n",
              " 53,\n",
              " 74,\n",
              " 160,\n",
              " 26,\n",
              " 14,\n",
              " 46,\n",
              " 296,\n",
              " 26,\n",
              " 39,\n",
              " 74,\n",
              " 2979,\n",
              " 3554,\n",
              " 14,\n",
              " 46,\n",
              " 4689,\n",
              " 4329,\n",
              " 86,\n",
              " 61,\n",
              " 3499,\n",
              " 4795,\n",
              " 14,\n",
              " 61,\n",
              " 451,\n",
              " 4329,\n",
              " 17,\n",
              " 12]"
            ]
          },
          "metadata": {},
          "execution_count": 11
        }
      ]
    },
    {
      "cell_type": "code",
      "source": [
        "word_index = reuters.get_word_index()\n",
        "reverse_word_index = dict(\n",
        "    [(value, key) for (key, value) in word_index.items()])\n",
        "decoded_newswire = \" \".join(\n",
        "    [reverse_word_index.get(i - 3, \"?\") for i in train_data[0]]\n",
        ")"
      ],
      "metadata": {
        "colab": {
          "base_uri": "https://localhost:8080/"
        },
        "id": "R1XLhf8b9Dix",
        "outputId": "e17fcfa7-c69e-4a6c-a202-7feeeb0c93f2"
      },
      "execution_count": 12,
      "outputs": [
        {
          "output_type": "stream",
          "name": "stdout",
          "text": [
            "Downloading data from https://storage.googleapis.com/tensorflow/tf-keras-datasets/reuters_word_index.json\n",
            "\u001b[1m550378/550378\u001b[0m \u001b[32m━━━━━━━━━━━━━━━━━━━━\u001b[0m\u001b[37m\u001b[0m \u001b[1m0s\u001b[0m 0us/step\n"
          ]
        }
      ]
    },
    {
      "cell_type": "code",
      "source": [
        "train_labels"
      ],
      "metadata": {
        "colab": {
          "base_uri": "https://localhost:8080/"
        },
        "id": "uz-Mi94m9jeu",
        "outputId": "d9a6954e-098a-4abd-9719-d31cc14b8634"
      },
      "execution_count": 13,
      "outputs": [
        {
          "output_type": "execute_result",
          "data": {
            "text/plain": [
              "array([ 3,  4,  3, ..., 25,  3, 25])"
            ]
          },
          "metadata": {},
          "execution_count": 13
        }
      ]
    },
    {
      "cell_type": "code",
      "source": [
        "decoded_newswire"
      ],
      "metadata": {
        "colab": {
          "base_uri": "https://localhost:8080/",
          "height": 52
        },
        "id": "j3eqDDRy9mVu",
        "outputId": "ad25eb9b-253e-4107-bd66-7b959fa28cb5"
      },
      "execution_count": 14,
      "outputs": [
        {
          "output_type": "execute_result",
          "data": {
            "text/plain": [
              "'? ? ? said as a result of its december acquisition of space co it expects earnings per share in 1987 of 1 15 to 1 30 dlrs per share up from 70 cts in 1986 the company said pretax net should rise to nine to 10 mln dlrs from six mln dlrs in 1986 and rental operation revenues to 19 to 22 mln dlrs from 12 5 mln dlrs it said cash flow per share this year should be 2 50 to three dlrs reuter 3'"
            ],
            "application/vnd.google.colaboratory.intrinsic+json": {
              "type": "string"
            }
          },
          "metadata": {},
          "execution_count": 14
        }
      ]
    },
    {
      "cell_type": "code",
      "source": [
        "x_train = vectorize_sequences(train_data)\n",
        "x_test = vectorize_sequences(test_data)\n"
      ],
      "metadata": {
        "id": "xac9FxBM9pEL"
      },
      "execution_count": 17,
      "outputs": []
    },
    {
      "cell_type": "code",
      "source": [
        "def to_one_hot(labels, dimension=46):\n",
        "  results = np.zeros((len(labels), dimension))\n",
        "  for i, label in enumerate(labels):\n",
        "    results[i, label] = 1.\n",
        "  return results\n",
        "\n",
        "y_train = to_one_hot(train_labels)\n",
        "y_test = to_one_hot(test_labels)\n"
      ],
      "metadata": {
        "id": "OkyNq5gl9ypL"
      },
      "execution_count": 18,
      "outputs": []
    },
    {
      "cell_type": "code",
      "source": [
        "model = keras.Sequential([\n",
        "    layers.Dense(64, activation=\"relu\"),\n",
        "    layers.Dense(64, activation=\"relu\"),\n",
        "    layers.Dense(46, activation=\"softmax\")\n",
        "])\n"
      ],
      "metadata": {
        "id": "t6YW0EF2-dwL"
      },
      "execution_count": 19,
      "outputs": []
    },
    {
      "cell_type": "code",
      "source": [
        "model.compile(optimizer=\"rmsprop\",\n",
        "              loss=\"categorical_crossentropy\",\n",
        "              metrics=[\"accuracy\"])\n"
      ],
      "metadata": {
        "id": "EXUbWQit-_kF"
      },
      "execution_count": 20,
      "outputs": []
    },
    {
      "cell_type": "code",
      "source": [
        "x_val = x_train[:1000]\n",
        "partial_x_train = x_train[1000:]\n",
        "y_val = y_train[:1000]\n",
        "partial_y_train = y_train[1000:]\n"
      ],
      "metadata": {
        "id": "c1s-qE1D_bUU"
      },
      "execution_count": 21,
      "outputs": []
    },
    {
      "cell_type": "code",
      "source": [
        "history = model.fit(partial_x_train,\n",
        "                    partial_y_train,\n",
        "                    epochs=20,\n",
        "                    batch_size=512,\n",
        "                    validation_data=(x_val, y_val))\n"
      ],
      "metadata": {
        "colab": {
          "base_uri": "https://localhost:8080/"
        },
        "id": "Gkvj7EAh_wmL",
        "outputId": "d68f99cf-b6fb-40a5-fda9-a6be4b242058"
      },
      "execution_count": 22,
      "outputs": [
        {
          "output_type": "stream",
          "name": "stdout",
          "text": [
            "Epoch 1/20\n",
            "\u001b[1m16/16\u001b[0m \u001b[32m━━━━━━━━━━━━━━━━━━━━\u001b[0m\u001b[37m\u001b[0m \u001b[1m3s\u001b[0m 114ms/step - accuracy: 0.3842 - loss: 3.2642 - val_accuracy: 0.6270 - val_loss: 1.8750\n",
            "Epoch 2/20\n",
            "\u001b[1m16/16\u001b[0m \u001b[32m━━━━━━━━━━━━━━━━━━━━\u001b[0m\u001b[37m\u001b[0m \u001b[1m2s\u001b[0m 92ms/step - accuracy: 0.6685 - loss: 1.6800 - val_accuracy: 0.6870 - val_loss: 1.3732\n",
            "Epoch 3/20\n",
            "\u001b[1m16/16\u001b[0m \u001b[32m━━━━━━━━━━━━━━━━━━━━\u001b[0m\u001b[37m\u001b[0m \u001b[1m2s\u001b[0m 53ms/step - accuracy: 0.7366 - loss: 1.2227 - val_accuracy: 0.7480 - val_loss: 1.1723\n",
            "Epoch 4/20\n",
            "\u001b[1m16/16\u001b[0m \u001b[32m━━━━━━━━━━━━━━━━━━━━\u001b[0m\u001b[37m\u001b[0m \u001b[1m1s\u001b[0m 59ms/step - accuracy: 0.7864 - loss: 0.9939 - val_accuracy: 0.7480 - val_loss: 1.0784\n",
            "Epoch 5/20\n",
            "\u001b[1m16/16\u001b[0m \u001b[32m━━━━━━━━━━━━━━━━━━━━\u001b[0m\u001b[37m\u001b[0m \u001b[1m1s\u001b[0m 54ms/step - accuracy: 0.8260 - loss: 0.8234 - val_accuracy: 0.7680 - val_loss: 0.9998\n",
            "Epoch 6/20\n",
            "\u001b[1m16/16\u001b[0m \u001b[32m━━━━━━━━━━━━━━━━━━━━\u001b[0m\u001b[37m\u001b[0m \u001b[1m1s\u001b[0m 56ms/step - accuracy: 0.8500 - loss: 0.6912 - val_accuracy: 0.7960 - val_loss: 0.9324\n",
            "Epoch 7/20\n",
            "\u001b[1m16/16\u001b[0m \u001b[32m━━━━━━━━━━━━━━━━━━━━\u001b[0m\u001b[37m\u001b[0m \u001b[1m1s\u001b[0m 51ms/step - accuracy: 0.8856 - loss: 0.5427 - val_accuracy: 0.8150 - val_loss: 0.8908\n",
            "Epoch 8/20\n",
            "\u001b[1m16/16\u001b[0m \u001b[32m━━━━━━━━━━━━━━━━━━━━\u001b[0m\u001b[37m\u001b[0m \u001b[1m1s\u001b[0m 60ms/step - accuracy: 0.9035 - loss: 0.4612 - val_accuracy: 0.8110 - val_loss: 0.8976\n",
            "Epoch 9/20\n",
            "\u001b[1m16/16\u001b[0m \u001b[32m━━━━━━━━━━━━━━━━━━━━\u001b[0m\u001b[37m\u001b[0m \u001b[1m1s\u001b[0m 55ms/step - accuracy: 0.9186 - loss: 0.3908 - val_accuracy: 0.8180 - val_loss: 0.8527\n",
            "Epoch 10/20\n",
            "\u001b[1m16/16\u001b[0m \u001b[32m━━━━━━━━━━━━━━━━━━━━\u001b[0m\u001b[37m\u001b[0m \u001b[1m1s\u001b[0m 53ms/step - accuracy: 0.9342 - loss: 0.3236 - val_accuracy: 0.8160 - val_loss: 0.8547\n",
            "Epoch 11/20\n",
            "\u001b[1m16/16\u001b[0m \u001b[32m━━━━━━━━━━━━━━━━━━━━\u001b[0m\u001b[37m\u001b[0m \u001b[1m1s\u001b[0m 66ms/step - accuracy: 0.9347 - loss: 0.2877 - val_accuracy: 0.8270 - val_loss: 0.8411\n",
            "Epoch 12/20\n",
            "\u001b[1m16/16\u001b[0m \u001b[32m━━━━━━━━━━━━━━━━━━━━\u001b[0m\u001b[37m\u001b[0m \u001b[1m2s\u001b[0m 92ms/step - accuracy: 0.9454 - loss: 0.2446 - val_accuracy: 0.8140 - val_loss: 0.8428\n",
            "Epoch 13/20\n",
            "\u001b[1m16/16\u001b[0m \u001b[32m━━━━━━━━━━━━━━━━━━━━\u001b[0m\u001b[37m\u001b[0m \u001b[1m2s\u001b[0m 64ms/step - accuracy: 0.9471 - loss: 0.2221 - val_accuracy: 0.8180 - val_loss: 0.8715\n",
            "Epoch 14/20\n",
            "\u001b[1m16/16\u001b[0m \u001b[32m━━━━━━━━━━━━━━━━━━━━\u001b[0m\u001b[37m\u001b[0m \u001b[1m1s\u001b[0m 56ms/step - accuracy: 0.9534 - loss: 0.2004 - val_accuracy: 0.8200 - val_loss: 0.8690\n",
            "Epoch 15/20\n",
            "\u001b[1m16/16\u001b[0m \u001b[32m━━━━━━━━━━━━━━━━━━━━\u001b[0m\u001b[37m\u001b[0m \u001b[1m1s\u001b[0m 54ms/step - accuracy: 0.9553 - loss: 0.1768 - val_accuracy: 0.8210 - val_loss: 0.8570\n",
            "Epoch 16/20\n",
            "\u001b[1m16/16\u001b[0m \u001b[32m━━━━━━━━━━━━━━━━━━━━\u001b[0m\u001b[37m\u001b[0m \u001b[1m1s\u001b[0m 54ms/step - accuracy: 0.9580 - loss: 0.1571 - val_accuracy: 0.8150 - val_loss: 0.8657\n",
            "Epoch 17/20\n",
            "\u001b[1m16/16\u001b[0m \u001b[32m━━━━━━━━━━━━━━━━━━━━\u001b[0m\u001b[37m\u001b[0m \u001b[1m1s\u001b[0m 59ms/step - accuracy: 0.9565 - loss: 0.1516 - val_accuracy: 0.8150 - val_loss: 0.8882\n",
            "Epoch 18/20\n",
            "\u001b[1m16/16\u001b[0m \u001b[32m━━━━━━━━━━━━━━━━━━━━\u001b[0m\u001b[37m\u001b[0m \u001b[1m1s\u001b[0m 51ms/step - accuracy: 0.9594 - loss: 0.1347 - val_accuracy: 0.8150 - val_loss: 0.9028\n",
            "Epoch 19/20\n",
            "\u001b[1m16/16\u001b[0m \u001b[32m━━━━━━━━━━━━━━━━━━━━\u001b[0m\u001b[37m\u001b[0m \u001b[1m1s\u001b[0m 54ms/step - accuracy: 0.9627 - loss: 0.1243 - val_accuracy: 0.8140 - val_loss: 0.9286\n",
            "Epoch 20/20\n",
            "\u001b[1m16/16\u001b[0m \u001b[32m━━━━━━━━━━━━━━━━━━━━\u001b[0m\u001b[37m\u001b[0m \u001b[1m1s\u001b[0m 53ms/step - accuracy: 0.9635 - loss: 0.1206 - val_accuracy: 0.8080 - val_loss: 0.9493\n"
          ]
        }
      ]
    },
    {
      "cell_type": "code",
      "source": [
        "import matplotlib.pyplot as plt\n",
        "\n",
        "loss = history.history[\"loss\"]\n",
        "val_loss = history.history[\"val_loss\"]\n",
        "epochs = range(1, len(loss) + 1)\n",
        "plt.plot(epochs, loss, \"bo\", label=\"Training loss\")\n",
        "plt.plot(epochs, val_loss, \"b\", label=\"Validation loss\")\n",
        "plt.title(\"Training and validation loss\")\n",
        "plt.xlabel(\"Epochs\")\n",
        "plt.ylabel(\"Loss\")\n",
        "plt.legend()\n",
        "plt.show()\n"
      ],
      "metadata": {
        "colab": {
          "base_uri": "https://localhost:8080/",
          "height": 472
        },
        "id": "QXfl6nijADMD",
        "outputId": "4d169a32-e0a2-48a0-e331-b9e8c3a6bb38"
      },
      "execution_count": 24,
      "outputs": [
        {
          "output_type": "display_data",
          "data": {
            "text/plain": [
              "<Figure size 640x480 with 1 Axes>"
            ],
            "image/png": "[encoded data removed]"
          },
          "metadata": {}
        }
      ]
    },
    {
      "cell_type": "code",
      "source": [
        "plt.clf()\n",
        "acc = history.history[\"accuracy\"]\n",
        "val_acc = history.history[\"val_accuracy\"]\n",
        "plt.plot(epochs, acc, \"bo\", label=\"Training accuracy\")\n",
        "plt.plot(epochs, val_acc, \"b\", label=\"Validation accuracy\")\n",
        "plt.xlabel(\"Epochs\")\n",
        "plt.ylabel(\"Accuracy\")\n",
        "plt.legend()\n",
        "plt.show()\n"
      ],
      "metadata": {
        "colab": {
          "base_uri": "https://localhost:8080/",
          "height": 449
        },
        "id": "IBV5O8kwA2fT",
        "outputId": "68c5b9d9-5bdb-4dcb-c6dc-fbe6fa062e46"
      },
      "execution_count": 25,
      "outputs": [
        {
          "output_type": "display_data",
          "data": {
            "text/plain": [
              "<Figure size 640x480 with 1 Axes>"
            ],
            "image/png": "[encoded data removed]"
          },
          "metadata": {}
        }
      ]
    },
    {
      "cell_type": "code",
      "source": [
        "from tensorflow import keras\n",
        "from tensorflow.keras import layers\n",
        "\n",
        "model = keras.Sequential([\n",
        "    layers.Dense(64, activation=\"relu\"),\n",
        "    layers.Dense(64, activation=\"relu\"),\n",
        "    layers.Dense(46, activation=\"softmax\"),\n",
        "])"
      ],
      "metadata": {
        "id": "hZiqhi22BcEi"
      },
      "execution_count": 26,
      "outputs": []
    },
    {
      "cell_type": "code",
      "source": [
        "model.compile(optimizer=\"rmsprop\",\n",
        "              loss=\"categorical_crossentropy\",\n",
        "              metrics=[\"accuracy\"])\n"
      ],
      "metadata": {
        "id": "-HqFrsg0Bz0q"
      },
      "execution_count": 27,
      "outputs": []
    },
    {
      "cell_type": "code",
      "source": [
        "model.fit(x_train,\n",
        "          y_train,\n",
        "          epochs=9,\n",
        "          batch_size=512)"
      ],
      "metadata": {
        "colab": {
          "base_uri": "https://localhost:8080/"
        },
        "id": "qQieK_-ECAQ3",
        "outputId": "344b196b-729c-4bdb-90c7-5f59b8820900"
      },
      "execution_count": 28,
      "outputs": [
        {
          "output_type": "stream",
          "name": "stdout",
          "text": [
            "Epoch 1/9\n",
            "\u001b[1m18/18\u001b[0m \u001b[32m━━━━━━━━━━━━━━━━━━━━\u001b[0m\u001b[37m\u001b[0m \u001b[1m2s\u001b[0m 50ms/step - accuracy: 0.3503 - loss: 3.2197\n",
            "Epoch 2/9\n",
            "\u001b[1m18/18\u001b[0m \u001b[32m━━━━━━━━━━━━━━━━━━━━\u001b[0m\u001b[37m\u001b[0m \u001b[1m1s\u001b[0m 50ms/step - accuracy: 0.6620 - loss: 1.6217\n",
            "Epoch 3/9\n",
            "\u001b[1m18/18\u001b[0m \u001b[32m━━━━━━━━━━━━━━━━━━━━\u001b[0m\u001b[37m\u001b[0m \u001b[1m1s\u001b[0m 52ms/step - accuracy: 0.7375 - loss: 1.2006\n",
            "Epoch 4/9\n",
            "\u001b[1m18/18\u001b[0m \u001b[32m━━━━━━━━━━━━━━━━━━━━\u001b[0m\u001b[37m\u001b[0m \u001b[1m2s\u001b[0m 87ms/step - accuracy: 0.7950 - loss: 0.9293\n",
            "Epoch 5/9\n",
            "\u001b[1m18/18\u001b[0m \u001b[32m━━━━━━━━━━━━━━━━━━━━\u001b[0m\u001b[37m\u001b[0m \u001b[1m2s\u001b[0m 83ms/step - accuracy: 0.8329 - loss: 0.7702\n",
            "Epoch 6/9\n",
            "\u001b[1m18/18\u001b[0m \u001b[32m━━━━━━━━━━━━━━━━━━━━\u001b[0m\u001b[37m\u001b[0m \u001b[1m1s\u001b[0m 67ms/step - accuracy: 0.8619 - loss: 0.6536\n",
            "Epoch 7/9\n",
            "\u001b[1m18/18\u001b[0m \u001b[32m━━━━━━━━━━━━━━━━━━━━\u001b[0m\u001b[37m\u001b[0m \u001b[1m1s\u001b[0m 46ms/step - accuracy: 0.8882 - loss: 0.5366\n",
            "Epoch 8/9\n",
            "\u001b[1m18/18\u001b[0m \u001b[32m━━━━━━━━━━━━━━━━━━━━\u001b[0m\u001b[37m\u001b[0m \u001b[1m1s\u001b[0m 44ms/step - accuracy: 0.9091 - loss: 0.4550\n",
            "Epoch 9/9\n",
            "\u001b[1m18/18\u001b[0m \u001b[32m━━━━━━━━━━━━━━━━━━━━\u001b[0m\u001b[37m\u001b[0m \u001b[1m1s\u001b[0m 46ms/step - accuracy: 0.9224 - loss: 0.3808\n"
          ]
        },
        {
          "output_type": "execute_result",
          "data": {
            "text/plain": [
              "<keras.src.callbacks.history.History at 0x7dbc11dcad50>"
            ]
          },
          "metadata": {},
          "execution_count": 28
        }
      ]
    },
    {
      "cell_type": "code",
      "source": [
        "results = model.evaluate(x_test, y_test)\n"
      ],
      "metadata": {
        "colab": {
          "base_uri": "https://localhost:8080/"
        },
        "id": "IZxTywtbCI7s",
        "outputId": "1b5f3fc6-224c-437c-fcae-10fb699f042e"
      },
      "execution_count": 29,
      "outputs": [
        {
          "output_type": "stream",
          "name": "stdout",
          "text": [
            "\u001b[1m71/71\u001b[0m \u001b[32m━━━━━━━━━━━━━━━━━━━━\u001b[0m\u001b[37m\u001b[0m \u001b[1m1s\u001b[0m 5ms/step - accuracy: 0.7960 - loss: 0.8999\n"
          ]
        }
      ]
    },
    {
      "cell_type": "code",
      "source": [
        "results"
      ],
      "metadata": {
        "colab": {
          "base_uri": "https://localhost:8080/"
        },
        "id": "5g4WPe9wCWw3",
        "outputId": "eca9dbaf-d2ce-471b-9958-dfcbdf1a5372"
      },
      "execution_count": 30,
      "outputs": [
        {
          "output_type": "execute_result",
          "data": {
            "text/plain": [
              "[0.9142003059387207, 0.7894033789634705]"
            ]
          },
          "metadata": {},
          "execution_count": 30
        }
      ]
    },
    {
      "cell_type": "code",
      "source": [
        "import copy\n",
        "test_labels_copy = copy.copy(test_labels)\n",
        "np.random.shuffle(test_labels_copy)\n",
        "hits_array = np.array(test_labels) == np.array(test_labels_copy)\n",
        "hits_array.mean()\n"
      ],
      "metadata": {
        "colab": {
          "base_uri": "https://localhost:8080/"
        },
        "id": "VJ3WQjybCX7D",
        "outputId": "107ae273-babb-4da0-d241-b9d45eae3fbd"
      },
      "execution_count": 31,
      "outputs": [
        {
          "output_type": "execute_result",
          "data": {
            "text/plain": [
              "0.18744434550311664"
            ]
          },
          "metadata": {},
          "execution_count": 31
        }
      ]
    },
    {
      "cell_type": "code",
      "source": [
        "predictions = model.predict(x_test)"
      ],
      "metadata": {
        "colab": {
          "base_uri": "https://localhost:8080/"
        },
        "id": "0UcbS7m2C6xw",
        "outputId": "91c9e2d0-e277-481b-a696-3eb2a0363082"
      },
      "execution_count": 32,
      "outputs": [
        {
          "output_type": "stream",
          "name": "stdout",
          "text": [
            "\u001b[1m71/71\u001b[0m \u001b[32m━━━━━━━━━━━━━━━━━━━━\u001b[0m\u001b[37m\u001b[0m \u001b[1m0s\u001b[0m 3ms/step\n"
          ]
        }
      ]
    },
    {
      "cell_type": "code",
      "source": [
        "predictions[0].shape"
      ],
      "metadata": {
        "colab": {
          "base_uri": "https://localhost:8080/"
        },
        "id": "enWN3X2FLogh",
        "outputId": "6e44e902-c9f6-404f-e62c-20ba91d477f3"
      },
      "execution_count": 33,
      "outputs": [
        {
          "output_type": "execute_result",
          "data": {
            "text/plain": [
              "(46,)"
            ]
          },
          "metadata": {},
          "execution_count": 33
        }
      ]
    },
    {
      "cell_type": "code",
      "source": [
        "import numpy as np\n",
        "np.sum(predictions[0])"
      ],
      "metadata": {
        "colab": {
          "base_uri": "https://localhost:8080/"
        },
        "id": "ybLdwg2OM0Ud",
        "outputId": "0af3762f-a9fc-4505-cbbf-909f422f90a5"
      },
      "execution_count": 34,
      "outputs": [
        {
          "output_type": "execute_result",
          "data": {
            "text/plain": [
              "0.99999994"
            ]
          },
          "metadata": {},
          "execution_count": 34
        }
      ]
    },
    {
      "cell_type": "code",
      "source": [
        "np.argmax(predictions[0])"
      ],
      "metadata": {
        "colab": {
          "base_uri": "https://localhost:8080/"
        },
        "id": "jjAQ4rmtM9zg",
        "outputId": "02eba4b7-282d-45b9-dbe6-3d5038c701ff"
      },
      "execution_count": 35,
      "outputs": [
        {
          "output_type": "execute_result",
          "data": {
            "text/plain": [
              "3"
            ]
          },
          "metadata": {},
          "execution_count": 35
        }
      ]
    },
    {
      "cell_type": "code",
      "source": [
        "model = keras.Sequential([\n",
        "    layers.Dense(128, activation=\"relu\"),\n",
        "    layers.Dense(128, activation=\"relu\"),\n",
        "    layers.Dense(128, activation=\"relu\"),\n",
        "    layers.Dense(46, activation=\"softmax\")\n",
        "])"
      ],
      "metadata": {
        "id": "rmE82GkjND6H"
      },
      "execution_count": 49,
      "outputs": []
    },
    {
      "cell_type": "code",
      "source": [
        "model.compile(optimizer=\"rmsprop\",\n",
        "              loss=\"categorical_crossentropy\",\n",
        "              metrics=[\"accuracy\"])"
      ],
      "metadata": {
        "id": "MpZy2QQPNuT4"
      },
      "execution_count": 50,
      "outputs": []
    },
    {
      "cell_type": "code",
      "source": [
        "model.fit(partial_x_train,\n",
        "          partial_y_train,\n",
        "          epochs=20,\n",
        "          batch_size=128,\n",
        "          validation_data=(x_val, y_val))"
      ],
      "metadata": {
        "colab": {
          "base_uri": "https://localhost:8080/"
        },
        "id": "nYXeVQWQN9mA",
        "outputId": "be50b28c-d2cc-484b-d7c9-f4ae125f3f3f"
      },
      "execution_count": 51,
      "outputs": [
        {
          "output_type": "stream",
          "name": "stdout",
          "text": [
            "Epoch 1/20\n",
            "\u001b[1m63/63\u001b[0m \u001b[32m━━━━━━━━━━━━━━━━━━━━\u001b[0m\u001b[37m\u001b[0m \u001b[1m4s\u001b[0m 35ms/step - accuracy: 0.5240 - loss: 2.1810 - val_accuracy: 0.7130 - val_loss: 1.1730\n",
            "Epoch 2/20\n",
            "\u001b[1m63/63\u001b[0m \u001b[32m━━━━━━━━━━━━━━━━━━━━\u001b[0m\u001b[37m\u001b[0m \u001b[1m2s\u001b[0m 29ms/step - accuracy: 0.7789 - loss: 0.9495 - val_accuracy: 0.7740 - val_loss: 0.9884\n",
            "Epoch 3/20\n",
            "\u001b[1m63/63\u001b[0m \u001b[32m━━━━━━━━━━━━━━━━━━━━\u001b[0m\u001b[37m\u001b[0m \u001b[1m2s\u001b[0m 30ms/step - accuracy: 0.8758 - loss: 0.5509 - val_accuracy: 0.7900 - val_loss: 0.9401\n",
            "Epoch 4/20\n",
            "\u001b[1m63/63\u001b[0m \u001b[32m━━━━━━━━━━━━━━━━━━━━\u001b[0m\u001b[37m\u001b[0m \u001b[1m2s\u001b[0m 35ms/step - accuracy: 0.9302 - loss: 0.3202 - val_accuracy: 0.7940 - val_loss: 0.9610\n",
            "Epoch 5/20\n",
            "\u001b[1m63/63\u001b[0m \u001b[32m━━━━━━━━━━━━━━━━━━━━\u001b[0m\u001b[37m\u001b[0m \u001b[1m3s\u001b[0m 44ms/step - accuracy: 0.9493 - loss: 0.2266 - val_accuracy: 0.8100 - val_loss: 0.9421\n",
            "Epoch 6/20\n",
            "\u001b[1m63/63\u001b[0m \u001b[32m━━━━━━━━━━━━━━━━━━━━\u001b[0m\u001b[37m\u001b[0m \u001b[1m4s\u001b[0m 31ms/step - accuracy: 0.9530 - loss: 0.1895 - val_accuracy: 0.8050 - val_loss: 0.9992\n",
            "Epoch 7/20\n",
            "\u001b[1m63/63\u001b[0m \u001b[32m━━━━━━━━━━━━━━━━━━━━\u001b[0m\u001b[37m\u001b[0m \u001b[1m2s\u001b[0m 30ms/step - accuracy: 0.9564 - loss: 0.1598 - val_accuracy: 0.8140 - val_loss: 0.9251\n",
            "Epoch 8/20\n",
            "\u001b[1m63/63\u001b[0m \u001b[32m━━━━━━━━━━━━━━━━━━━━\u001b[0m\u001b[37m\u001b[0m \u001b[1m3s\u001b[0m 30ms/step - accuracy: 0.9602 - loss: 0.1392 - val_accuracy: 0.7840 - val_loss: 1.0607\n",
            "Epoch 9/20\n",
            "\u001b[1m63/63\u001b[0m \u001b[32m━━━━━━━━━━━━━━━━━━━━\u001b[0m\u001b[37m\u001b[0m \u001b[1m3s\u001b[0m 38ms/step - accuracy: 0.9591 - loss: 0.1267 - val_accuracy: 0.8120 - val_loss: 0.9722\n",
            "Epoch 10/20\n",
            "\u001b[1m63/63\u001b[0m \u001b[32m━━━━━━━━━━━━━━━━━━━━\u001b[0m\u001b[37m\u001b[0m \u001b[1m3s\u001b[0m 50ms/step - accuracy: 0.9585 - loss: 0.1215 - val_accuracy: 0.7970 - val_loss: 1.0580\n",
            "Epoch 11/20\n",
            "\u001b[1m63/63\u001b[0m \u001b[32m━━━━━━━━━━━━━━━━━━━━\u001b[0m\u001b[37m\u001b[0m \u001b[1m4s\u001b[0m 32ms/step - accuracy: 0.9615 - loss: 0.1120 - val_accuracy: 0.8080 - val_loss: 1.0501\n",
            "Epoch 12/20\n",
            "\u001b[1m63/63\u001b[0m \u001b[32m━━━━━━━━━━━━━━━━━━━━\u001b[0m\u001b[37m\u001b[0m \u001b[1m2s\u001b[0m 31ms/step - accuracy: 0.9675 - loss: 0.0933 - val_accuracy: 0.8050 - val_loss: 1.0909\n",
            "Epoch 13/20\n",
            "\u001b[1m63/63\u001b[0m \u001b[32m━━━━━━━━━━━━━━━━━━━━\u001b[0m\u001b[37m\u001b[0m \u001b[1m3s\u001b[0m 31ms/step - accuracy: 0.9656 - loss: 0.0986 - val_accuracy: 0.7950 - val_loss: 1.0792\n",
            "Epoch 14/20\n",
            "\u001b[1m63/63\u001b[0m \u001b[32m━━━━━━━━━━━━━━━━━━━━\u001b[0m\u001b[37m\u001b[0m \u001b[1m3s\u001b[0m 42ms/step - accuracy: 0.9609 - loss: 0.0979 - val_accuracy: 0.8000 - val_loss: 1.1372\n",
            "Epoch 15/20\n",
            "\u001b[1m63/63\u001b[0m \u001b[32m━━━━━━━━━━━━━━━━━━━━\u001b[0m\u001b[37m\u001b[0m \u001b[1m3s\u001b[0m 51ms/step - accuracy: 0.9661 - loss: 0.0824 - val_accuracy: 0.7840 - val_loss: 1.1474\n",
            "Epoch 16/20\n",
            "\u001b[1m63/63\u001b[0m \u001b[32m━━━━━━━━━━━━━━━━━━━━\u001b[0m\u001b[37m\u001b[0m \u001b[1m2s\u001b[0m 31ms/step - accuracy: 0.9643 - loss: 0.0883 - val_accuracy: 0.7920 - val_loss: 1.1743\n",
            "Epoch 17/20\n",
            "\u001b[1m63/63\u001b[0m \u001b[32m━━━━━━━━━━━━━━━━━━━━\u001b[0m\u001b[37m\u001b[0m \u001b[1m2s\u001b[0m 30ms/step - accuracy: 0.9598 - loss: 0.0907 - val_accuracy: 0.7910 - val_loss: 1.2393\n",
            "Epoch 18/20\n",
            "\u001b[1m63/63\u001b[0m \u001b[32m━━━━━━━━━━━━━━━━━━━━\u001b[0m\u001b[37m\u001b[0m \u001b[1m2s\u001b[0m 33ms/step - accuracy: 0.9610 - loss: 0.0888 - val_accuracy: 0.8050 - val_loss: 1.1364\n",
            "Epoch 19/20\n",
            "\u001b[1m63/63\u001b[0m \u001b[32m━━━━━━━━━━━━━━━━━━━━\u001b[0m\u001b[37m\u001b[0m \u001b[1m2s\u001b[0m 34ms/step - accuracy: 0.9639 - loss: 0.0797 - val_accuracy: 0.7950 - val_loss: 1.2942\n",
            "Epoch 20/20\n",
            "\u001b[1m63/63\u001b[0m \u001b[32m━━━━━━━━━━━━━━━━━━━━\u001b[0m\u001b[37m\u001b[0m \u001b[1m3s\u001b[0m 36ms/step - accuracy: 0.9658 - loss: 0.0706 - val_accuracy: 0.8020 - val_loss: 1.1713\n"
          ]
        },
        {
          "output_type": "execute_result",
          "data": {
            "text/plain": [
              "<keras.src.callbacks.history.History at 0x7dbc0b767050>"
            ]
          },
          "metadata": {},
          "execution_count": 51
        }
      ]
    },
    {
      "cell_type": "code",
      "source": [
        "from tensorflow.keras.datasets import boston_housing\n",
        "(train_data, train_targets), (test_data, test_targets) = (boston_housing.load_data())\n",
        "\n"
      ],
      "metadata": {
        "id": "tuhqXIWvOMGX"
      },
      "execution_count": 58,
      "outputs": []
    },
    {
      "cell_type": "code",
      "source": [
        "train_data.shape"
      ],
      "metadata": {
        "colab": {
          "base_uri": "https://localhost:8080/"
        },
        "id": "kYa83bd6Q1Yv",
        "outputId": "59b86926-78eb-48d4-c8ac-ed4d3e48dd74"
      },
      "execution_count": 59,
      "outputs": [
        {
          "output_type": "execute_result",
          "data": {
            "text/plain": [
              "(404, 13)"
            ]
          },
          "metadata": {},
          "execution_count": 59
        }
      ]
    },
    {
      "cell_type": "code",
      "source": [
        "test_data.shape"
      ],
      "metadata": {
        "colab": {
          "base_uri": "https://localhost:8080/"
        },
        "id": "Wr_rwibvQ3YF",
        "outputId": "2ca44657-d192-4c8e-86f2-fb3397789e81"
      },
      "execution_count": 60,
      "outputs": [
        {
          "output_type": "execute_result",
          "data": {
            "text/plain": [
              "(102, 13)"
            ]
          },
          "metadata": {},
          "execution_count": 60
        }
      ]
    },
    {
      "cell_type": "code",
      "source": [
        "train_targets"
      ],
      "metadata": {
        "colab": {
          "base_uri": "https://localhost:8080/"
        },
        "id": "vlJWuSgGQ5B7",
        "outputId": "1f72ad22-138c-490d-c85c-4772df27472f"
      },
      "execution_count": 61,
      "outputs": [
        {
          "output_type": "execute_result",
          "data": {
            "text/plain": [
              "array([15.2, 42.3, 50. , 21.1, 17.7, 18.5, 11.3, 15.6, 15.6, 14.4, 12.1,\n",
              "       17.9, 23.1, 19.9, 15.7,  8.8, 50. , 22.5, 24.1, 27.5, 10.9, 30.8,\n",
              "       32.9, 24. , 18.5, 13.3, 22.9, 34.7, 16.6, 17.5, 22.3, 16.1, 14.9,\n",
              "       23.1, 34.9, 25. , 13.9, 13.1, 20.4, 20. , 15.2, 24.7, 22.2, 16.7,\n",
              "       12.7, 15.6, 18.4, 21. , 30.1, 15.1, 18.7,  9.6, 31.5, 24.8, 19.1,\n",
              "       22. , 14.5, 11. , 32. , 29.4, 20.3, 24.4, 14.6, 19.5, 14.1, 14.3,\n",
              "       15.6, 10.5,  6.3, 19.3, 19.3, 13.4, 36.4, 17.8, 13.5, 16.5,  8.3,\n",
              "       14.3, 16. , 13.4, 28.6, 43.5, 20.2, 22. , 23. , 20.7, 12.5, 48.5,\n",
              "       14.6, 13.4, 23.7, 50. , 21.7, 39.8, 38.7, 22.2, 34.9, 22.5, 31.1,\n",
              "       28.7, 46. , 41.7, 21. , 26.6, 15. , 24.4, 13.3, 21.2, 11.7, 21.7,\n",
              "       19.4, 50. , 22.8, 19.7, 24.7, 36.2, 14.2, 18.9, 18.3, 20.6, 24.6,\n",
              "       18.2,  8.7, 44. , 10.4, 13.2, 21.2, 37. , 30.7, 22.9, 20. , 19.3,\n",
              "       31.7, 32. , 23.1, 18.8, 10.9, 50. , 19.6,  5. , 14.4, 19.8, 13.8,\n",
              "       19.6, 23.9, 24.5, 25. , 19.9, 17.2, 24.6, 13.5, 26.6, 21.4, 11.9,\n",
              "       22.6, 19.6,  8.5, 23.7, 23.1, 22.4, 20.5, 23.6, 18.4, 35.2, 23.1,\n",
              "       27.9, 20.6, 23.7, 28. , 13.6, 27.1, 23.6, 20.6, 18.2, 21.7, 17.1,\n",
              "        8.4, 25.3, 13.8, 22.2, 18.4, 20.7, 31.6, 30.5, 20.3,  8.8, 19.2,\n",
              "       19.4, 23.1, 23. , 14.8, 48.8, 22.6, 33.4, 21.1, 13.6, 32.2, 13.1,\n",
              "       23.4, 18.9, 23.9, 11.8, 23.3, 22.8, 19.6, 16.7, 13.4, 22.2, 20.4,\n",
              "       21.8, 26.4, 14.9, 24.1, 23.8, 12.3, 29.1, 21. , 19.5, 23.3, 23.8,\n",
              "       17.8, 11.5, 21.7, 19.9, 25. , 33.4, 28.5, 21.4, 24.3, 27.5, 33.1,\n",
              "       16.2, 23.3, 48.3, 22.9, 22.8, 13.1, 12.7, 22.6, 15. , 15.3, 10.5,\n",
              "       24. , 18.5, 21.7, 19.5, 33.2, 23.2,  5. , 19.1, 12.7, 22.3, 10.2,\n",
              "       13.9, 16.3, 17. , 20.1, 29.9, 17.2, 37.3, 45.4, 17.8, 23.2, 29. ,\n",
              "       22. , 18. , 17.4, 34.6, 20.1, 25. , 15.6, 24.8, 28.2, 21.2, 21.4,\n",
              "       23.8, 31. , 26.2, 17.4, 37.9, 17.5, 20. ,  8.3, 23.9,  8.4, 13.8,\n",
              "        7.2, 11.7, 17.1, 21.6, 50. , 16.1, 20.4, 20.6, 21.4, 20.6, 36.5,\n",
              "        8.5, 24.8, 10.8, 21.9, 17.3, 18.9, 36.2, 14.9, 18.2, 33.3, 21.8,\n",
              "       19.7, 31.6, 24.8, 19.4, 22.8,  7.5, 44.8, 16.8, 18.7, 50. , 50. ,\n",
              "       19.5, 20.1, 50. , 17.2, 20.8, 19.3, 41.3, 20.4, 20.5, 13.8, 16.5,\n",
              "       23.9, 20.6, 31.5, 23.3, 16.8, 14. , 33.8, 36.1, 12.8, 18.3, 18.7,\n",
              "       19.1, 29. , 30.1, 50. , 50. , 22. , 11.9, 37.6, 50. , 22.7, 20.8,\n",
              "       23.5, 27.9, 50. , 19.3, 23.9, 22.6, 15.2, 21.7, 19.2, 43.8, 20.3,\n",
              "       33.2, 19.9, 22.5, 32.7, 22. , 17.1, 19. , 15. , 16.1, 25.1, 23.7,\n",
              "       28.7, 37.2, 22.6, 16.4, 25. , 29.8, 22.1, 17.4, 18.1, 30.3, 17.5,\n",
              "       24.7, 12.6, 26.5, 28.7, 13.3, 10.4, 24.4, 23. , 20. , 17.8,  7. ,\n",
              "       11.8, 24.4, 13.8, 19.4, 25.2, 19.4, 19.4, 29.1])"
            ]
          },
          "metadata": {},
          "execution_count": 61
        }
      ]
    },
    {
      "cell_type": "code",
      "source": [
        "mean = train_data.mean(axis=0)"
      ],
      "metadata": {
        "id": "pp_fFYEyQ8xP"
      },
      "execution_count": 62,
      "outputs": []
    },
    {
      "cell_type": "code",
      "source": [
        "mean"
      ],
      "metadata": {
        "colab": {
          "base_uri": "https://localhost:8080/"
        },
        "id": "SHktlXUiRgJz",
        "outputId": "0f327527-f7ec-47ff-e1c5-2f8beadb9bee"
      },
      "execution_count": 63,
      "outputs": [
        {
          "output_type": "execute_result",
          "data": {
            "text/plain": [
              "array([3.74511057e+00, 1.14801980e+01, 1.11044307e+01, 6.18811881e-02,\n",
              "       5.57355941e-01, 6.26708168e+00, 6.90106436e+01, 3.74027079e+00,\n",
              "       9.44059406e+00, 4.05898515e+02, 1.84759901e+01, 3.54783168e+02,\n",
              "       1.27408168e+01])"
            ]
          },
          "metadata": {},
          "execution_count": 63
        }
      ]
    },
    {
      "cell_type": "code",
      "source": [
        "train_data -= mean"
      ],
      "metadata": {
        "id": "TbAUSGyVRhZV"
      },
      "execution_count": 64,
      "outputs": []
    },
    {
      "cell_type": "code",
      "source": [
        "std = train_data.std(axis=0)\n"
      ],
      "metadata": {
        "id": "PVdMrWGXRm72"
      },
      "execution_count": 65,
      "outputs": []
    },
    {
      "cell_type": "code",
      "source": [
        "std"
      ],
      "metadata": {
        "colab": {
          "base_uri": "https://localhost:8080/"
        },
        "id": "cOZhrJgcRrcQ",
        "outputId": "e540a665-2570-4a05-ef6a-d71f1f59cf1f"
      },
      "execution_count": 66,
      "outputs": [
        {
          "output_type": "execute_result",
          "data": {
            "text/plain": [
              "array([9.22929073e+00, 2.37382770e+01, 6.80287253e+00, 2.40939633e-01,\n",
              "       1.17147847e-01, 7.08908627e-01, 2.79060634e+01, 2.02770050e+00,\n",
              "       8.68758849e+00, 1.66168506e+02, 2.19765689e+00, 9.39946015e+01,\n",
              "       7.24556085e+00])"
            ]
          },
          "metadata": {},
          "execution_count": 66
        }
      ]
    },
    {
      "cell_type": "code",
      "source": [
        "train_data /= std"
      ],
      "metadata": {
        "id": "yKinLFIKRsDb"
      },
      "execution_count": 67,
      "outputs": []
    },
    {
      "cell_type": "code",
      "source": [
        "test_data -= mean"
      ],
      "metadata": {
        "id": "kvW-4z5KRvmg"
      },
      "execution_count": 68,
      "outputs": []
    },
    {
      "cell_type": "code",
      "source": [
        "test_data /= std"
      ],
      "metadata": {
        "id": "GXEynAEnRxzd"
      },
      "execution_count": 69,
      "outputs": []
    },
    {
      "cell_type": "code",
      "source": [
        "def build_model():\n",
        "  model = keras.Sequential([\n",
        "      layers.Dense(64, activation=\"relu\"),\n",
        "      layers.Dense(64, activation=\"relu\"),\n",
        "      layers.Dense(1)\n",
        "  ])\n",
        "  model.compile(\n",
        "      optimizer=\"rmsprop\",\n",
        "      loss=\"mse\",\n",
        "      metrics=[\"mae\"]\n",
        "  )\n",
        "  return model"
      ],
      "metadata": {
        "id": "kwj4oKGARzm5"
      },
      "execution_count": 70,
      "outputs": []
    },
    {
      "cell_type": "code",
      "source": [
        "k = 4\n",
        "num_val_samples = len(train_data) // k\n",
        "num_epochs = 100\n",
        "all_scores = []\n",
        "for i in range(k):\n",
        "  print(f\"Processing fold #{i}\")\n",
        "  val_data = train_data[i * num_val_samples: (i + 1) * num_val_samples]\n",
        "  val_targets = train_targets[i * num_val_samples: (i + 1) * num_val_samples]\n",
        "  partial_train_data = np.concatenate(\n",
        "      [train_data[:i * num_val_samples],\n",
        "       train_data[(i + 1) * num_val_samples:]],\n",
        "      axis=0)\n",
        "  partial_train_targets = np.concatenate(\n",
        "      [train_targets[:i * num_val_samples],\n",
        "       train_targets[(i+1) * num_val_samples:]],\n",
        "      axis=0)\n",
        "  model = build_model()\n",
        "  model.fit(partial_train_data, partial_train_targets,\n",
        "            epochs=num_epochs, batch_size=16, verbose=0)\n",
        "  val_mse, val_mae = model.evaluate(val_data, val_targets, verbose=0)\n",
        "  all_scores.append(val_mae)"
      ],
      "metadata": {
        "colab": {
          "base_uri": "https://localhost:8080/"
        },
        "id": "gZ0tM_meSbaV",
        "outputId": "1f6e81dd-824f-4d11-ae51-d8bada74f5e0"
      },
      "execution_count": 73,
      "outputs": [
        {
          "output_type": "stream",
          "name": "stdout",
          "text": [
            "Processing fold #0\n",
            "Processing fold #1\n",
            "Processing fold #2\n",
            "Processing fold #3\n"
          ]
        }
      ]
    },
    {
      "cell_type": "code",
      "source": [
        "all_scores"
      ],
      "metadata": {
        "colab": {
          "base_uri": "https://localhost:8080/"
        },
        "id": "Am9Rwy80VDvW",
        "outputId": "c5be2c10-913d-4b0e-9aa1-ed371021a43a"
      },
      "execution_count": 74,
      "outputs": [
        {
          "output_type": "execute_result",
          "data": {
            "text/plain": [
              "[1.911271333694458, 2.461336374282837, 2.413602113723755, 2.3449151515960693]"
            ]
          },
          "metadata": {},
          "execution_count": 74
        }
      ]
    },
    {
      "cell_type": "code",
      "source": [
        "np.mean(all_scores)"
      ],
      "metadata": {
        "colab": {
          "base_uri": "https://localhost:8080/"
        },
        "id": "z6bLmvMvVkIs",
        "outputId": "4dfc8fa7-09de-4a7f-85cf-6a084db660a6"
      },
      "execution_count": 75,
      "outputs": [
        {
          "output_type": "execute_result",
          "data": {
            "text/plain": [
              "2.28278124332428"
            ]
          },
          "metadata": {},
          "execution_count": 75
        }
      ]
    },
    {
      "cell_type": "code",
      "source": [
        "num_epochs = 500\n",
        "all_mae_histories = []\n",
        "for i in range(k):\n",
        "  print(f\"Processing fold #{i}\")\n",
        "  val_data = train_data[i * num_val_samples: (i + 1) * num_val_samples]\n",
        "  val_targets = train_targets[i * num_val_samples: (i + 1) * num_val_samples]\n",
        "  partial_train_data = np.concatenate(\n",
        "      [train_data[:i * num_val_samples],\n",
        "       train_data[(i + 1) * num_val_samples:]],\n",
        "      axis=0)\n",
        "  partial_train_targets = np.concatenate(\n",
        "      [train_targets[:i * num_val_samples],\n",
        "       train_targets[(i + 1) * num_val_samples:]],\n",
        "      axis=0)\n",
        "  model = build_model()\n",
        "  history = model.fit(partial_train_data, partial_train_targets,\n",
        "                      validation_data=(val_data, val_targets),\n",
        "                      epochs=num_epochs, batch_size=16, verbose=0)\n",
        "  mae_history = history.history[\"val_mae\"]\n",
        "  all_mae_histories.append(mae_history)\n",
        ""
      ],
      "metadata": {
        "colab": {
          "base_uri": "https://localhost:8080/"
        },
        "id": "_ABaOFhuWJF1",
        "outputId": "531f4cb8-0f1a-4315-c0f9-e198802d17ad"
      },
      "execution_count": 76,
      "outputs": [
        {
          "output_type": "stream",
          "name": "stdout",
          "text": [
            "Processing fold #0\n",
            "Processing fold #1\n",
            "Processing fold #2\n",
            "Processing fold #3\n"
          ]
        }
      ]
    },
    {
      "cell_type": "code",
      "source": [
        "average_mae_history = [\n",
        "    np.mean([x[i] for x in all_mae_histories]) for i in range(num_epochs)]"
      ],
      "metadata": {
        "id": "vPQMFgm9XW2G"
      },
      "execution_count": 77,
      "outputs": []
    },
    {
      "cell_type": "code",
      "source": [
        "average_mae_history"
      ],
      "metadata": {
        "colab": {
          "base_uri": "https://localhost:8080/"
        },
        "id": "Zq-ZOJ0GZgI9",
        "outputId": "ef4e0f74-1f54-44ff-a642-bb9c1d88c0de"
      },
      "execution_count": 78,
      "outputs": [
        {
          "output_type": "execute_result",
          "data": {
            "text/plain": [
              "[19.29249906539917,\n",
              " 15.83158254623413,\n",
              " 11.697696447372437,\n",
              " 8.157790064811707,\n",
              " 5.973820447921753,\n",
              " 4.996382474899292,\n",
              " 4.405269682407379,\n",
              " 3.9686421155929565,\n",
              " 3.7139509320259094,\n",
              " 3.4862305521965027,\n",
              " 3.311973810195923,\n",
              " 3.216895043849945,\n",
              " 3.153487741947174,\n",
              " 3.0543373823165894,\n",
              " 3.0044949650764465,\n",
              " 2.960307478904724,\n",
              " 2.8766428232192993,\n",
              " 2.890127718448639,\n",
              " 2.788917064666748,\n",
              " 2.786287486553192,\n",
              " 2.7762198448181152,\n",
              " 2.7749401926994324,\n",
              " 2.7037370204925537,\n",
              " 2.7076077461242676,\n",
              " 2.678076386451721,\n",
              " 2.635104537010193,\n",
              " 2.62085098028183,\n",
              " 2.6606709957122803,\n",
              " 2.734380543231964,\n",
              " 2.6179086565971375,\n",
              " 2.6273125410079956,\n",
              " 2.5706472396850586,\n",
              " 2.5534266233444214,\n",
              " 2.5589186549186707,\n",
              " 2.5986475348472595,\n",
              " 2.5438393354415894,\n",
              " 2.526440739631653,\n",
              " 2.5006102919578552,\n",
              " 2.4936055541038513,\n",
              " 2.516637146472931,\n",
              " 2.525335371494293,\n",
              " 2.495642602443695,\n",
              " 2.4917609095573425,\n",
              " 2.5535091161727905,\n",
              " 2.555794596672058,\n",
              " 2.51423978805542,\n",
              " 2.4682711362838745,\n",
              " 2.479644238948822,\n",
              " 2.4880793690681458,\n",
              " 2.4705724120140076,\n",
              " 2.567621946334839,\n",
              " 2.4692357778549194,\n",
              " 2.5650585889816284,\n",
              " 2.3994298577308655,\n",
              " 2.4663748145103455,\n",
              " 2.445380210876465,\n",
              " 2.4280551075935364,\n",
              " 2.4275858402252197,\n",
              " 2.416642904281616,\n",
              " 2.4443658590316772,\n",
              " 2.399907648563385,\n",
              " 2.489613890647888,\n",
              " 2.4247800707817078,\n",
              " 2.436877429485321,\n",
              " 2.4942545294761658,\n",
              " 2.404712677001953,\n",
              " 2.463034689426422,\n",
              " 2.4514032006263733,\n",
              " 2.426243007183075,\n",
              " 2.4633527398109436,\n",
              " 2.430970251560211,\n",
              " 2.4406734108924866,\n",
              " 2.468580722808838,\n",
              " 2.397397369146347,\n",
              " 2.4264512062072754,\n",
              " 2.452747166156769,\n",
              " 2.4778972864151,\n",
              " 2.346291810274124,\n",
              " 2.5031095147132874,\n",
              " 2.4025112986564636,\n",
              " 2.4270957112312317,\n",
              " 2.4202869534492493,\n",
              " 2.4936364889144897,\n",
              " 2.3659156262874603,\n",
              " 2.41563081741333,\n",
              " 2.4278525710105896,\n",
              " 2.484367311000824,\n",
              " 2.44975483417511,\n",
              " 2.42175155878067,\n",
              " 2.425387442111969,\n",
              " 2.462948739528656,\n",
              " 2.374010354280472,\n",
              " 2.409792333841324,\n",
              " 2.4716538190841675,\n",
              " 2.3965146839618683,\n",
              " 2.405455231666565,\n",
              " 2.4165760278701782,\n",
              " 2.4096012711524963,\n",
              " 2.4325632452964783,\n",
              " 2.4279014468193054,\n",
              " 2.409963548183441,\n",
              " 2.4026415646076202,\n",
              " 2.4518450498580933,\n",
              " 2.3812480866909027,\n",
              " 2.451925039291382,\n",
              " 2.4247975051403046,\n",
              " 2.4328708946704865,\n",
              " 2.4030317068099976,\n",
              " 2.410166710615158,\n",
              " 2.422102689743042,\n",
              " 2.3812408447265625,\n",
              " 2.442399740219116,\n",
              " 2.4291536808013916,\n",
              " 2.3818219602108,\n",
              " 2.3996653258800507,\n",
              " 2.436093330383301,\n",
              " 2.471304774284363,\n",
              " 2.383171856403351,\n",
              " 2.41036194562912,\n",
              " 2.3551140427589417,\n",
              " 2.4578317999839783,\n",
              " 2.4614305198192596,\n",
              " 2.343422770500183,\n",
              " 2.4071860313415527,\n",
              " 2.457800269126892,\n",
              " 2.3997386395931244,\n",
              " 2.413159489631653,\n",
              " 2.472370207309723,\n",
              " 2.4361974000930786,\n",
              " 2.4300769567489624,\n",
              " 2.4171443581581116,\n",
              " 2.369942605495453,\n",
              " 2.408626616001129,\n",
              " 2.484596312046051,\n",
              " 2.3972588181495667,\n",
              " 2.404918223619461,\n",
              " 2.461859166622162,\n",
              " 2.440488874912262,\n",
              " 2.392512172460556,\n",
              " 2.431627094745636,\n",
              " 2.402322471141815,\n",
              " 2.3881811797618866,\n",
              " 2.3979229032993317,\n",
              " 2.4316039085388184,\n",
              " 2.4448277354240417,\n",
              " 2.4303411543369293,\n",
              " 2.396464377641678,\n",
              " 2.424709379673004,\n",
              " 2.413932114839554,\n",
              " 2.4906895756721497,\n",
              " 2.40871125459671,\n",
              " 2.356080114841461,\n",
              " 2.4168432354927063,\n",
              " 2.373733937740326,\n",
              " 2.4072059988975525,\n",
              " 2.3622266054153442,\n",
              " 2.341351270675659,\n",
              " 2.5136070251464844,\n",
              " 2.4683486223220825,\n",
              " 2.478677988052368,\n",
              " 2.4643590450286865,\n",
              " 2.439345955848694,\n",
              " 2.4912450909614563,\n",
              " 2.456689238548279,\n",
              " 2.390689730644226,\n",
              " 2.4201263785362244,\n",
              " 2.4816426038742065,\n",
              " 2.4300349354743958,\n",
              " 2.4123140573501587,\n",
              " 2.4060937762260437,\n",
              " 2.4077214002609253,\n",
              " 2.414240837097168,\n",
              " 2.481406509876251,\n",
              " 2.4546470642089844,\n",
              " 2.4534652829170227,\n",
              " 2.472032308578491,\n",
              " 2.4338318705558777,\n",
              " 2.416341722011566,\n",
              " 2.4237186312675476,\n",
              " 2.4485729336738586,\n",
              " 2.4596797227859497,\n",
              " 2.408342957496643,\n",
              " 2.47272926568985,\n",
              " 2.388958513736725,\n",
              " 2.4548410177230835,\n",
              " 2.3893035650253296,\n",
              " 2.4283103942871094,\n",
              " 2.452213406562805,\n",
              " 2.4485573768615723,\n",
              " 2.4529300332069397,\n",
              " 2.4490628838539124,\n",
              " 2.4295254349708557,\n",
              " 2.4601376056671143,\n",
              " 2.388778507709503,\n",
              " 2.5374841690063477,\n",
              " 2.428654193878174,\n",
              " 2.4802896976470947,\n",
              " 2.4859859943389893,\n",
              " 2.4379042983055115,\n",
              " 2.409148156642914,\n",
              " 2.424603819847107,\n",
              " 2.4293662309646606,\n",
              " 2.405391275882721,\n",
              " 2.4399433732032776,\n",
              " 2.4152844548225403,\n",
              " 2.4508633613586426,\n",
              " 2.4720170497894287,\n",
              " 2.4933241605758667,\n",
              " 2.392077922821045,\n",
              " 2.4436190128326416,\n",
              " 2.470178008079529,\n",
              " 2.419132113456726,\n",
              " 2.424386739730835,\n",
              " 2.4053698778152466,\n",
              " 2.4235472679138184,\n",
              " 2.4583556056022644,\n",
              " 2.4737598299980164,\n",
              " 2.4818297624588013,\n",
              " 2.3787872791290283,\n",
              " 2.413774311542511,\n",
              " 2.435313045978546,\n",
              " 2.404522716999054,\n",
              " 2.4151983857154846,\n",
              " 2.447761118412018,\n",
              " 2.42005854845047,\n",
              " 2.41949999332428,\n",
              " 2.4004870653152466,\n",
              " 2.5463879108428955,\n",
              " 2.405770719051361,\n",
              " 2.4006499648094177,\n",
              " 2.4249094128608704,\n",
              " 2.4641796946525574,\n",
              " 2.520948827266693,\n",
              " 2.5000141859054565,\n",
              " 2.4757277965545654,\n",
              " 2.5051859617233276,\n",
              " 2.4466102719306946,\n",
              " 2.402563512325287,\n",
              " 2.4150946736335754,\n",
              " 2.422235369682312,\n",
              " 2.3928850293159485,\n",
              " 2.4009822607040405,\n",
              " 2.449774384498596,\n",
              " 2.38447767496109,\n",
              " 2.4813243746757507,\n",
              " 2.4063671231269836,\n",
              " 2.5019725561141968,\n",
              " 2.441031575202942,\n",
              " 2.471673846244812,\n",
              " 2.4327090978622437,\n",
              " 2.4367815256118774,\n",
              " 2.4697676301002502,\n",
              " 2.45977383852005,\n",
              " 2.4911388754844666,\n",
              " 2.472991168498993,\n",
              " 2.5266345143318176,\n",
              " 2.419939935207367,\n",
              " 2.4025837182998657,\n",
              " 2.4463179111480713,\n",
              " 2.4943483471870422,\n",
              " 2.4164003133773804,\n",
              " 2.4291860461235046,\n",
              " 2.470884323120117,\n",
              " 2.4918100833892822,\n",
              " 2.4641953110694885,\n",
              " 2.4849122762680054,\n",
              " 2.4051976203918457,\n",
              " 2.4921560287475586,\n",
              " 2.518691122531891,\n",
              " 2.499828040599823,\n",
              " 2.448098838329315,\n",
              " 2.4431052803993225,\n",
              " 2.488054633140564,\n",
              " 2.4793494939804077,\n",
              " 2.4544941186904907,\n",
              " 2.5369958877563477,\n",
              " 2.5132004022598267,\n",
              " 2.4475989937782288,\n",
              " 2.5386189222335815,\n",
              " 2.426027476787567,\n",
              " 2.5501473546028137,\n",
              " 2.537006914615631,\n",
              " 2.52534818649292,\n",
              " 2.5077709555625916,\n",
              " 2.4416142106056213,\n",
              " 2.455154001712799,\n",
              " 2.533210873603821,\n",
              " 2.4363057017326355,\n",
              " 2.4656776189804077,\n",
              " 2.52182275056839,\n",
              " 2.492561161518097,\n",
              " 2.4262365102767944,\n",
              " 2.507453739643097,\n",
              " 2.4369930624961853,\n",
              " 2.4550671577453613,\n",
              " 2.413313090801239,\n",
              " 2.5257615447044373,\n",
              " 2.50016450881958,\n",
              " 2.419858396053314,\n",
              " 2.461284041404724,\n",
              " 2.432773530483246,\n",
              " 2.485145926475525,\n",
              " 2.422329843044281,\n",
              " 2.423478603363037,\n",
              " 2.426215350627899,\n",
              " 2.483854651451111,\n",
              " 2.458841860294342,\n",
              " 2.50715172290802,\n",
              " 2.5196550488471985,\n",
              " 2.4715417623519897,\n",
              " 2.4132286310195923,\n",
              " 2.408125340938568,\n",
              " 2.4426002502441406,\n",
              " 2.54302179813385,\n",
              " 2.4197808504104614,\n",
              " 2.4348555207252502,\n",
              " 2.453993856906891,\n",
              " 2.4297104477882385,\n",
              " 2.38420432806015,\n",
              " 2.4540590047836304,\n",
              " 2.5432275533676147,\n",
              " 2.450972616672516,\n",
              " 2.498899757862091,\n",
              " 2.4242380261421204,\n",
              " 2.4648380279541016,\n",
              " 2.511690676212311,\n",
              " 2.4491231441497803,\n",
              " 2.5066450238227844,\n",
              " 2.4618882536888123,\n",
              " 2.416553795337677,\n",
              " 2.5309885144233704,\n",
              " 2.511396050453186,\n",
              " 2.53538054227829,\n",
              " 2.4151652455329895,\n",
              " 2.4878625869750977,\n",
              " 2.4737102389335632,\n",
              " 2.545110583305359,\n",
              " 2.524924635887146,\n",
              " 2.4169018864631653,\n",
              " 2.482691764831543,\n",
              " 2.4672566056251526,\n",
              " 2.4666250348091125,\n",
              " 2.5107635259628296,\n",
              " 2.4917690753936768,\n",
              " 2.410528063774109,\n",
              " 2.4407824277877808,\n",
              " 2.5115275979042053,\n",
              " 2.493387818336487,\n",
              " 2.464242994785309,\n",
              " 2.463365852832794,\n",
              " 2.486795723438263,\n",
              " 2.4699657559394836,\n",
              " 2.4280076026916504,\n",
              " 2.4598769545555115,\n",
              " 2.490100145339966,\n",
              " 2.4842050075531006,\n",
              " 2.4740448594093323,\n",
              " 2.581702470779419,\n",
              " 2.4973710775375366,\n",
              " 2.470612943172455,\n",
              " 2.6153544187545776,\n",
              " 2.477286636829376,\n",
              " 2.5826250314712524,\n",
              " 2.4806728959083557,\n",
              " 2.4728410243988037,\n",
              " 2.539156973361969,\n",
              " 2.576172888278961,\n",
              " 2.4872260689735413,\n",
              " 2.522384464740753,\n",
              " 2.445636212825775,\n",
              " 2.4683861136436462,\n",
              " 2.5130181908607483,\n",
              " 2.443913757801056,\n",
              " 2.5156847834587097,\n",
              " 2.5180703997612,\n",
              " 2.5729228854179382,\n",
              " 2.4986547231674194,\n",
              " 2.4917401671409607,\n",
              " 2.522771120071411,\n",
              " 2.495469808578491,\n",
              " 2.486193895339966,\n",
              " 2.531630516052246,\n",
              " 2.4756656289100647,\n",
              " 2.499231696128845,\n",
              " 2.4961645007133484,\n",
              " 2.552803158760071,\n",
              " 2.515315532684326,\n",
              " 2.538325071334839,\n",
              " 2.484162211418152,\n",
              " 2.463200867176056,\n",
              " 2.5418137907981873,\n",
              " 2.565808117389679,\n",
              " 2.550921142101288,\n",
              " 2.5289573669433594,\n",
              " 2.5249971747398376,\n",
              " 2.488122582435608,\n",
              " 2.518646717071533,\n",
              " 2.5027008652687073,\n",
              " 2.509974777698517,\n",
              " 2.4903621673583984,\n",
              " 2.530570328235626,\n",
              " 2.534209966659546,\n",
              " 2.500023066997528,\n",
              " 2.4963377714157104,\n",
              " 2.5054481625556946,\n",
              " 2.5058380365371704,\n",
              " 2.6013121604919434,\n",
              " 2.585195004940033,\n",
              " 2.632367730140686,\n",
              " 2.52460253238678,\n",
              " 2.5094911456108093,\n",
              " 2.5405248403549194,\n",
              " 2.522152900695801,\n",
              " 2.5150786638259888,\n",
              " 2.54039067029953,\n",
              " 2.538423717021942,\n",
              " 2.6166219115257263,\n",
              " 2.6302621960639954,\n",
              " 2.5409510135650635,\n",
              " 2.545161783695221,\n",
              " 2.5140194296836853,\n",
              " 2.5007938742637634,\n",
              " 2.5256742238998413,\n",
              " 2.567854106426239,\n",
              " 2.506534993648529,\n",
              " 2.4824130535125732,\n",
              " 2.58213472366333,\n",
              " 2.4925264716148376,\n",
              " 2.533494293689728,\n",
              " 2.5327175855636597,\n",
              " 2.4986466765403748,\n",
              " 2.5332133173942566,\n",
              " 2.5739822387695312,\n",
              " 2.5639950037002563,\n",
              " 2.5668376088142395,\n",
              " 2.5416718125343323,\n",
              " 2.5352437496185303,\n",
              " 2.5272414088249207,\n",
              " 2.4806033968925476,\n",
              " 2.543606758117676,\n",
              " 2.6033920645713806,\n",
              " 2.5004588961601257,\n",
              " 2.4959880709648132,\n",
              " 2.474919557571411,\n",
              " 2.5491713285446167,\n",
              " 2.552925407886505,\n",
              " 2.5800525546073914,\n",
              " 2.5646055936813354,\n",
              " 2.6278361678123474,\n",
              " 2.5517828464508057,\n",
              " 2.5149322152137756,\n",
              " 2.5682361125946045,\n",
              " 2.5512266755104065,\n",
              " 2.5663211941719055,\n",
              " 2.5731027126312256,\n",
              " 2.533507227897644,\n",
              " 2.552671730518341,\n",
              " 2.489790380001068,\n",
              " 2.5086501240730286,\n",
              " 2.542699098587036,\n",
              " 2.5309974551200867,\n",
              " 2.5471878051757812,\n",
              " 2.558915138244629,\n",
              " 2.5363240838050842,\n",
              " 2.4864054918289185,\n",
              " 2.5755935311317444,\n",
              " 2.578902304172516,\n",
              " 2.5402101278305054,\n",
              " 2.5071756839752197,\n",
              " 2.5632100105285645,\n",
              " 2.551184594631195,\n",
              " 2.531726360321045,\n",
              " 2.496384084224701,\n",
              " 2.5616958141326904,\n",
              " 2.50735205411911,\n",
              " 2.55049204826355,\n",
              " 2.527017593383789,\n",
              " 2.5420437455177307,\n",
              " 2.52516633272171,\n",
              " 2.5219240188598633,\n",
              " 2.5419403314590454,\n",
              " 2.601284146308899,\n",
              " 2.6199384331703186,\n",
              " 2.550191879272461,\n",
              " 2.718712270259857,\n",
              " 2.524120509624481,\n",
              " 2.5470852851867676,\n",
              " 2.586191952228546,\n",
              " 2.548586070537567,\n",
              " 2.5849015712738037,\n",
              " 2.635213613510132,\n",
              " 2.576556444168091,\n",
              " 2.5409764647483826,\n",
              " 2.611683487892151,\n",
              " 2.5373229384422302,\n",
              " 2.579100549221039,\n",
              " 2.565179169178009,\n",
              " 2.5589839220046997,\n",
              " 2.6448981165885925,\n",
              " 2.591342806816101]"
            ]
          },
          "metadata": {},
          "execution_count": 78
        }
      ]
    },
    {
      "cell_type": "code",
      "source": [
        "import matplotlib.pyplot as plt\n",
        "plt.plot(range(1, len(average_mae_history) + 1), average_mae_history)\n",
        "plt.xlabel(\"Epochs\")\n",
        "plt.ylabel(\"Validation MAE\")\n",
        "plt.show()"
      ],
      "metadata": {
        "colab": {
          "base_uri": "https://localhost:8080/",
          "height": 452
        },
        "id": "01dB6B8MZhAt",
        "outputId": "8229f498-b8fd-424a-ec7f-4fa432f6d10a"
      },
      "execution_count": 79,
      "outputs": [
        {
          "output_type": "display_data",
          "data": {
            "text/plain": [
              "<Figure size 640x480 with 1 Axes>"
            ],
            "image/png": "[encoded data removed]"
          },
          "metadata": {}
        }
      ]
    },
    {
      "cell_type": "code",
      "source": [
        "truncate_mae_history = average_mae_history[10:]\n",
        "plt.plot(range(1, len(truncate_mae_history) + 1), truncate_mae_history)\n",
        "plt.xlabel(\"Epochs\")\n",
        "plt.ylabel(\"Validation MAE\")\n",
        "plt.show()"
      ],
      "metadata": {
        "colab": {
          "base_uri": "https://localhost:8080/",
          "height": 449
        },
        "id": "C8PkSgqvZ0Xd",
        "outputId": "1b377031-ecfc-444e-ab0b-d7686d29631b"
      },
      "execution_count": 80,
      "outputs": [
        {
          "output_type": "display_data",
          "data": {
            "text/plain": [
              "<Figure size 640x480 with 1 Axes>"
            ],
            "image/png": "[encoded data removed]"
          },
          "metadata": {}
        }
      ]
    },
    {
      "cell_type": "code",
      "source": [
        "model = build_model()\n",
        "model.fit(train_data, train_targets,\n",
        "          epochs=130, batch_size=16, verbose=0)\n",
        "test_mse_score = test_mae_score = model.evaluate(test_data, test_targets)"
      ],
      "metadata": {
        "colab": {
          "base_uri": "https://localhost:8080/"
        },
        "id": "Uf7-cBlyaMhG",
        "outputId": "3964a23e-58bb-42ea-bf6d-251efd914f17"
      },
      "execution_count": 81,
      "outputs": [
        {
          "output_type": "stream",
          "name": "stdout",
          "text": [
            "\u001b[1m4/4\u001b[0m \u001b[32m━━━━━━━━━━━━━━━━━━━━\u001b[0m\u001b[37m\u001b[0m \u001b[1m0s\u001b[0m 11ms/step - loss: 10.1919 - mae: 2.1871\n"
          ]
        }
      ]
    },
    {
      "cell_type": "code",
      "source": [
        "test_mae_score"
      ],
      "metadata": {
        "colab": {
          "base_uri": "https://localhost:8080/"
        },
        "id": "bzLwrnK1a0W9",
        "outputId": "25c45040-acef-42f1-fd46-142d518bbe00"
      },
      "execution_count": 82,
      "outputs": [
        {
          "output_type": "execute_result",
          "data": {
            "text/plain": [
              "[13.247027397155762, 2.3562793731689453]"
            ]
          },
          "metadata": {},
          "execution_count": 82
        }
      ]
    },
    {
      "cell_type": "code",
      "source": [
        "predictions = model.predict(test_data)\n",
        "predictions[0]"
      ],
      "metadata": {
        "colab": {
          "base_uri": "https://localhost:8080/"
        },
        "id": "Y3D1ShXhatt4",
        "outputId": "9722305f-8e7c-4060-da02-48fee9abb90a"
      },
      "execution_count": 83,
      "outputs": [
        {
          "output_type": "stream",
          "name": "stdout",
          "text": [
            "\u001b[1m4/4\u001b[0m \u001b[32m━━━━━━━━━━━━━━━━━━━━\u001b[0m\u001b[37m\u001b[0m \u001b[1m0s\u001b[0m 19ms/step\n"
          ]
        },
        {
          "output_type": "execute_result",
          "data": {
            "text/plain": [
              "array([8.812604], dtype=float32)"
            ]
          },
          "metadata": {},
          "execution_count": 83
        }
      ]
    },
    {
      "cell_type": "code",
      "source": [],
      "metadata": {
        "id": "dTkwdNslbDch"
      },
      "execution_count": null,
      "outputs": []
    }
  ]
}