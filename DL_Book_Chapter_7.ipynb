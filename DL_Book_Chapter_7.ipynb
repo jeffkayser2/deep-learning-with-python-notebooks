{
  "nbformat": 4,
  "nbformat_minor": 0,
  "metadata": {
    "colab": {
      "provenance": [],
      "authorship_tag": "ABX9TyPvRC5xC4mSM5Z+J/2pqyXX",
      "include_colab_link": true
    },
    "kernelspec": {
      "name": "python3",
      "display_name": "Python 3"
    },
    "language_info": {
      "name": "python"
    }
  },
  "cells": [
    {
      "cell_type": "markdown",
      "metadata": {
        "id": "view-in-github",
        "colab_type": "text"
      },
      "source": [
        "<a href=\"https://colab.research.google.com/github/jeffkayser2/deep-learning-with-python-notebooks/blob/master/DL_Book_Chapter_7.ipynb\" target=\"_parent\"><img src=\"https://colab.research.google.com/assets/colab-badge.svg\" alt=\"Open In Colab\"/></a>"
      ]
    },
    {
      "cell_type": "code",
      "execution_count": 5,
      "metadata": {
        "colab": {
          "base_uri": "https://localhost:8080/"
        },
        "id": "_ml_TsGfEpFW",
        "outputId": "db2535a2-16fe-4d92-a2a9-6ad1709381ba"
      },
      "outputs": [
        {
          "output_type": "execute_result",
          "data": {
            "text/plain": [
              "<Sequential name=sequential_4, built=False>"
            ]
          },
          "metadata": {},
          "execution_count": 5
        }
      ],
      "source": [
        "from tensorflow import keras\n",
        "from tensorflow.keras import layers\n",
        "\n",
        "model = keras.Sequential([\n",
        "    layers.Dense(64, activation=\"relu\"),\n",
        "    layers.Dense(10, activation=\"softmax\")\n",
        "])\n",
        "model\n"
      ]
    },
    {
      "cell_type": "code",
      "source": [
        "model = keras.Sequential()\n",
        "model.add(layers.Dense(64, activation=\"relu\"))\n",
        "model.add(layers.Dense(10, activation=\"softmax\"))\n",
        "model"
      ],
      "metadata": {
        "colab": {
          "base_uri": "https://localhost:8080/"
        },
        "id": "i55sEYVfFB8Q",
        "outputId": "309883c7-7d61-4b82-b84d-46427a4c23ba"
      },
      "execution_count": 6,
      "outputs": [
        {
          "output_type": "execute_result",
          "data": {
            "text/plain": [
              "<Sequential name=sequential_5, built=False>"
            ]
          },
          "metadata": {},
          "execution_count": 6
        }
      ]
    },
    {
      "cell_type": "code",
      "source": [
        "model.weights"
      ],
      "metadata": {
        "colab": {
          "base_uri": "https://localhost:8080/"
        },
        "id": "iyyAUbQ_Fa-l",
        "outputId": "71b15bab-af67-46fc-90d3-ee4546b0a706"
      },
      "execution_count": 7,
      "outputs": [
        {
          "output_type": "execute_result",
          "data": {
            "text/plain": [
              "[]"
            ]
          },
          "metadata": {},
          "execution_count": 7
        }
      ]
    },
    {
      "cell_type": "code",
      "source": [
        "model.build(input_shape=(None, 3))\n",
        "model.weights"
      ],
      "metadata": {
        "colab": {
          "base_uri": "https://localhost:8080/"
        },
        "id": "IIbX-_sbFtKd",
        "outputId": "250b5c2b-6bae-435a-ff52-9cd3801a7baf"
      },
      "execution_count": 8,
      "outputs": [
        {
          "output_type": "execute_result",
          "data": {
            "text/plain": [
              "[<Variable path=sequential_5/dense_10/kernel, shape=(3, 64), dtype=float32, value=[[ 0.01927122 -0.22536883  0.07187411  0.23390299  0.05576637  0.05941778\n",
              "   -0.20789978  0.11049092 -0.06118248  0.12425682  0.10482958 -0.01835304\n",
              "   -0.26943594 -0.05508542 -0.21545932 -0.06030685  0.2502659   0.17514011\n",
              "   -0.25952792  0.19755712 -0.10142544  0.0665758  -0.1005276   0.09803742\n",
              "   -0.01626614 -0.11907978  0.16973653  0.29570872  0.17772481 -0.16163924\n",
              "    0.02620763 -0.24253973 -0.17622037  0.17553937 -0.11725029 -0.11241187\n",
              "    0.03302267 -0.2581964  -0.04487169 -0.03601831 -0.09965965 -0.20270589\n",
              "   -0.20468849 -0.12408552 -0.04122618  0.23627502  0.07612941 -0.2600639\n",
              "   -0.13515458 -0.07521082 -0.2587573  -0.10747677  0.17957348 -0.04941602\n",
              "    0.08083478 -0.07926799 -0.0846792  -0.12894028 -0.20497867  0.10797912\n",
              "    0.11369169  0.07976627 -0.17533389 -0.22305048]\n",
              "  [ 0.26657903 -0.05501486 -0.03111425  0.16503295  0.03843123  0.117322\n",
              "    0.2588746   0.18309349 -0.00974184  0.08791509  0.26215756  0.22207516\n",
              "   -0.04492676 -0.19292295  0.13990602 -0.19706938  0.25164533  0.07484582\n",
              "   -0.27832854 -0.01694924 -0.18721566  0.2904117   0.2413572  -0.09868391\n",
              "   -0.18022175 -0.2280505   0.10214975  0.00876889  0.2957638  -0.25683725\n",
              "    0.20947534  0.273192    0.00139412 -0.03091905  0.00882003  0.16377437\n",
              "   -0.26203358 -0.14049172 -0.19187678 -0.2106017  -0.2161957   0.19072375\n",
              "   -0.10786027  0.15920445  0.00649098 -0.22025928  0.05752823  0.0579513\n",
              "    0.11430472  0.02185121  0.18386868 -0.17649135 -0.12758191  0.1153242\n",
              "    0.09083     0.27235353 -0.02529672 -0.18374795 -0.16671883  0.25023788\n",
              "   -0.28807345  0.15738907  0.18377322  0.01420283]\n",
              "  [ 0.24390912  0.06573132 -0.17022112 -0.10290127 -0.15808749 -0.22523856\n",
              "   -0.28152362 -0.12047648  0.22751832 -0.07835047 -0.10804212  0.17132795\n",
              "   -0.21213838  0.126921   -0.16977835  0.06897107 -0.05420278 -0.09645966\n",
              "   -0.14774169 -0.12716238  0.1211659  -0.08214436  0.08436134  0.19297105\n",
              "    0.17427388  0.04438025  0.2803535   0.2719577   0.21462739  0.2617892\n",
              "    0.15050068  0.08063087 -0.2096074  -0.21713114 -0.16899388 -0.1609419\n",
              "    0.00503612  0.19076726  0.03373286 -0.00336468  0.16577804  0.13615808\n",
              "   -0.28450224 -0.16118126  0.07704365  0.02624765  0.22747445  0.20510215\n",
              "   -0.09826054 -0.15185551 -0.26631376  0.12112904 -0.2131956  -0.0985774\n",
              "    0.12220788 -0.28127006  0.08027485  0.03368998 -0.09426707 -0.29924282\n",
              "    0.16218519  0.26953197  0.2379958   0.23226613]]>,\n",
              " <Variable path=sequential_5/dense_10/bias, shape=(64,), dtype=float32, value=[0. 0. 0. 0. 0. 0. 0. 0. 0. 0. 0. 0. 0. 0. 0. 0. 0. 0. 0. 0. 0. 0. 0. 0.\n",
              "  0. 0. 0. 0. 0. 0. 0. 0. 0. 0. 0. 0. 0. 0. 0. 0. 0. 0. 0. 0. 0. 0. 0. 0.\n",
              "  0. 0. 0. 0. 0. 0. 0. 0. 0. 0. 0. 0. 0. 0. 0. 0.]>,\n",
              " <Variable path=sequential_5/dense_11/kernel, shape=(64, 10), dtype=float32, value=[[-1.00751996e-01  9.47639048e-02 -6.32812977e-02  1.99471712e-02\n",
              "    1.83490515e-01 -1.20385781e-01  8.20619166e-02 -7.86625147e-02\n",
              "   -1.34043843e-01  1.02588654e-01]\n",
              "  [-1.05154738e-01 -6.72806501e-02  1.54061884e-01  1.55049801e-01\n",
              "   -2.71747231e-01  2.59798080e-01 -8.98388326e-02  6.79728985e-02\n",
              "   -7.07757175e-02 -2.81828225e-01]\n",
              "  [ 2.30859488e-01 -6.52468204e-03  1.00803792e-01  6.08855486e-03\n",
              "   -2.05168575e-01 -1.10308066e-01  8.51509571e-02 -8.38869214e-02\n",
              "   -1.90610111e-01 -6.69259876e-02]\n",
              "  [-2.23089933e-01  1.29479378e-01  3.64209116e-02  2.25043803e-01\n",
              "    6.01495206e-02  1.99351907e-01  3.35532129e-02 -2.75540262e-01\n",
              "    9.71227884e-04 -2.81670034e-01]\n",
              "  [ 6.70023561e-02 -8.88460875e-02  2.39791125e-01  1.76949680e-01\n",
              "    1.46126866e-01  2.84159809e-01  1.82489753e-01  1.38074756e-01\n",
              "    2.53546268e-01 -4.03759331e-02]\n",
              "  [-1.07538462e-01  6.60011172e-03 -1.89910710e-01  4.79429066e-02\n",
              "   -3.47222686e-02 -2.17360362e-01 -2.47191370e-01 -5.62934726e-02\n",
              "    2.64853984e-01  2.28685528e-01]\n",
              "  [ 1.32711381e-01  2.44203061e-01 -2.47565836e-01 -1.77367449e-01\n",
              "   -2.42996842e-01 -8.52356702e-02  2.88073719e-02  4.46862280e-02\n",
              "   -6.60100281e-02 -3.00024152e-02]\n",
              "  [-1.52427182e-01  1.44827545e-01 -1.71236053e-01  1.87193573e-01\n",
              "    3.73899937e-03 -2.81622738e-01 -7.95198977e-02  1.90106988e-01\n",
              "   -2.41198450e-01 -3.19849849e-02]\n",
              "  [ 1.28829211e-01  1.34859324e-01  6.28730059e-02  7.50967860e-03\n",
              "   -1.74791813e-02 -2.51667708e-01 -1.73713267e-02 -1.13404751e-01\n",
              "    1.42991960e-01 -1.02459267e-01]\n",
              "  [-7.72071183e-02  3.08466256e-02 -7.50175118e-03 -2.43296906e-01\n",
              "   -2.19754279e-02  3.73402834e-02  1.14887029e-01  2.03957021e-01\n",
              "    5.80265522e-02 -1.69789344e-01]\n",
              "  [ 2.33059019e-01  9.11533535e-02  1.91128433e-01  1.35995656e-01\n",
              "   -8.39470774e-02 -9.42574590e-02 -2.32397914e-02  2.03545094e-02\n",
              "   -1.20179534e-01 -5.27819246e-02]\n",
              "  [-1.25467777e-05  1.94164217e-02 -2.06860095e-01  2.22959369e-01\n",
              "   -8.62626284e-02  1.52463436e-01 -1.04255676e-01 -1.79969311e-01\n",
              "   -5.50221950e-02  5.24666905e-03]\n",
              "  [-2.61803329e-01 -2.50531852e-01  1.81321591e-01  6.21172786e-02\n",
              "    2.65108675e-01  1.56498551e-02  5.08653522e-02  4.78327274e-03\n",
              "   -1.84370756e-01  6.19813800e-03]\n",
              "  [ 1.89130247e-01 -2.21853733e-01 -2.80032307e-01  2.84463614e-01\n",
              "   -1.65992305e-01 -2.02261493e-01 -6.91057742e-02 -1.27157584e-01\n",
              "   -3.59588712e-02 -1.80050910e-01]\n",
              "  [ 2.84414917e-01  1.16116047e-01 -2.62509048e-01  1.11079633e-01\n",
              "    9.73521769e-02 -1.43440098e-01 -5.12783825e-02 -2.78692514e-01\n",
              "    2.21116871e-01  2.71718651e-01]\n",
              "  [-1.75467849e-01 -2.30479389e-01  2.31867224e-01 -6.33582920e-02\n",
              "    8.54138732e-02  8.21501911e-02 -1.41490996e-02  1.38704836e-01\n",
              "   -1.25283092e-01  1.11574858e-01]\n",
              "  [-1.51631236e-03 -2.39951804e-01 -5.09333014e-02  8.08649659e-02\n",
              "    2.03072757e-01  9.45723057e-03 -1.73374891e-01  1.07503146e-01\n",
              "   -8.44308734e-03  2.66985506e-01]\n",
              "  [ 7.38163888e-02 -1.33275881e-01 -2.29421258e-01 -1.27754733e-01\n",
              "    3.02422643e-02  1.70803994e-01 -1.22065157e-01 -2.71904558e-01\n",
              "   -1.55324355e-01 -1.45433381e-01]\n",
              "  [ 2.21273273e-01  1.36044860e-01  2.50291437e-01  5.97444773e-02\n",
              "    2.65840203e-01 -1.99131265e-01  1.10794544e-01 -1.51037902e-01\n",
              "   -2.17185616e-01 -9.46967006e-02]\n",
              "  [-3.89024019e-02  2.81608552e-01 -2.28234634e-01 -1.34806097e-01\n",
              "   -1.30816698e-02 -4.99147177e-03 -1.00251183e-01 -2.40835786e-01\n",
              "    8.31989944e-02 -1.43631682e-01]\n",
              "  [ 2.76536196e-01 -7.98064470e-03  9.67704952e-02  8.36162567e-02\n",
              "   -2.52105772e-01 -1.35118052e-01  1.90919071e-01  2.16375679e-01\n",
              "    1.11331433e-01 -2.80694544e-01]\n",
              "  [ 1.88913345e-01  1.41471922e-02 -1.31505609e-01 -2.61384726e-01\n",
              "   -2.26475626e-01  2.57459968e-01 -7.57483095e-02 -7.76887238e-02\n",
              "    1.78517103e-02 -3.04001570e-03]\n",
              "  [ 1.23992324e-01  2.61341006e-01  8.13420415e-02  2.27761656e-01\n",
              "    6.85887337e-02  2.25169212e-01  2.14656681e-01 -2.71842778e-02\n",
              "   -1.14347935e-01  2.39315122e-01]\n",
              "  [ 6.30540848e-02  1.46533936e-01  1.64516866e-01 -1.64054692e-01\n",
              "   -2.75337845e-01 -2.81612217e-01 -2.46276349e-01 -4.19659019e-02\n",
              "    1.94156021e-01 -1.12855434e-02]\n",
              "  [ 6.04568422e-02 -1.87913746e-01  1.79386824e-01  8.98796320e-02\n",
              "    2.37913460e-01  8.04220736e-02 -2.27354988e-01  6.68751597e-02\n",
              "    1.86897099e-01 -2.71603167e-02]\n",
              "  [ 1.08663231e-01  1.60877407e-01  2.80528396e-01 -5.89647740e-02\n",
              "    3.04737687e-02 -9.67785716e-03 -1.37110114e-01  1.42382920e-01\n",
              "   -9.54729468e-02  9.77666378e-02]\n",
              "  [ 1.86277151e-01  1.18286937e-01 -1.83919564e-01  1.83860093e-01\n",
              "    1.54972196e-01  2.29111940e-01 -2.38217443e-01  5.31137586e-02\n",
              "   -2.70495832e-01  1.69901282e-01]\n",
              "  [-5.53100407e-02 -1.71065316e-01  9.19311047e-02 -2.59017646e-01\n",
              "   -1.52063429e-01 -3.86036187e-02  8.60691071e-05 -3.32942307e-02\n",
              "   -1.75590992e-01  2.78549999e-01]\n",
              "  [-2.70470917e-01 -2.53655136e-01 -2.50221670e-01  6.90776706e-02\n",
              "    9.89664495e-02 -7.61097670e-03 -4.46510464e-02 -6.57975674e-04\n",
              "    1.79241955e-01  1.94414526e-01]\n",
              "  [ 1.92952752e-01 -1.70128986e-01 -2.11586192e-01  8.80767703e-02\n",
              "   -2.27637351e-01 -2.29499876e-01 -4.82472777e-03 -1.82385951e-01\n",
              "    6.79602027e-02  2.20770627e-01]\n",
              "  [ 1.22720957e-01  1.93945706e-01 -9.60108638e-03  1.64081901e-01\n",
              "   -1.26351193e-01 -9.85299200e-02 -1.33725449e-01  1.52109474e-01\n",
              "    1.22962981e-01 -2.56594419e-01]\n",
              "  [-1.44997060e-01  1.47430688e-01  7.28198588e-02 -4.97047752e-02\n",
              "    2.50629812e-01 -1.68411329e-01  1.68519616e-01 -1.40075386e-02\n",
              "   -2.29505375e-01 -2.70077378e-01]\n",
              "  [-1.29535601e-01  2.51676470e-01 -2.04985678e-01  1.24468416e-01\n",
              "   -5.82359284e-02  2.32017547e-01 -1.36997566e-01  2.56064862e-01\n",
              "   -1.93124175e-01 -2.40167424e-01]\n",
              "  [ 1.02451950e-01  9.57144797e-02 -1.86029553e-01  1.24035895e-01\n",
              "    1.37130290e-01  2.11300045e-01 -1.76442802e-01  3.22824717e-03\n",
              "    2.23936230e-01  4.44199443e-02]\n",
              "  [ 1.23935640e-02 -7.82900155e-02 -2.29228795e-01  6.79183006e-03\n",
              "   -1.20265141e-01 -2.26234004e-01  8.32144022e-02 -2.08724320e-01\n",
              "   -2.68781930e-01 -2.70514846e-01]\n",
              "  [-2.65912592e-01  1.08729303e-01  2.08455503e-01 -6.09066784e-02\n",
              "   -6.73343539e-02 -1.66802153e-01  1.44879073e-01  1.07618690e-01\n",
              "   -2.34478801e-01 -1.51884079e-01]\n",
              "  [ 5.13818562e-02 -1.22638956e-01 -5.87155521e-02  1.97529137e-01\n",
              "   -4.52336669e-02 -2.16422141e-01  2.31189281e-01 -6.08715117e-02\n",
              "   -9.46369469e-02 -2.63750792e-01]\n",
              "  [-3.68213952e-02 -1.38973475e-01  2.33025849e-02  8.74723494e-02\n",
              "    1.72427773e-01 -8.78861994e-02  2.18037635e-01 -1.26425058e-01\n",
              "   -3.38811278e-02  1.38906747e-01]\n",
              "  [ 2.34660655e-01 -1.28759295e-01  2.37868994e-01  4.31166291e-02\n",
              "   -2.10896105e-01 -3.45427692e-02  9.34988260e-03  1.21907979e-01\n",
              "    2.19631642e-01  2.28412718e-01]\n",
              "  [-2.19301045e-01  1.39740556e-01  2.30599970e-01 -1.43877238e-01\n",
              "    1.68625504e-01 -6.82970881e-03 -2.62300760e-01  7.03530312e-02\n",
              "    1.20402217e-01  9.37875211e-02]\n",
              "  [ 1.50332749e-02 -1.72043324e-01  9.14750993e-02  1.00317359e-01\n",
              "   -2.36323684e-01 -2.88642645e-02  1.64951235e-01 -1.38249442e-01\n",
              "    1.71990573e-01  1.60702378e-01]\n",
              "  [ 2.03897566e-01 -2.71767467e-01 -5.80535680e-02 -2.15853974e-01\n",
              "   -1.20915458e-01 -2.07047880e-01 -1.89980894e-01  2.14719206e-01\n",
              "   -1.44262508e-01  1.28378868e-02]\n",
              "  [ 1.85827941e-01 -2.82884508e-01 -1.93063751e-01  1.48527294e-01\n",
              "    5.60652912e-02 -2.22741798e-01  1.64926648e-01  2.83084363e-01\n",
              "    6.32024109e-02  4.28875685e-02]\n",
              "  [ 1.45265758e-02 -2.77350754e-01  1.65196568e-01 -8.92930031e-02\n",
              "   -2.17450321e-01  8.51343870e-02  2.41715819e-01 -1.10572889e-01\n",
              "    1.44080281e-01  1.09419465e-01]\n",
              "  [ 1.94929332e-01 -1.24947250e-01 -6.82864934e-02 -7.01588690e-02\n",
              "    2.81015307e-01  2.23383814e-01  1.65385902e-02 -2.64388621e-01\n",
              "    2.66030937e-01 -1.32164747e-01]\n",
              "  [-2.55211562e-01  3.37525308e-02  1.93070471e-02 -9.73235220e-02\n",
              "   -1.65434182e-01 -4.86554205e-02  1.89784855e-01 -1.36843860e-01\n",
              "   -1.32554218e-01  1.04334235e-01]\n",
              "  [ 1.20191902e-01 -1.66012675e-01 -2.29217872e-01 -2.63765514e-01\n",
              "    1.84516311e-02  1.75589293e-01 -1.82296678e-01 -2.78596967e-01\n",
              "    1.53029710e-01  4.32834327e-02]\n",
              "  [ 2.44947106e-01  6.05393350e-02 -3.90350670e-02 -1.47885472e-01\n",
              "   -1.80930749e-01 -4.10388708e-02  1.09192431e-01  2.12941587e-01\n",
              "    1.46375477e-01 -1.18843079e-01]\n",
              "  [ 1.64292008e-01  2.81099349e-01  2.30116397e-01 -2.56281763e-01\n",
              "    2.83111602e-01 -2.68663257e-01  1.32405192e-01 -9.83776450e-02\n",
              "    8.84432197e-02  7.18210638e-02]\n",
              "  [-2.67056048e-01  7.28428066e-02  2.02658862e-01 -9.74415839e-02\n",
              "    2.76127726e-01  2.01498210e-01 -1.84611022e-01  1.55684084e-01\n",
              "    2.20643491e-01  1.84981495e-01]\n",
              "  [ 3.74929011e-02  7.32019246e-02 -8.94805789e-03 -2.33386666e-01\n",
              "   -1.14612773e-01  2.77773649e-01 -2.33018979e-01  3.06178927e-02\n",
              "   -2.00622246e-01 -2.08181888e-01]\n",
              "  [ 2.84451455e-01 -5.80608845e-03  1.11062914e-01 -3.97427976e-02\n",
              "   -2.38334283e-01  1.08433634e-01 -2.05003321e-01 -2.22857475e-01\n",
              "   -2.60703444e-01 -2.16487795e-01]\n",
              "  [ 1.08254224e-01 -1.61466599e-02 -1.37949631e-01 -5.67716360e-03\n",
              "    2.37670213e-01 -3.63438725e-02 -1.10447779e-01 -1.55450210e-01\n",
              "    2.07907498e-01 -4.08840925e-02]\n",
              "  [ 1.61708653e-01 -1.81777179e-02 -2.23157555e-01 -2.54483342e-01\n",
              "    1.45464629e-01  2.57369071e-01  1.00953907e-01  7.16414452e-02\n",
              "   -3.24380398e-03 -1.63688555e-01]\n",
              "  [-8.85069370e-04 -1.53301939e-01 -1.79705769e-01 -1.09466910e-02\n",
              "   -1.14244133e-01 -3.87890339e-02  1.70044541e-01 -7.01501817e-02\n",
              "   -6.02907240e-02 -4.57851291e-02]\n",
              "  [-1.10940650e-01 -1.70860767e-01 -1.04371905e-01 -1.62880197e-01\n",
              "    2.15296239e-01 -1.87700242e-01 -1.58541143e-01 -5.72809279e-02\n",
              "    1.21264160e-02  1.89389378e-01]\n",
              "  [-1.07706547e-01  1.36483371e-01 -4.49935496e-02  1.93351001e-01\n",
              "    7.30079114e-02  1.46775961e-01  2.43293017e-01 -7.23188967e-02\n",
              "   -7.08776861e-02 -1.83577538e-01]\n",
              "  [-2.30677485e-01  2.02365905e-01  4.65725064e-02  2.62931317e-01\n",
              "   -1.41170159e-01 -2.01809347e-01 -5.82448095e-02 -1.06109872e-01\n",
              "    2.43740678e-02 -2.54027873e-01]\n",
              "  [ 1.25145286e-01 -8.58211517e-03  4.82569039e-02  1.22084767e-01\n",
              "    1.10441536e-01  2.64683813e-01  9.94342566e-03 -2.30451480e-01\n",
              "   -2.04633474e-01 -1.24042228e-01]\n",
              "  [-1.83971226e-01 -2.21276745e-01  9.41332281e-02  8.58851671e-02\n",
              "    1.88098073e-01  1.22275412e-01  6.28836155e-02 -1.79012612e-01\n",
              "    1.71129346e-01 -1.36434764e-01]\n",
              "  [ 1.09862089e-02 -1.62367702e-01  2.49607861e-02  2.30372041e-01\n",
              "   -1.57431960e-02 -1.55564338e-01  1.04084343e-01  2.26924151e-01\n",
              "    2.49415725e-01  1.48453563e-01]\n",
              "  [-1.88509613e-01 -9.22518075e-02  1.47871554e-01 -1.65193111e-01\n",
              "   -1.00416347e-01 -1.62083253e-01 -1.52434319e-01  1.85348779e-01\n",
              "   -2.03150779e-01 -5.00918776e-02]\n",
              "  [ 2.22448260e-01 -7.05081224e-03 -6.95246458e-02 -1.16761863e-01\n",
              "    2.22009450e-01 -5.64749539e-02 -2.49930963e-01 -2.78692365e-01\n",
              "   -3.83277237e-02 -1.34518117e-01]\n",
              "  [ 1.61406726e-01 -2.30279714e-01 -1.84869528e-01  1.23871863e-02\n",
              "   -2.81086266e-01 -4.60432470e-02  9.68768895e-02 -3.82957458e-02\n",
              "    3.22986245e-02  1.73715085e-01]]>,\n",
              " <Variable path=sequential_5/dense_11/bias, shape=(10,), dtype=float32, value=[0. 0. 0. 0. 0. 0. 0. 0. 0. 0.]>]"
            ]
          },
          "metadata": {},
          "execution_count": 8
        }
      ]
    },
    {
      "cell_type": "code",
      "source": [
        "model.summary()\n"
      ],
      "metadata": {
        "colab": {
          "base_uri": "https://localhost:8080/",
          "height": 199
        },
        "id": "wTaHaXojF4oB",
        "outputId": "f74179ef-1696-4b0f-fe83-44afaaf644f7"
      },
      "execution_count": 9,
      "outputs": [
        {
          "output_type": "display_data",
          "data": {
            "text/plain": [
              "\u001b[1mModel: \"sequential_5\"\u001b[0m\n"
            ],
            "text/html": [
              "<pre style=\"white-space:pre;overflow-x:auto;line-height:normal;font-family:Menlo,'DejaVu Sans Mono',consolas,'Courier New',monospace\"><span style=\"font-weight: bold\">Model: \"sequential_5\"</span>\n",
              "</pre>\n"
            ]
          },
          "metadata": {}
        },
        {
          "output_type": "display_data",
          "data": {
            "text/plain": [
              "┏━━━━━━━━━━━━━━━━━━━━━━━━━━━━━━━━━━━━━━┳━━━━━━━━━━━━━━━━━━━━━━━━━━━━━┳━━━━━━━━━━━━━━━━━┓\n",
              "┃\u001b[1m \u001b[0m\u001b[1mLayer (type)                        \u001b[0m\u001b[1m \u001b[0m┃\u001b[1m \u001b[0m\u001b[1mOutput Shape               \u001b[0m\u001b[1m \u001b[0m┃\u001b[1m \u001b[0m\u001b[1m        Param #\u001b[0m\u001b[1m \u001b[0m┃\n",
              "┡━━━━━━━━━━━━━━━━━━━━━━━━━━━━━━━━━━━━━━╇━━━━━━━━━━━━━━━━━━━━━━━━━━━━━╇━━━━━━━━━━━━━━━━━┩\n",
              "│ dense_10 (\u001b[38;5;33mDense\u001b[0m)                     │ (\u001b[38;5;45mNone\u001b[0m, \u001b[38;5;34m64\u001b[0m)                  │             \u001b[38;5;34m256\u001b[0m │\n",
              "├──────────────────────────────────────┼─────────────────────────────┼─────────────────┤\n",
              "│ dense_11 (\u001b[38;5;33mDense\u001b[0m)                     │ (\u001b[38;5;45mNone\u001b[0m, \u001b[38;5;34m10\u001b[0m)                  │             \u001b[38;5;34m650\u001b[0m │\n",
              "└──────────────────────────────────────┴─────────────────────────────┴─────────────────┘\n"
            ],
            "text/html": [
              "<pre style=\"white-space:pre;overflow-x:auto;line-height:normal;font-family:Menlo,'DejaVu Sans Mono',consolas,'Courier New',monospace\">┏━━━━━━━━━━━━━━━━━━━━━━━━━━━━━━━━━━━━━━┳━━━━━━━━━━━━━━━━━━━━━━━━━━━━━┳━━━━━━━━━━━━━━━━━┓\n",
              "┃<span style=\"font-weight: bold\"> Layer (type)                         </span>┃<span style=\"font-weight: bold\"> Output Shape                </span>┃<span style=\"font-weight: bold\">         Param # </span>┃\n",
              "┡━━━━━━━━━━━━━━━━━━━━━━━━━━━━━━━━━━━━━━╇━━━━━━━━━━━━━━━━━━━━━━━━━━━━━╇━━━━━━━━━━━━━━━━━┩\n",
              "│ dense_10 (<span style=\"color: #0087ff; text-decoration-color: #0087ff\">Dense</span>)                     │ (<span style=\"color: #00d7ff; text-decoration-color: #00d7ff\">None</span>, <span style=\"color: #00af00; text-decoration-color: #00af00\">64</span>)                  │             <span style=\"color: #00af00; text-decoration-color: #00af00\">256</span> │\n",
              "├──────────────────────────────────────┼─────────────────────────────┼─────────────────┤\n",
              "│ dense_11 (<span style=\"color: #0087ff; text-decoration-color: #0087ff\">Dense</span>)                     │ (<span style=\"color: #00d7ff; text-decoration-color: #00d7ff\">None</span>, <span style=\"color: #00af00; text-decoration-color: #00af00\">10</span>)                  │             <span style=\"color: #00af00; text-decoration-color: #00af00\">650</span> │\n",
              "└──────────────────────────────────────┴─────────────────────────────┴─────────────────┘\n",
              "</pre>\n"
            ]
          },
          "metadata": {}
        },
        {
          "output_type": "display_data",
          "data": {
            "text/plain": [
              "\u001b[1m Total params: \u001b[0m\u001b[38;5;34m906\u001b[0m (3.54 KB)\n"
            ],
            "text/html": [
              "<pre style=\"white-space:pre;overflow-x:auto;line-height:normal;font-family:Menlo,'DejaVu Sans Mono',consolas,'Courier New',monospace\"><span style=\"font-weight: bold\"> Total params: </span><span style=\"color: #00af00; text-decoration-color: #00af00\">906</span> (3.54 KB)\n",
              "</pre>\n"
            ]
          },
          "metadata": {}
        },
        {
          "output_type": "display_data",
          "data": {
            "text/plain": [
              "\u001b[1m Trainable params: \u001b[0m\u001b[38;5;34m906\u001b[0m (3.54 KB)\n"
            ],
            "text/html": [
              "<pre style=\"white-space:pre;overflow-x:auto;line-height:normal;font-family:Menlo,'DejaVu Sans Mono',consolas,'Courier New',monospace\"><span style=\"font-weight: bold\"> Trainable params: </span><span style=\"color: #00af00; text-decoration-color: #00af00\">906</span> (3.54 KB)\n",
              "</pre>\n"
            ]
          },
          "metadata": {}
        },
        {
          "output_type": "display_data",
          "data": {
            "text/plain": [
              "\u001b[1m Non-trainable params: \u001b[0m\u001b[38;5;34m0\u001b[0m (0.00 B)\n"
            ],
            "text/html": [
              "<pre style=\"white-space:pre;overflow-x:auto;line-height:normal;font-family:Menlo,'DejaVu Sans Mono',consolas,'Courier New',monospace\"><span style=\"font-weight: bold\"> Non-trainable params: </span><span style=\"color: #00af00; text-decoration-color: #00af00\">0</span> (0.00 B)\n",
              "</pre>\n"
            ]
          },
          "metadata": {}
        }
      ]
    },
    {
      "cell_type": "code",
      "source": [
        "model = keras.Sequential(name=\"my_example_model\")\n",
        "model.add(layers.Dense(64, activation=\"relu\", name=\"my_first_layer\"))\n",
        "model.add(layers.Dense(10, activation=\"softmax\", name=\"my_last_layer\"))\n",
        "model.build((None, 3))\n",
        "model.summary()"
      ],
      "metadata": {
        "colab": {
          "base_uri": "https://localhost:8080/",
          "height": 199
        },
        "id": "67CDV-KGG9aE",
        "outputId": "9357454f-d855-4bbf-b26b-66918cd912d3"
      },
      "execution_count": 10,
      "outputs": [
        {
          "output_type": "display_data",
          "data": {
            "text/plain": [
              "\u001b[1mModel: \"my_example_model\"\u001b[0m\n"
            ],
            "text/html": [
              "<pre style=\"white-space:pre;overflow-x:auto;line-height:normal;font-family:Menlo,'DejaVu Sans Mono',consolas,'Courier New',monospace\"><span style=\"font-weight: bold\">Model: \"my_example_model\"</span>\n",
              "</pre>\n"
            ]
          },
          "metadata": {}
        },
        {
          "output_type": "display_data",
          "data": {
            "text/plain": [
              "┏━━━━━━━━━━━━━━━━━━━━━━━━━━━━━━━━━━━━━━┳━━━━━━━━━━━━━━━━━━━━━━━━━━━━━┳━━━━━━━━━━━━━━━━━┓\n",
              "┃\u001b[1m \u001b[0m\u001b[1mLayer (type)                        \u001b[0m\u001b[1m \u001b[0m┃\u001b[1m \u001b[0m\u001b[1mOutput Shape               \u001b[0m\u001b[1m \u001b[0m┃\u001b[1m \u001b[0m\u001b[1m        Param #\u001b[0m\u001b[1m \u001b[0m┃\n",
              "┡━━━━━━━━━━━━━━━━━━━━━━━━━━━━━━━━━━━━━━╇━━━━━━━━━━━━━━━━━━━━━━━━━━━━━╇━━━━━━━━━━━━━━━━━┩\n",
              "│ my_first_layer (\u001b[38;5;33mDense\u001b[0m)               │ (\u001b[38;5;45mNone\u001b[0m, \u001b[38;5;34m64\u001b[0m)                  │             \u001b[38;5;34m256\u001b[0m │\n",
              "├──────────────────────────────────────┼─────────────────────────────┼─────────────────┤\n",
              "│ my_last_layer (\u001b[38;5;33mDense\u001b[0m)                │ (\u001b[38;5;45mNone\u001b[0m, \u001b[38;5;34m10\u001b[0m)                  │             \u001b[38;5;34m650\u001b[0m │\n",
              "└──────────────────────────────────────┴─────────────────────────────┴─────────────────┘\n"
            ],
            "text/html": [
              "<pre style=\"white-space:pre;overflow-x:auto;line-height:normal;font-family:Menlo,'DejaVu Sans Mono',consolas,'Courier New',monospace\">┏━━━━━━━━━━━━━━━━━━━━━━━━━━━━━━━━━━━━━━┳━━━━━━━━━━━━━━━━━━━━━━━━━━━━━┳━━━━━━━━━━━━━━━━━┓\n",
              "┃<span style=\"font-weight: bold\"> Layer (type)                         </span>┃<span style=\"font-weight: bold\"> Output Shape                </span>┃<span style=\"font-weight: bold\">         Param # </span>┃\n",
              "┡━━━━━━━━━━━━━━━━━━━━━━━━━━━━━━━━━━━━━━╇━━━━━━━━━━━━━━━━━━━━━━━━━━━━━╇━━━━━━━━━━━━━━━━━┩\n",
              "│ my_first_layer (<span style=\"color: #0087ff; text-decoration-color: #0087ff\">Dense</span>)               │ (<span style=\"color: #00d7ff; text-decoration-color: #00d7ff\">None</span>, <span style=\"color: #00af00; text-decoration-color: #00af00\">64</span>)                  │             <span style=\"color: #00af00; text-decoration-color: #00af00\">256</span> │\n",
              "├──────────────────────────────────────┼─────────────────────────────┼─────────────────┤\n",
              "│ my_last_layer (<span style=\"color: #0087ff; text-decoration-color: #0087ff\">Dense</span>)                │ (<span style=\"color: #00d7ff; text-decoration-color: #00d7ff\">None</span>, <span style=\"color: #00af00; text-decoration-color: #00af00\">10</span>)                  │             <span style=\"color: #00af00; text-decoration-color: #00af00\">650</span> │\n",
              "└──────────────────────────────────────┴─────────────────────────────┴─────────────────┘\n",
              "</pre>\n"
            ]
          },
          "metadata": {}
        },
        {
          "output_type": "display_data",
          "data": {
            "text/plain": [
              "\u001b[1m Total params: \u001b[0m\u001b[38;5;34m906\u001b[0m (3.54 KB)\n"
            ],
            "text/html": [
              "<pre style=\"white-space:pre;overflow-x:auto;line-height:normal;font-family:Menlo,'DejaVu Sans Mono',consolas,'Courier New',monospace\"><span style=\"font-weight: bold\"> Total params: </span><span style=\"color: #00af00; text-decoration-color: #00af00\">906</span> (3.54 KB)\n",
              "</pre>\n"
            ]
          },
          "metadata": {}
        },
        {
          "output_type": "display_data",
          "data": {
            "text/plain": [
              "\u001b[1m Trainable params: \u001b[0m\u001b[38;5;34m906\u001b[0m (3.54 KB)\n"
            ],
            "text/html": [
              "<pre style=\"white-space:pre;overflow-x:auto;line-height:normal;font-family:Menlo,'DejaVu Sans Mono',consolas,'Courier New',monospace\"><span style=\"font-weight: bold\"> Trainable params: </span><span style=\"color: #00af00; text-decoration-color: #00af00\">906</span> (3.54 KB)\n",
              "</pre>\n"
            ]
          },
          "metadata": {}
        },
        {
          "output_type": "display_data",
          "data": {
            "text/plain": [
              "\u001b[1m Non-trainable params: \u001b[0m\u001b[38;5;34m0\u001b[0m (0.00 B)\n"
            ],
            "text/html": [
              "<pre style=\"white-space:pre;overflow-x:auto;line-height:normal;font-family:Menlo,'DejaVu Sans Mono',consolas,'Courier New',monospace\"><span style=\"font-weight: bold\"> Non-trainable params: </span><span style=\"color: #00af00; text-decoration-color: #00af00\">0</span> (0.00 B)\n",
              "</pre>\n"
            ]
          },
          "metadata": {}
        }
      ]
    },
    {
      "cell_type": "code",
      "source": [
        "model = keras.Sequential()\n",
        "model.add(keras.Input(shape=(3,)))\n",
        "model.add(layers.Dense(64, activation=\"relu\"))\n",
        "model.summary()"
      ],
      "metadata": {
        "colab": {
          "base_uri": "https://localhost:8080/",
          "height": 166
        },
        "id": "GMHHZPqZHZVV",
        "outputId": "6e94106f-1dfa-436d-f7a0-4e758b51f013"
      },
      "execution_count": 11,
      "outputs": [
        {
          "output_type": "display_data",
          "data": {
            "text/plain": [
              "\u001b[1mModel: \"sequential_6\"\u001b[0m\n"
            ],
            "text/html": [
              "<pre style=\"white-space:pre;overflow-x:auto;line-height:normal;font-family:Menlo,'DejaVu Sans Mono',consolas,'Courier New',monospace\"><span style=\"font-weight: bold\">Model: \"sequential_6\"</span>\n",
              "</pre>\n"
            ]
          },
          "metadata": {}
        },
        {
          "output_type": "display_data",
          "data": {
            "text/plain": [
              "┏━━━━━━━━━━━━━━━━━━━━━━━━━━━━━━━━━━━━━━┳━━━━━━━━━━━━━━━━━━━━━━━━━━━━━┳━━━━━━━━━━━━━━━━━┓\n",
              "┃\u001b[1m \u001b[0m\u001b[1mLayer (type)                        \u001b[0m\u001b[1m \u001b[0m┃\u001b[1m \u001b[0m\u001b[1mOutput Shape               \u001b[0m\u001b[1m \u001b[0m┃\u001b[1m \u001b[0m\u001b[1m        Param #\u001b[0m\u001b[1m \u001b[0m┃\n",
              "┡━━━━━━━━━━━━━━━━━━━━━━━━━━━━━━━━━━━━━━╇━━━━━━━━━━━━━━━━━━━━━━━━━━━━━╇━━━━━━━━━━━━━━━━━┩\n",
              "│ dense_12 (\u001b[38;5;33mDense\u001b[0m)                     │ (\u001b[38;5;45mNone\u001b[0m, \u001b[38;5;34m64\u001b[0m)                  │             \u001b[38;5;34m256\u001b[0m │\n",
              "└──────────────────────────────────────┴─────────────────────────────┴─────────────────┘\n"
            ],
            "text/html": [
              "<pre style=\"white-space:pre;overflow-x:auto;line-height:normal;font-family:Menlo,'DejaVu Sans Mono',consolas,'Courier New',monospace\">┏━━━━━━━━━━━━━━━━━━━━━━━━━━━━━━━━━━━━━━┳━━━━━━━━━━━━━━━━━━━━━━━━━━━━━┳━━━━━━━━━━━━━━━━━┓\n",
              "┃<span style=\"font-weight: bold\"> Layer (type)                         </span>┃<span style=\"font-weight: bold\"> Output Shape                </span>┃<span style=\"font-weight: bold\">         Param # </span>┃\n",
              "┡━━━━━━━━━━━━━━━━━━━━━━━━━━━━━━━━━━━━━━╇━━━━━━━━━━━━━━━━━━━━━━━━━━━━━╇━━━━━━━━━━━━━━━━━┩\n",
              "│ dense_12 (<span style=\"color: #0087ff; text-decoration-color: #0087ff\">Dense</span>)                     │ (<span style=\"color: #00d7ff; text-decoration-color: #00d7ff\">None</span>, <span style=\"color: #00af00; text-decoration-color: #00af00\">64</span>)                  │             <span style=\"color: #00af00; text-decoration-color: #00af00\">256</span> │\n",
              "└──────────────────────────────────────┴─────────────────────────────┴─────────────────┘\n",
              "</pre>\n"
            ]
          },
          "metadata": {}
        },
        {
          "output_type": "display_data",
          "data": {
            "text/plain": [
              "\u001b[1m Total params: \u001b[0m\u001b[38;5;34m256\u001b[0m (1.00 KB)\n"
            ],
            "text/html": [
              "<pre style=\"white-space:pre;overflow-x:auto;line-height:normal;font-family:Menlo,'DejaVu Sans Mono',consolas,'Courier New',monospace\"><span style=\"font-weight: bold\"> Total params: </span><span style=\"color: #00af00; text-decoration-color: #00af00\">256</span> (1.00 KB)\n",
              "</pre>\n"
            ]
          },
          "metadata": {}
        },
        {
          "output_type": "display_data",
          "data": {
            "text/plain": [
              "\u001b[1m Trainable params: \u001b[0m\u001b[38;5;34m256\u001b[0m (1.00 KB)\n"
            ],
            "text/html": [
              "<pre style=\"white-space:pre;overflow-x:auto;line-height:normal;font-family:Menlo,'DejaVu Sans Mono',consolas,'Courier New',monospace\"><span style=\"font-weight: bold\"> Trainable params: </span><span style=\"color: #00af00; text-decoration-color: #00af00\">256</span> (1.00 KB)\n",
              "</pre>\n"
            ]
          },
          "metadata": {}
        },
        {
          "output_type": "display_data",
          "data": {
            "text/plain": [
              "\u001b[1m Non-trainable params: \u001b[0m\u001b[38;5;34m0\u001b[0m (0.00 B)\n"
            ],
            "text/html": [
              "<pre style=\"white-space:pre;overflow-x:auto;line-height:normal;font-family:Menlo,'DejaVu Sans Mono',consolas,'Courier New',monospace\"><span style=\"font-weight: bold\"> Non-trainable params: </span><span style=\"color: #00af00; text-decoration-color: #00af00\">0</span> (0.00 B)\n",
              "</pre>\n"
            ]
          },
          "metadata": {}
        }
      ]
    },
    {
      "cell_type": "code",
      "source": [
        " model.add(layers.Dense(10, activation=\"softmax\"))\n",
        " model.summary()\n",
        ""
      ],
      "metadata": {
        "colab": {
          "base_uri": "https://localhost:8080/",
          "height": 199
        },
        "id": "qOBn2SDTIEUA",
        "outputId": "c3f06b2c-b42e-4ede-e848-698c684a8529"
      },
      "execution_count": 12,
      "outputs": [
        {
          "output_type": "display_data",
          "data": {
            "text/plain": [
              "\u001b[1mModel: \"sequential_6\"\u001b[0m\n"
            ],
            "text/html": [
              "<pre style=\"white-space:pre;overflow-x:auto;line-height:normal;font-family:Menlo,'DejaVu Sans Mono',consolas,'Courier New',monospace\"><span style=\"font-weight: bold\">Model: \"sequential_6\"</span>\n",
              "</pre>\n"
            ]
          },
          "metadata": {}
        },
        {
          "output_type": "display_data",
          "data": {
            "text/plain": [
              "┏━━━━━━━━━━━━━━━━━━━━━━━━━━━━━━━━━━━━━━┳━━━━━━━━━━━━━━━━━━━━━━━━━━━━━┳━━━━━━━━━━━━━━━━━┓\n",
              "┃\u001b[1m \u001b[0m\u001b[1mLayer (type)                        \u001b[0m\u001b[1m \u001b[0m┃\u001b[1m \u001b[0m\u001b[1mOutput Shape               \u001b[0m\u001b[1m \u001b[0m┃\u001b[1m \u001b[0m\u001b[1m        Param #\u001b[0m\u001b[1m \u001b[0m┃\n",
              "┡━━━━━━━━━━━━━━━━━━━━━━━━━━━━━━━━━━━━━━╇━━━━━━━━━━━━━━━━━━━━━━━━━━━━━╇━━━━━━━━━━━━━━━━━┩\n",
              "│ dense_12 (\u001b[38;5;33mDense\u001b[0m)                     │ (\u001b[38;5;45mNone\u001b[0m, \u001b[38;5;34m64\u001b[0m)                  │             \u001b[38;5;34m256\u001b[0m │\n",
              "├──────────────────────────────────────┼─────────────────────────────┼─────────────────┤\n",
              "│ dense_13 (\u001b[38;5;33mDense\u001b[0m)                     │ (\u001b[38;5;45mNone\u001b[0m, \u001b[38;5;34m10\u001b[0m)                  │             \u001b[38;5;34m650\u001b[0m │\n",
              "└──────────────────────────────────────┴─────────────────────────────┴─────────────────┘\n"
            ],
            "text/html": [
              "<pre style=\"white-space:pre;overflow-x:auto;line-height:normal;font-family:Menlo,'DejaVu Sans Mono',consolas,'Courier New',monospace\">┏━━━━━━━━━━━━━━━━━━━━━━━━━━━━━━━━━━━━━━┳━━━━━━━━━━━━━━━━━━━━━━━━━━━━━┳━━━━━━━━━━━━━━━━━┓\n",
              "┃<span style=\"font-weight: bold\"> Layer (type)                         </span>┃<span style=\"font-weight: bold\"> Output Shape                </span>┃<span style=\"font-weight: bold\">         Param # </span>┃\n",
              "┡━━━━━━━━━━━━━━━━━━━━━━━━━━━━━━━━━━━━━━╇━━━━━━━━━━━━━━━━━━━━━━━━━━━━━╇━━━━━━━━━━━━━━━━━┩\n",
              "│ dense_12 (<span style=\"color: #0087ff; text-decoration-color: #0087ff\">Dense</span>)                     │ (<span style=\"color: #00d7ff; text-decoration-color: #00d7ff\">None</span>, <span style=\"color: #00af00; text-decoration-color: #00af00\">64</span>)                  │             <span style=\"color: #00af00; text-decoration-color: #00af00\">256</span> │\n",
              "├──────────────────────────────────────┼─────────────────────────────┼─────────────────┤\n",
              "│ dense_13 (<span style=\"color: #0087ff; text-decoration-color: #0087ff\">Dense</span>)                     │ (<span style=\"color: #00d7ff; text-decoration-color: #00d7ff\">None</span>, <span style=\"color: #00af00; text-decoration-color: #00af00\">10</span>)                  │             <span style=\"color: #00af00; text-decoration-color: #00af00\">650</span> │\n",
              "└──────────────────────────────────────┴─────────────────────────────┴─────────────────┘\n",
              "</pre>\n"
            ]
          },
          "metadata": {}
        },
        {
          "output_type": "display_data",
          "data": {
            "text/plain": [
              "\u001b[1m Total params: \u001b[0m\u001b[38;5;34m906\u001b[0m (3.54 KB)\n"
            ],
            "text/html": [
              "<pre style=\"white-space:pre;overflow-x:auto;line-height:normal;font-family:Menlo,'DejaVu Sans Mono',consolas,'Courier New',monospace\"><span style=\"font-weight: bold\"> Total params: </span><span style=\"color: #00af00; text-decoration-color: #00af00\">906</span> (3.54 KB)\n",
              "</pre>\n"
            ]
          },
          "metadata": {}
        },
        {
          "output_type": "display_data",
          "data": {
            "text/plain": [
              "\u001b[1m Trainable params: \u001b[0m\u001b[38;5;34m906\u001b[0m (3.54 KB)\n"
            ],
            "text/html": [
              "<pre style=\"white-space:pre;overflow-x:auto;line-height:normal;font-family:Menlo,'DejaVu Sans Mono',consolas,'Courier New',monospace\"><span style=\"font-weight: bold\"> Trainable params: </span><span style=\"color: #00af00; text-decoration-color: #00af00\">906</span> (3.54 KB)\n",
              "</pre>\n"
            ]
          },
          "metadata": {}
        },
        {
          "output_type": "display_data",
          "data": {
            "text/plain": [
              "\u001b[1m Non-trainable params: \u001b[0m\u001b[38;5;34m0\u001b[0m (0.00 B)\n"
            ],
            "text/html": [
              "<pre style=\"white-space:pre;overflow-x:auto;line-height:normal;font-family:Menlo,'DejaVu Sans Mono',consolas,'Courier New',monospace\"><span style=\"font-weight: bold\"> Non-trainable params: </span><span style=\"color: #00af00; text-decoration-color: #00af00\">0</span> (0.00 B)\n",
              "</pre>\n"
            ]
          },
          "metadata": {}
        }
      ]
    },
    {
      "cell_type": "code",
      "source": [
        "inputs = keras.Input(shape=(3,), name=\"my_input\")\n",
        "features = layers.Dense(64, activation=\"relu\")(inputs)\n",
        "outputs = layers.Dense(10, activation=\"softmax\")(features)\n",
        "model = keras.Model(inputs=inputs, outputs=outputs)\n"
      ],
      "metadata": {
        "id": "gqJSfukhITjr"
      },
      "execution_count": 14,
      "outputs": []
    },
    {
      "cell_type": "code",
      "source": [
        "inputs.shape"
      ],
      "metadata": {
        "colab": {
          "base_uri": "https://localhost:8080/"
        },
        "id": "S_FnCPVVI1hm",
        "outputId": "5ff57c39-d4f4-464d-e634-6997c4ec64a5"
      },
      "execution_count": 15,
      "outputs": [
        {
          "output_type": "execute_result",
          "data": {
            "text/plain": [
              "(None, 3)"
            ]
          },
          "metadata": {},
          "execution_count": 15
        }
      ]
    },
    {
      "cell_type": "code",
      "source": [
        "inputs.dtype"
      ],
      "metadata": {
        "colab": {
          "base_uri": "https://localhost:8080/",
          "height": 35
        },
        "id": "vWzuKBQsJTO_",
        "outputId": "0824adc5-1514-489a-bc77-5af5402cc5ab"
      },
      "execution_count": 16,
      "outputs": [
        {
          "output_type": "execute_result",
          "data": {
            "text/plain": [
              "'float32'"
            ],
            "application/vnd.google.colaboratory.intrinsic+json": {
              "type": "string"
            }
          },
          "metadata": {},
          "execution_count": 16
        }
      ]
    },
    {
      "cell_type": "code",
      "source": [
        "features.shape"
      ],
      "metadata": {
        "colab": {
          "base_uri": "https://localhost:8080/"
        },
        "id": "n__uacBvJX_9",
        "outputId": "59cf8ea3-8272-477f-ca0c-bd6aa9392878"
      },
      "execution_count": 17,
      "outputs": [
        {
          "output_type": "execute_result",
          "data": {
            "text/plain": [
              "(None, 64)"
            ]
          },
          "metadata": {},
          "execution_count": 17
        }
      ]
    },
    {
      "cell_type": "code",
      "source": [
        " model.summary()"
      ],
      "metadata": {
        "colab": {
          "base_uri": "https://localhost:8080/",
          "height": 232
        },
        "id": "ELl-2xjIJfBZ",
        "outputId": "4d8bb803-96ed-45c1-a22c-7a25d7e0cd65"
      },
      "execution_count": 18,
      "outputs": [
        {
          "output_type": "display_data",
          "data": {
            "text/plain": [
              "\u001b[1mModel: \"functional_4\"\u001b[0m\n"
            ],
            "text/html": [
              "<pre style=\"white-space:pre;overflow-x:auto;line-height:normal;font-family:Menlo,'DejaVu Sans Mono',consolas,'Courier New',monospace\"><span style=\"font-weight: bold\">Model: \"functional_4\"</span>\n",
              "</pre>\n"
            ]
          },
          "metadata": {}
        },
        {
          "output_type": "display_data",
          "data": {
            "text/plain": [
              "┏━━━━━━━━━━━━━━━━━━━━━━━━━━━━━━━━━━━━━━┳━━━━━━━━━━━━━━━━━━━━━━━━━━━━━┳━━━━━━━━━━━━━━━━━┓\n",
              "┃\u001b[1m \u001b[0m\u001b[1mLayer (type)                        \u001b[0m\u001b[1m \u001b[0m┃\u001b[1m \u001b[0m\u001b[1mOutput Shape               \u001b[0m\u001b[1m \u001b[0m┃\u001b[1m \u001b[0m\u001b[1m        Param #\u001b[0m\u001b[1m \u001b[0m┃\n",
              "┡━━━━━━━━━━━━━━━━━━━━━━━━━━━━━━━━━━━━━━╇━━━━━━━━━━━━━━━━━━━━━━━━━━━━━╇━━━━━━━━━━━━━━━━━┩\n",
              "│ my_input (\u001b[38;5;33mInputLayer\u001b[0m)                │ (\u001b[38;5;45mNone\u001b[0m, \u001b[38;5;34m3\u001b[0m)                   │               \u001b[38;5;34m0\u001b[0m │\n",
              "├──────────────────────────────────────┼─────────────────────────────┼─────────────────┤\n",
              "│ dense_14 (\u001b[38;5;33mDense\u001b[0m)                     │ (\u001b[38;5;45mNone\u001b[0m, \u001b[38;5;34m64\u001b[0m)                  │             \u001b[38;5;34m256\u001b[0m │\n",
              "├──────────────────────────────────────┼─────────────────────────────┼─────────────────┤\n",
              "│ dense_15 (\u001b[38;5;33mDense\u001b[0m)                     │ (\u001b[38;5;45mNone\u001b[0m, \u001b[38;5;34m10\u001b[0m)                  │             \u001b[38;5;34m650\u001b[0m │\n",
              "└──────────────────────────────────────┴─────────────────────────────┴─────────────────┘\n"
            ],
            "text/html": [
              "<pre style=\"white-space:pre;overflow-x:auto;line-height:normal;font-family:Menlo,'DejaVu Sans Mono',consolas,'Courier New',monospace\">┏━━━━━━━━━━━━━━━━━━━━━━━━━━━━━━━━━━━━━━┳━━━━━━━━━━━━━━━━━━━━━━━━━━━━━┳━━━━━━━━━━━━━━━━━┓\n",
              "┃<span style=\"font-weight: bold\"> Layer (type)                         </span>┃<span style=\"font-weight: bold\"> Output Shape                </span>┃<span style=\"font-weight: bold\">         Param # </span>┃\n",
              "┡━━━━━━━━━━━━━━━━━━━━━━━━━━━━━━━━━━━━━━╇━━━━━━━━━━━━━━━━━━━━━━━━━━━━━╇━━━━━━━━━━━━━━━━━┩\n",
              "│ my_input (<span style=\"color: #0087ff; text-decoration-color: #0087ff\">InputLayer</span>)                │ (<span style=\"color: #00d7ff; text-decoration-color: #00d7ff\">None</span>, <span style=\"color: #00af00; text-decoration-color: #00af00\">3</span>)                   │               <span style=\"color: #00af00; text-decoration-color: #00af00\">0</span> │\n",
              "├──────────────────────────────────────┼─────────────────────────────┼─────────────────┤\n",
              "│ dense_14 (<span style=\"color: #0087ff; text-decoration-color: #0087ff\">Dense</span>)                     │ (<span style=\"color: #00d7ff; text-decoration-color: #00d7ff\">None</span>, <span style=\"color: #00af00; text-decoration-color: #00af00\">64</span>)                  │             <span style=\"color: #00af00; text-decoration-color: #00af00\">256</span> │\n",
              "├──────────────────────────────────────┼─────────────────────────────┼─────────────────┤\n",
              "│ dense_15 (<span style=\"color: #0087ff; text-decoration-color: #0087ff\">Dense</span>)                     │ (<span style=\"color: #00d7ff; text-decoration-color: #00d7ff\">None</span>, <span style=\"color: #00af00; text-decoration-color: #00af00\">10</span>)                  │             <span style=\"color: #00af00; text-decoration-color: #00af00\">650</span> │\n",
              "└──────────────────────────────────────┴─────────────────────────────┴─────────────────┘\n",
              "</pre>\n"
            ]
          },
          "metadata": {}
        },
        {
          "output_type": "display_data",
          "data": {
            "text/plain": [
              "\u001b[1m Total params: \u001b[0m\u001b[38;5;34m906\u001b[0m (3.54 KB)\n"
            ],
            "text/html": [
              "<pre style=\"white-space:pre;overflow-x:auto;line-height:normal;font-family:Menlo,'DejaVu Sans Mono',consolas,'Courier New',monospace\"><span style=\"font-weight: bold\"> Total params: </span><span style=\"color: #00af00; text-decoration-color: #00af00\">906</span> (3.54 KB)\n",
              "</pre>\n"
            ]
          },
          "metadata": {}
        },
        {
          "output_type": "display_data",
          "data": {
            "text/plain": [
              "\u001b[1m Trainable params: \u001b[0m\u001b[38;5;34m906\u001b[0m (3.54 KB)\n"
            ],
            "text/html": [
              "<pre style=\"white-space:pre;overflow-x:auto;line-height:normal;font-family:Menlo,'DejaVu Sans Mono',consolas,'Courier New',monospace\"><span style=\"font-weight: bold\"> Trainable params: </span><span style=\"color: #00af00; text-decoration-color: #00af00\">906</span> (3.54 KB)\n",
              "</pre>\n"
            ]
          },
          "metadata": {}
        },
        {
          "output_type": "display_data",
          "data": {
            "text/plain": [
              "\u001b[1m Non-trainable params: \u001b[0m\u001b[38;5;34m0\u001b[0m (0.00 B)\n"
            ],
            "text/html": [
              "<pre style=\"white-space:pre;overflow-x:auto;line-height:normal;font-family:Menlo,'DejaVu Sans Mono',consolas,'Courier New',monospace\"><span style=\"font-weight: bold\"> Non-trainable params: </span><span style=\"color: #00af00; text-decoration-color: #00af00\">0</span> (0.00 B)\n",
              "</pre>\n"
            ]
          },
          "metadata": {}
        }
      ]
    },
    {
      "cell_type": "code",
      "source": [
        "vocabulary_size = 10000\n",
        "num_tags = 100\n",
        "num_departments = 4\n",
        "\n",
        "title = keras.Input(shape=(vocabulary_size,), name=\"title\")\n",
        "text_body = keras.Input(shape=(vocabulary_size,), name=\"text_body\")\n",
        "tags = keras.Input(shape=(num_tags,), name=\"tags\")\n",
        "\n",
        "features = layers.Concatenate()([title, text_body, tags])\n",
        "features = layers.Dense(64, activation=\"relu\")(features)\n",
        "\n",
        "priority = layers.Dense(1, activation=\"sigmoid\", name=\"priority\")(features)\n",
        "department = layers.Dense(\n",
        "    num_departments, activation=\"softmax\", name=\"department\")(features)\n",
        "\n",
        "model = keras.Model(inputs=[title, text_body, tags],\n",
        "                    outputs=[priority, department])\n",
        "\n",
        "model.summary()\n"
      ],
      "metadata": {
        "colab": {
          "base_uri": "https://localhost:8080/",
          "height": 397
        },
        "id": "fkWw4puiJjjX",
        "outputId": "b22cbbbf-e554-4a68-d89a-e0f68aa658d2"
      },
      "execution_count": 19,
      "outputs": [
        {
          "output_type": "display_data",
          "data": {
            "text/plain": [
              "\u001b[1mModel: \"functional_5\"\u001b[0m\n"
            ],
            "text/html": [
              "<pre style=\"white-space:pre;overflow-x:auto;line-height:normal;font-family:Menlo,'DejaVu Sans Mono',consolas,'Courier New',monospace\"><span style=\"font-weight: bold\">Model: \"functional_5\"</span>\n",
              "</pre>\n"
            ]
          },
          "metadata": {}
        },
        {
          "output_type": "display_data",
          "data": {
            "text/plain": [
              "┏━━━━━━━━━━━━━━━━━━━━━━━━━━━┳━━━━━━━━━━━━━━━━━━━━━━━━┳━━━━━━━━━━━━━━━━┳━━━━━━━━━━━━━━━━━━━━━━━━┓\n",
              "┃\u001b[1m \u001b[0m\u001b[1mLayer (type)             \u001b[0m\u001b[1m \u001b[0m┃\u001b[1m \u001b[0m\u001b[1mOutput Shape          \u001b[0m\u001b[1m \u001b[0m┃\u001b[1m \u001b[0m\u001b[1m       Param #\u001b[0m\u001b[1m \u001b[0m┃\u001b[1m \u001b[0m\u001b[1mConnected to          \u001b[0m\u001b[1m \u001b[0m┃\n",
              "┡━━━━━━━━━━━━━━━━━━━━━━━━━━━╇━━━━━━━━━━━━━━━━━━━━━━━━╇━━━━━━━━━━━━━━━━╇━━━━━━━━━━━━━━━━━━━━━━━━┩\n",
              "│ title (\u001b[38;5;33mInputLayer\u001b[0m)        │ (\u001b[38;5;45mNone\u001b[0m, \u001b[38;5;34m10000\u001b[0m)          │              \u001b[38;5;34m0\u001b[0m │ -                      │\n",
              "├───────────────────────────┼────────────────────────┼────────────────┼────────────────────────┤\n",
              "│ text_body (\u001b[38;5;33mInputLayer\u001b[0m)    │ (\u001b[38;5;45mNone\u001b[0m, \u001b[38;5;34m10000\u001b[0m)          │              \u001b[38;5;34m0\u001b[0m │ -                      │\n",
              "├───────────────────────────┼────────────────────────┼────────────────┼────────────────────────┤\n",
              "│ tags (\u001b[38;5;33mInputLayer\u001b[0m)         │ (\u001b[38;5;45mNone\u001b[0m, \u001b[38;5;34m100\u001b[0m)            │              \u001b[38;5;34m0\u001b[0m │ -                      │\n",
              "├───────────────────────────┼────────────────────────┼────────────────┼────────────────────────┤\n",
              "│ concatenate (\u001b[38;5;33mConcatenate\u001b[0m) │ (\u001b[38;5;45mNone\u001b[0m, \u001b[38;5;34m20100\u001b[0m)          │              \u001b[38;5;34m0\u001b[0m │ title[\u001b[38;5;34m0\u001b[0m][\u001b[38;5;34m0\u001b[0m],           │\n",
              "│                           │                        │                │ text_body[\u001b[38;5;34m0\u001b[0m][\u001b[38;5;34m0\u001b[0m],       │\n",
              "│                           │                        │                │ tags[\u001b[38;5;34m0\u001b[0m][\u001b[38;5;34m0\u001b[0m]             │\n",
              "├───────────────────────────┼────────────────────────┼────────────────┼────────────────────────┤\n",
              "│ dense_16 (\u001b[38;5;33mDense\u001b[0m)          │ (\u001b[38;5;45mNone\u001b[0m, \u001b[38;5;34m64\u001b[0m)             │      \u001b[38;5;34m1,286,464\u001b[0m │ concatenate[\u001b[38;5;34m0\u001b[0m][\u001b[38;5;34m0\u001b[0m]      │\n",
              "├───────────────────────────┼────────────────────────┼────────────────┼────────────────────────┤\n",
              "│ priority (\u001b[38;5;33mDense\u001b[0m)          │ (\u001b[38;5;45mNone\u001b[0m, \u001b[38;5;34m1\u001b[0m)              │             \u001b[38;5;34m65\u001b[0m │ dense_16[\u001b[38;5;34m0\u001b[0m][\u001b[38;5;34m0\u001b[0m]         │\n",
              "├───────────────────────────┼────────────────────────┼────────────────┼────────────────────────┤\n",
              "│ department (\u001b[38;5;33mDense\u001b[0m)        │ (\u001b[38;5;45mNone\u001b[0m, \u001b[38;5;34m4\u001b[0m)              │            \u001b[38;5;34m260\u001b[0m │ dense_16[\u001b[38;5;34m0\u001b[0m][\u001b[38;5;34m0\u001b[0m]         │\n",
              "└───────────────────────────┴────────────────────────┴────────────────┴────────────────────────┘\n"
            ],
            "text/html": [
              "<pre style=\"white-space:pre;overflow-x:auto;line-height:normal;font-family:Menlo,'DejaVu Sans Mono',consolas,'Courier New',monospace\">┏━━━━━━━━━━━━━━━━━━━━━━━━━━━┳━━━━━━━━━━━━━━━━━━━━━━━━┳━━━━━━━━━━━━━━━━┳━━━━━━━━━━━━━━━━━━━━━━━━┓\n",
              "┃<span style=\"font-weight: bold\"> Layer (type)              </span>┃<span style=\"font-weight: bold\"> Output Shape           </span>┃<span style=\"font-weight: bold\">        Param # </span>┃<span style=\"font-weight: bold\"> Connected to           </span>┃\n",
              "┡━━━━━━━━━━━━━━━━━━━━━━━━━━━╇━━━━━━━━━━━━━━━━━━━━━━━━╇━━━━━━━━━━━━━━━━╇━━━━━━━━━━━━━━━━━━━━━━━━┩\n",
              "│ title (<span style=\"color: #0087ff; text-decoration-color: #0087ff\">InputLayer</span>)        │ (<span style=\"color: #00d7ff; text-decoration-color: #00d7ff\">None</span>, <span style=\"color: #00af00; text-decoration-color: #00af00\">10000</span>)          │              <span style=\"color: #00af00; text-decoration-color: #00af00\">0</span> │ -                      │\n",
              "├───────────────────────────┼────────────────────────┼────────────────┼────────────────────────┤\n",
              "│ text_body (<span style=\"color: #0087ff; text-decoration-color: #0087ff\">InputLayer</span>)    │ (<span style=\"color: #00d7ff; text-decoration-color: #00d7ff\">None</span>, <span style=\"color: #00af00; text-decoration-color: #00af00\">10000</span>)          │              <span style=\"color: #00af00; text-decoration-color: #00af00\">0</span> │ -                      │\n",
              "├───────────────────────────┼────────────────────────┼────────────────┼────────────────────────┤\n",
              "│ tags (<span style=\"color: #0087ff; text-decoration-color: #0087ff\">InputLayer</span>)         │ (<span style=\"color: #00d7ff; text-decoration-color: #00d7ff\">None</span>, <span style=\"color: #00af00; text-decoration-color: #00af00\">100</span>)            │              <span style=\"color: #00af00; text-decoration-color: #00af00\">0</span> │ -                      │\n",
              "├───────────────────────────┼────────────────────────┼────────────────┼────────────────────────┤\n",
              "│ concatenate (<span style=\"color: #0087ff; text-decoration-color: #0087ff\">Concatenate</span>) │ (<span style=\"color: #00d7ff; text-decoration-color: #00d7ff\">None</span>, <span style=\"color: #00af00; text-decoration-color: #00af00\">20100</span>)          │              <span style=\"color: #00af00; text-decoration-color: #00af00\">0</span> │ title[<span style=\"color: #00af00; text-decoration-color: #00af00\">0</span>][<span style=\"color: #00af00; text-decoration-color: #00af00\">0</span>],           │\n",
              "│                           │                        │                │ text_body[<span style=\"color: #00af00; text-decoration-color: #00af00\">0</span>][<span style=\"color: #00af00; text-decoration-color: #00af00\">0</span>],       │\n",
              "│                           │                        │                │ tags[<span style=\"color: #00af00; text-decoration-color: #00af00\">0</span>][<span style=\"color: #00af00; text-decoration-color: #00af00\">0</span>]             │\n",
              "├───────────────────────────┼────────────────────────┼────────────────┼────────────────────────┤\n",
              "│ dense_16 (<span style=\"color: #0087ff; text-decoration-color: #0087ff\">Dense</span>)          │ (<span style=\"color: #00d7ff; text-decoration-color: #00d7ff\">None</span>, <span style=\"color: #00af00; text-decoration-color: #00af00\">64</span>)             │      <span style=\"color: #00af00; text-decoration-color: #00af00\">1,286,464</span> │ concatenate[<span style=\"color: #00af00; text-decoration-color: #00af00\">0</span>][<span style=\"color: #00af00; text-decoration-color: #00af00\">0</span>]      │\n",
              "├───────────────────────────┼────────────────────────┼────────────────┼────────────────────────┤\n",
              "│ priority (<span style=\"color: #0087ff; text-decoration-color: #0087ff\">Dense</span>)          │ (<span style=\"color: #00d7ff; text-decoration-color: #00d7ff\">None</span>, <span style=\"color: #00af00; text-decoration-color: #00af00\">1</span>)              │             <span style=\"color: #00af00; text-decoration-color: #00af00\">65</span> │ dense_16[<span style=\"color: #00af00; text-decoration-color: #00af00\">0</span>][<span style=\"color: #00af00; text-decoration-color: #00af00\">0</span>]         │\n",
              "├───────────────────────────┼────────────────────────┼────────────────┼────────────────────────┤\n",
              "│ department (<span style=\"color: #0087ff; text-decoration-color: #0087ff\">Dense</span>)        │ (<span style=\"color: #00d7ff; text-decoration-color: #00d7ff\">None</span>, <span style=\"color: #00af00; text-decoration-color: #00af00\">4</span>)              │            <span style=\"color: #00af00; text-decoration-color: #00af00\">260</span> │ dense_16[<span style=\"color: #00af00; text-decoration-color: #00af00\">0</span>][<span style=\"color: #00af00; text-decoration-color: #00af00\">0</span>]         │\n",
              "└───────────────────────────┴────────────────────────┴────────────────┴────────────────────────┘\n",
              "</pre>\n"
            ]
          },
          "metadata": {}
        },
        {
          "output_type": "display_data",
          "data": {
            "text/plain": [
              "\u001b[1m Total params: \u001b[0m\u001b[38;5;34m1,286,789\u001b[0m (4.91 MB)\n"
            ],
            "text/html": [
              "<pre style=\"white-space:pre;overflow-x:auto;line-height:normal;font-family:Menlo,'DejaVu Sans Mono',consolas,'Courier New',monospace\"><span style=\"font-weight: bold\"> Total params: </span><span style=\"color: #00af00; text-decoration-color: #00af00\">1,286,789</span> (4.91 MB)\n",
              "</pre>\n"
            ]
          },
          "metadata": {}
        },
        {
          "output_type": "display_data",
          "data": {
            "text/plain": [
              "\u001b[1m Trainable params: \u001b[0m\u001b[38;5;34m1,286,789\u001b[0m (4.91 MB)\n"
            ],
            "text/html": [
              "<pre style=\"white-space:pre;overflow-x:auto;line-height:normal;font-family:Menlo,'DejaVu Sans Mono',consolas,'Courier New',monospace\"><span style=\"font-weight: bold\"> Trainable params: </span><span style=\"color: #00af00; text-decoration-color: #00af00\">1,286,789</span> (4.91 MB)\n",
              "</pre>\n"
            ]
          },
          "metadata": {}
        },
        {
          "output_type": "display_data",
          "data": {
            "text/plain": [
              "\u001b[1m Non-trainable params: \u001b[0m\u001b[38;5;34m0\u001b[0m (0.00 B)\n"
            ],
            "text/html": [
              "<pre style=\"white-space:pre;overflow-x:auto;line-height:normal;font-family:Menlo,'DejaVu Sans Mono',consolas,'Courier New',monospace\"><span style=\"font-weight: bold\"> Non-trainable params: </span><span style=\"color: #00af00; text-decoration-color: #00af00\">0</span> (0.00 B)\n",
              "</pre>\n"
            ]
          },
          "metadata": {}
        }
      ]
    },
    {
      "cell_type": "code",
      "source": [],
      "metadata": {
        "id": "qwvj-b2ULuI5"
      },
      "execution_count": null,
      "outputs": []
    }
  ]
}